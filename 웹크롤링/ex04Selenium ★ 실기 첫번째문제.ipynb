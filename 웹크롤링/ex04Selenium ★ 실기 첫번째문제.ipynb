{
 "cells": [
  {
   "cell_type": "markdown",
   "id": "73517baa",
   "metadata": {},
   "source": [
    "## 파이썬 코드를 통해서 브라우저를 제어하는 역할\n",
    "- 창을 키고 클릭하고 검색하고 뒤로가고 이런행동들을 파이썬이해줄거"
   ]
  },
  {
   "cell_type": "code",
   "execution_count": 1,
   "id": "3340906d",
   "metadata": {
    "collapsed": true
   },
   "outputs": [
    {
     "name": "stdout",
     "output_type": "stream",
     "text": [
      "Collecting selenium\n",
      "  Downloading selenium-4.1.3-py3-none-any.whl (968 kB)\n",
      "Requirement already satisfied: urllib3[secure,socks]~=1.26 in c:\\users\\smhrd\\anaconda3\\lib\\site-packages (from selenium) (1.26.7)\n",
      "Collecting trio-websocket~=0.9\n",
      "  Downloading trio_websocket-0.9.2-py3-none-any.whl (16 kB)\n",
      "Collecting trio~=0.17\n",
      "  Downloading trio-0.20.0-py3-none-any.whl (359 kB)\n",
      "Requirement already satisfied: idna in c:\\users\\smhrd\\anaconda3\\lib\\site-packages (from trio~=0.17->selenium) (3.2)\n",
      "Requirement already satisfied: sortedcontainers in c:\\users\\smhrd\\anaconda3\\lib\\site-packages (from trio~=0.17->selenium) (2.4.0)\n",
      "Collecting outcome\n",
      "  Downloading outcome-1.1.0-py2.py3-none-any.whl (9.7 kB)\n",
      "Requirement already satisfied: sniffio in c:\\users\\smhrd\\anaconda3\\lib\\site-packages (from trio~=0.17->selenium) (1.2.0)\n",
      "Requirement already satisfied: attrs>=19.2.0 in c:\\users\\smhrd\\anaconda3\\lib\\site-packages (from trio~=0.17->selenium) (21.2.0)\n",
      "Requirement already satisfied: cffi>=1.14 in c:\\users\\smhrd\\anaconda3\\lib\\site-packages (from trio~=0.17->selenium) (1.14.6)\n",
      "Requirement already satisfied: async-generator>=1.9 in c:\\users\\smhrd\\anaconda3\\lib\\site-packages (from trio~=0.17->selenium) (1.10)\n",
      "Requirement already satisfied: pycparser in c:\\users\\smhrd\\anaconda3\\lib\\site-packages (from cffi>=1.14->trio~=0.17->selenium) (2.20)\n",
      "Collecting wsproto>=0.14\n",
      "  Downloading wsproto-1.1.0-py3-none-any.whl (24 kB)\n",
      "Requirement already satisfied: PySocks!=1.5.7,<2.0,>=1.5.6 in c:\\users\\smhrd\\anaconda3\\lib\\site-packages (from urllib3[secure,socks]~=1.26->selenium) (1.7.1)\n",
      "Requirement already satisfied: pyOpenSSL>=0.14 in c:\\users\\smhrd\\anaconda3\\lib\\site-packages (from urllib3[secure,socks]~=1.26->selenium) (21.0.0)\n",
      "Requirement already satisfied: cryptography>=1.3.4 in c:\\users\\smhrd\\anaconda3\\lib\\site-packages (from urllib3[secure,socks]~=1.26->selenium) (3.4.8)\n",
      "Requirement already satisfied: certifi in c:\\users\\smhrd\\anaconda3\\lib\\site-packages (from urllib3[secure,socks]~=1.26->selenium) (2021.10.8)\n",
      "Requirement already satisfied: six>=1.5.2 in c:\\users\\smhrd\\anaconda3\\lib\\site-packages (from pyOpenSSL>=0.14->urllib3[secure,socks]~=1.26->selenium) (1.16.0)\n",
      "Collecting h11<1,>=0.9.0\n",
      "  Downloading h11-0.13.0-py3-none-any.whl (58 kB)\n",
      "Installing collected packages: outcome, h11, wsproto, trio, trio-websocket, selenium\n",
      "Successfully installed h11-0.13.0 outcome-1.1.0 selenium-4.1.3 trio-0.20.0 trio-websocket-0.9.2 wsproto-1.1.0\n"
     ]
    }
   ],
   "source": [
    "# 라이브러리를 반드시 한번 설치를 해줘야함(내장 함수가 아니라서!)\n",
    "!pip install selenium\n",
    "#pip라는 공간에서 install하겠다 명령\n",
    "#selenium이 패키지임"
   ]
  },
  {
   "cell_type": "code",
   "execution_count": 2,
   "id": "cda5a3e8",
   "metadata": {},
   "outputs": [],
   "source": [
    "# webdriver = 웹을 통제하는 라이브러리(브라우저역할- 눈에보이는동작을하는)  -request랑 비슷한\n",
    "# Keys = 웹을 통해 값을 입력할 때 쓰는 라이브러리(컴퓨터용 키보드)-값을전달해주기위해\n",
    "# time = 컴퓨터에게 중간중간 쉬는시간을 부여하는 라이브러리\n",
    "from selenium import webdriver as wb\n",
    "from selenium.webdriver.common.keys import Keys\n",
    "import time"
   ]
  },
  {
   "cell_type": "markdown",
   "id": "97502fde",
   "metadata": {},
   "source": [
    "##### 코드에게 시킬 행동들 (제어하는 방법) ★\n",
    "- 다 명시해주는게 좋음 !"
   ]
  },
  {
   "cell_type": "code",
   "execution_count": 5,
   "id": "515d2b51",
   "metadata": {},
   "outputs": [],
   "source": [
    "# 1. 크롬브라우저를 실행\n",
    "# 컴퓨터용(컴퓨터가 쓸수있는) 크롬브라우저를 설치= 크롬드라이버\n",
    "#크롬드라이버 파일을 현재 내가 작업중인 공간에 이동\n",
    "\n",
    "#크롬드라이버를 키라고 명령을 할껀데 그 명령을 webdriver한테 할거임\n",
    "\n",
    "driver = wb.Chrome()\n",
    "#켜진 브라우저창이 이제 driver임!"
   ]
  },
  {
   "cell_type": "code",
   "execution_count": 6,
   "id": "859a1c48",
   "metadata": {},
   "outputs": [],
   "source": [
    "# 2. 네이버페이지로 이동\n",
    "driver.get(\"http://www.naver.com\")"
   ]
  },
  {
   "cell_type": "code",
   "execution_count": 8,
   "id": "d9386815",
   "metadata": {},
   "outputs": [
    {
     "name": "stderr",
     "output_type": "stream",
     "text": [
      "C:\\Users\\smhrd\\AppData\\Local\\Temp/ipykernel_2316/1029529799.py:3: DeprecationWarning: find_element_by_* commands are deprecated. Please use find_element() instead\n",
      "  search = driver.find_element_by_id(\"query\")  #검색창찾음\n"
     ]
    }
   ],
   "source": [
    "# 3. 검색창에 코로나 입력\n",
    "# 너가 보고있는 브라우저에서 아이디가 query인 요소를 찾아와!\n",
    "search = driver.find_element_by_id(\"query\")  #검색창찾음 이게 검색창인걸 위치즉 어떤 태그인지 알려주기\n",
    "\n",
    "search.send_keys(\"코로나\") # 내가 찾아온 검색창에 입력할 키들을 보내겠다"
   ]
  },
  {
   "cell_type": "code",
   "execution_count": 10,
   "id": "438703c1",
   "metadata": {},
   "outputs": [],
   "source": [
    "# 4. 검색을 진행(엔터를 치는방법, 검색버튼을 클릭하는 방법) -키보드에있는 기능을 보낼때는 keys라는 키로 명령\n",
    "search.send_keys(Keys.ENTER)"
   ]
  },
  {
   "cell_type": "code",
   "execution_count": 11,
   "id": "3581d42a",
   "metadata": {},
   "outputs": [],
   "source": [
    "# 5. 페이지 뒤로가기 실행(얘는 브라우저기능이라 브라우저에게 닫으라고 명령만주기)\n",
    "driver.back()"
   ]
  },
  {
   "cell_type": "code",
   "execution_count": 12,
   "id": "8368a330",
   "metadata": {},
   "outputs": [
    {
     "name": "stderr",
     "output_type": "stream",
     "text": [
      "C:\\Users\\smhrd\\AppData\\Local\\Temp/ipykernel_2316/3259409413.py:3: DeprecationWarning: find_element_by_* commands are deprecated. Please use find_element() instead\n",
      "  search = driver.find_element_by_id(\"query\")\n"
     ]
    }
   ],
   "source": [
    " # 6. 다시 검색창에 손흥민 검색 -페이지가 바껴서 다시명시해줘야함\n",
    "    #샐리니윰은-페이지가 바뀐순간 모든 변수가 초기화되는거임\n",
    "search = driver.find_element_by_id(\"query\")\n",
    "search.send_keys(\"손흥민\")"
   ]
  },
  {
   "cell_type": "code",
   "execution_count": 13,
   "id": "465529b6",
   "metadata": {},
   "outputs": [
    {
     "name": "stderr",
     "output_type": "stream",
     "text": [
      "C:\\Users\\smhrd\\AppData\\Local\\Temp/ipykernel_2316/2155860040.py:2: DeprecationWarning: find_element_by_* commands are deprecated. Please use find_element() instead\n",
      "  btn = driver.find_element_by_id(\"search_btn\")\n"
     ]
    }
   ],
   "source": [
    "# 클릭해서 검색 - 검색버튼\n",
    "btn = driver.find_element_by_id(\"search_btn\")  #돋보기버튼 위치를알아서 커서를 올려놓고\n",
    "btn.click()  #그 찾아논 버튼에게 클릭이라는 기능 명령!"
   ]
  },
  {
   "cell_type": "code",
   "execution_count": 14,
   "id": "f1d91b35",
   "metadata": {},
   "outputs": [],
   "source": [
    "# 7. 브라우저 종료(닫기) -브라우저가가진기능이니 driver에 명령주기\n",
    "driver.close()"
   ]
  },
  {
   "cell_type": "markdown",
   "id": "9e52d4fc",
   "metadata": {},
   "source": [
    "#### 우리가 가진 행동의 과정을 하나씩 컴퓨터에게 명시해주는게 셀레니윰!!"
   ]
  },
  {
   "cell_type": "code",
   "execution_count": null,
   "id": "dc0f04e3",
   "metadata": {},
   "outputs": [],
   "source": []
  },
  {
   "cell_type": "code",
   "execution_count": null,
   "id": "e8a00c6b",
   "metadata": {},
   "outputs": [],
   "source": []
  }
 ],
 "metadata": {
  "kernelspec": {
   "display_name": "Python 3 (ipykernel)",
   "language": "python",
   "name": "python3"
  },
  "language_info": {
   "codemirror_mode": {
    "name": "ipython",
    "version": 3
   },
   "file_extension": ".py",
   "mimetype": "text/x-python",
   "name": "python",
   "nbconvert_exporter": "python",
   "pygments_lexer": "ipython3",
   "version": "3.9.7"
  }
 },
 "nbformat": 4,
 "nbformat_minor": 5
}
