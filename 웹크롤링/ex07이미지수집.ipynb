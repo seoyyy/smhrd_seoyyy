{
 "cells": [
  {
   "cell_type": "markdown",
   "id": "95b364ab",
   "metadata": {},
   "source": [
    "# 네이버 페이지에서 이미지 데이터 수집"
   ]
  },
  {
   "cell_type": "code",
   "execution_count": 2,
   "id": "51b00ed7",
   "metadata": {},
   "outputs": [],
   "source": [
    "from selenium import webdriver as wb\n",
    "from bs4 import BeautifulSoup as bs\n",
    "import time\n",
    "#파일시스템을 위한 라이브러리 ex) 파일, 폴더를 생성,삭제\n",
    "import os\n",
    "#이미지의 경로를 파일로 변환시켜주는 라이브러리\n",
    "from urllib.request import urlretrieve"
   ]
  },
  {
   "cell_type": "code",
   "execution_count": 3,
   "id": "cfaf9932",
   "metadata": {},
   "outputs": [],
   "source": [
    "# 코딩을 통해서 바탕화면에 폴더를 생성 -> os라는 친구가해줌\n",
    "\n",
    "# 터미널 명령\n",
    "# mk :만들기\n",
    "# rm :지우기\n",
    "# cd : 경로변경\n",
    "# ls : 파일확인\n",
    "# ed : 편집\n",
    "\n",
    "#os한테 경로를 알아오라고시킬거ㅑㅇ 그리고 폴더가 잇는지 그경로에있는지 isdir\n",
    "if not os.path.isdir(\"C:/Users/smhrd/Desktop/이미지\"):\n",
    "    os.mkdir(\"C:/Users/smhrd/Desktop/이미지\")"
   ]
  },
  {
   "cell_type": "code",
   "execution_count": 18,
   "id": "76b9c3b5",
   "metadata": {},
   "outputs": [],
   "source": [
    "driver = wb.Chrome()\n",
    "driver.get(\"https://search.naver.com/search.naver?where=image&sm=tab_jum&query=%EA%B3%B5%EC%9C%A0\")"
   ]
  },
  {
   "cell_type": "code",
   "execution_count": null,
   "id": "99909e48",
   "metadata": {},
   "outputs": [],
   "source": []
  },
  {
   "cell_type": "code",
   "execution_count": 7,
   "id": "b5e5e866",
   "metadata": {},
   "outputs": [],
   "source": [
    "#이미지들의 경로값 알아오기\n",
    "soup = bs(driver.page_source,\"lxml\")"
   ]
  },
  {
   "cell_type": "code",
   "execution_count": 10,
   "id": "4f43eae9",
   "metadata": {},
   "outputs": [],
   "source": [
    "img = soup.select(\"img._image._listImage\")"
   ]
  },
  {
   "cell_type": "code",
   "execution_count": 12,
   "id": "9a746000",
   "metadata": {},
   "outputs": [
    {
     "data": {
      "text/plain": [
       "'https://search.pstatic.net/common/?src=http%3A%2F%2Fblogfiles.naver.net%2FMjAyMTA4MDNfOTEg%2FMDAxNjI3OTgxMzk5MDE3.m_cwb57iGkVh0qFgngpoVL5LA9O39GsMIUaOKtI8eeIg.4fae-HVc6uziND9vfTZ2T14ze-lD0MRe4-2h3GYvO_sg.JPEG.dnwls9446%2F%25B4%25D9%25BF%25EE%25B7%25CE%25B5%25E5.jpg&type=a340'"
      ]
     },
     "execution_count": 12,
     "metadata": {},
     "output_type": "execute_result"
    }
   ],
   "source": [
    "#수집한 요소에서 컨텐츠가 아닌 속성을 추출하는 방법\n",
    "img[0][\"src\"]"
   ]
  },
  {
   "cell_type": "code",
   "execution_count": 14,
   "id": "08429081",
   "metadata": {
    "scrolled": true
   },
   "outputs": [
    {
     "data": {
      "text/plain": [
       "['https://search.pstatic.net/common/?src=http%3A%2F%2Fblogfiles.naver.net%2FMjAyMTA4MDNfOTEg%2FMDAxNjI3OTgxMzk5MDE3.m_cwb57iGkVh0qFgngpoVL5LA9O39GsMIUaOKtI8eeIg.4fae-HVc6uziND9vfTZ2T14ze-lD0MRe4-2h3GYvO_sg.JPEG.dnwls9446%2F%25B4%25D9%25BF%25EE%25B7%25CE%25B5%25E5.jpg&type=a340',\n",
       " 'https://search.pstatic.net/sunny/?src=https%3A%2F%2Fi.pinimg.com%2F736x%2F8d%2F32%2Fa9%2F8d32a9f9b66c26ec9e4e79a0b9dc1da9--cancer-gong-yoo.jpg&type=a340',\n",
       " 'https://search.pstatic.net/common/?src=http%3A%2F%2Fblogfiles.naver.net%2FMjAyMjAzMDdfMjQ0%2FMDAxNjQ2NjQ4ODcxMzIw.RUPB_7TIgdD6hSmSOnfbY2EY-l0N0Dzl-BGaiKVPVz8g.JGoKrND3Uoc2a8gY6B5aTujEkvrWMvrmDoeYxhRgMFUg.JPEG.lovelyou29%2FtvN_%25B5%25B5%25B1%25FA%25BA%25F1.E09.161230.720p-NEXT.mp4_010548.289.jpg&type=a340',\n",
       " 'https://search.pstatic.net/common/?src=http%3A%2F%2Fblogfiles.naver.net%2FMjAyMjAzMTRfMjMw%2FMDAxNjQ3MjMwNjAxODEx.1QVYpBvXU6lOn54d_7ytHYCvi7XgXEmiA42Mu_O5wlog.ugyEEG-0i9DbVtDe7NyrrJujh8bzUmVTP5uM9-y6A60g.JPEG.ari_aile%2F%25B0%25F8%25C0%25AF%25BB%25E7%25C1%25F8.JPG&type=a340',\n",
       " 'https://search.pstatic.net/sunny/?src=https%3A%2F%2Fi.pinimg.com%2F736x%2Fcc%2Fe1%2F25%2Fcce1257880ab2ea16f9da6d2c69ab4b5.jpg&type=a340',\n",
       " 'https://search.pstatic.net/common/?src=http%3A%2F%2Fblogfiles.naver.net%2FMjAyMjAxMDFfMzAg%2FMDAxNjQxMDE1MTI4Mjgw.brlky-qKO1rZMa08_KgKhSt2GnvYFMFMvaFvl03j4ZIg.hdRtvWLwaAmOSzLFwP7IzGEPgJW4sJYRv4FEapokHScg.JPEG.sjjs0129%2FIMG_5166.jpg&type=a340',\n",
       " 'https://search.pstatic.net/common/?src=http%3A%2F%2Fblogfiles.naver.net%2FMjAyMTA5MDZfMTQ3%2FMDAxNjMwODkxMTY3NzM4.9tKNXoVkIscr_w_VJP5RYFHbye5Z0V_0TUsEXxfQ_-Ug.5GzWbjyyR2Q8NqVbEDscoxh2y5qTl4GL5WZfUI8uPOgg.JPEG.yoyo361%2F7722603300827f6992fce1a1386c4225.jpg&type=a340',\n",
       " 'https://search.pstatic.net/common/?src=http%3A%2F%2Fblogfiles.naver.net%2FMjAyMTA5MTlfODcg%2FMDAxNjMyMDI1OTA3NzU2.wPh6ddvCmqpEgfYseezEpGCytFN7-lG2j95nm1SRJakg.2q2hjuJ3MzUJ9oitiXUXI2QLMy0mzXjoLDdld7IjKFsg.JPEG.hyoyoung8204%2F28%25BF%25C0%25C2%25A1%25BE%25EE%25B0%25D4%25C0%25D3.jpeg&type=a340',\n",
       " 'https://search.pstatic.net/common/?src=http%3A%2F%2Fblogfiles.naver.net%2FMjAyMTEyMjhfMjg0%2FMDAxNjQwNjU3NDM2MTky.MUZ7zckqHGD59vLYLCz4m5Cj-Vq6pXZiro1826xphWAg.2Tx51-l7ytZ3W-2bw7Q91rcVjFKQzXzzBR_vW9kfIYgg.PNG.budaso%2F11.PNG&type=a340',\n",
       " 'https://search.pstatic.net/sunny/?src=https%3A%2F%2Fi.pinimg.com%2F736x%2F16%2Fe0%2Fba%2F16e0ba6a1a798eb7e7ad79e776afa6ac.jpg&type=a340',\n",
       " 'data:image/gif;base64,R0lGODlhAQABAIAAAAAAAP///yH5BAEAAAAALAAAAAABAAEAAAIBRAA7',\n",
       " 'data:image/gif;base64,R0lGODlhAQABAIAAAAAAAP///yH5BAEAAAAALAAAAAABAAEAAAIBRAA7',\n",
       " 'data:image/gif;base64,R0lGODlhAQABAIAAAAAAAP///yH5BAEAAAAALAAAAAABAAEAAAIBRAA7',\n",
       " 'data:image/gif;base64,R0lGODlhAQABAIAAAAAAAP///yH5BAEAAAAALAAAAAABAAEAAAIBRAA7',\n",
       " 'data:image/gif;base64,R0lGODlhAQABAIAAAAAAAP///yH5BAEAAAAALAAAAAABAAEAAAIBRAA7',\n",
       " 'data:image/gif;base64,R0lGODlhAQABAIAAAAAAAP///yH5BAEAAAAALAAAAAABAAEAAAIBRAA7',\n",
       " 'data:image/gif;base64,R0lGODlhAQABAIAAAAAAAP///yH5BAEAAAAALAAAAAABAAEAAAIBRAA7',\n",
       " 'data:image/gif;base64,R0lGODlhAQABAIAAAAAAAP///yH5BAEAAAAALAAAAAABAAEAAAIBRAA7',\n",
       " 'data:image/gif;base64,R0lGODlhAQABAIAAAAAAAP///yH5BAEAAAAALAAAAAABAAEAAAIBRAA7',\n",
       " 'data:image/gif;base64,R0lGODlhAQABAIAAAAAAAP///yH5BAEAAAAALAAAAAABAAEAAAIBRAA7',\n",
       " 'data:image/gif;base64,R0lGODlhAQABAIAAAAAAAP///yH5BAEAAAAALAAAAAABAAEAAAIBRAA7',\n",
       " 'data:image/gif;base64,R0lGODlhAQABAIAAAAAAAP///yH5BAEAAAAALAAAAAABAAEAAAIBRAA7',\n",
       " 'data:image/gif;base64,R0lGODlhAQABAIAAAAAAAP///yH5BAEAAAAALAAAAAABAAEAAAIBRAA7',\n",
       " 'data:image/gif;base64,R0lGODlhAQABAIAAAAAAAP///yH5BAEAAAAALAAAAAABAAEAAAIBRAA7',\n",
       " 'data:image/gif;base64,R0lGODlhAQABAIAAAAAAAP///yH5BAEAAAAALAAAAAABAAEAAAIBRAA7',\n",
       " 'data:image/gif;base64,R0lGODlhAQABAIAAAAAAAP///yH5BAEAAAAALAAAAAABAAEAAAIBRAA7',\n",
       " 'data:image/gif;base64,R0lGODlhAQABAIAAAAAAAP///yH5BAEAAAAALAAAAAABAAEAAAIBRAA7',\n",
       " 'data:image/gif;base64,R0lGODlhAQABAIAAAAAAAP///yH5BAEAAAAALAAAAAABAAEAAAIBRAA7',\n",
       " 'data:image/gif;base64,R0lGODlhAQABAIAAAAAAAP///yH5BAEAAAAALAAAAAABAAEAAAIBRAA7',\n",
       " 'data:image/gif;base64,R0lGODlhAQABAIAAAAAAAP///yH5BAEAAAAALAAAAAABAAEAAAIBRAA7',\n",
       " 'data:image/gif;base64,R0lGODlhAQABAIAAAAAAAP///yH5BAEAAAAALAAAAAABAAEAAAIBRAA7',\n",
       " 'data:image/gif;base64,R0lGODlhAQABAIAAAAAAAP///yH5BAEAAAAALAAAAAABAAEAAAIBRAA7',\n",
       " 'data:image/gif;base64,R0lGODlhAQABAIAAAAAAAP///yH5BAEAAAAALAAAAAABAAEAAAIBRAA7',\n",
       " 'data:image/gif;base64,R0lGODlhAQABAIAAAAAAAP///yH5BAEAAAAALAAAAAABAAEAAAIBRAA7',\n",
       " 'data:image/gif;base64,R0lGODlhAQABAIAAAAAAAP///yH5BAEAAAAALAAAAAABAAEAAAIBRAA7',\n",
       " 'data:image/gif;base64,R0lGODlhAQABAIAAAAAAAP///yH5BAEAAAAALAAAAAABAAEAAAIBRAA7',\n",
       " 'data:image/gif;base64,R0lGODlhAQABAIAAAAAAAP///yH5BAEAAAAALAAAAAABAAEAAAIBRAA7',\n",
       " 'data:image/gif;base64,R0lGODlhAQABAIAAAAAAAP///yH5BAEAAAAALAAAAAABAAEAAAIBRAA7',\n",
       " 'data:image/gif;base64,R0lGODlhAQABAIAAAAAAAP///yH5BAEAAAAALAAAAAABAAEAAAIBRAA7',\n",
       " 'data:image/gif;base64,R0lGODlhAQABAIAAAAAAAP///yH5BAEAAAAALAAAAAABAAEAAAIBRAA7',\n",
       " 'data:image/gif;base64,R0lGODlhAQABAIAAAAAAAP///yH5BAEAAAAALAAAAAABAAEAAAIBRAA7',\n",
       " 'data:image/gif;base64,R0lGODlhAQABAIAAAAAAAP///yH5BAEAAAAALAAAAAABAAEAAAIBRAA7',\n",
       " 'data:image/gif;base64,R0lGODlhAQABAIAAAAAAAP///yH5BAEAAAAALAAAAAABAAEAAAIBRAA7',\n",
       " 'data:image/gif;base64,R0lGODlhAQABAIAAAAAAAP///yH5BAEAAAAALAAAAAABAAEAAAIBRAA7',\n",
       " 'data:image/gif;base64,R0lGODlhAQABAIAAAAAAAP///yH5BAEAAAAALAAAAAABAAEAAAIBRAA7',\n",
       " 'data:image/gif;base64,R0lGODlhAQABAIAAAAAAAP///yH5BAEAAAAALAAAAAABAAEAAAIBRAA7',\n",
       " 'data:image/gif;base64,R0lGODlhAQABAIAAAAAAAP///yH5BAEAAAAALAAAAAABAAEAAAIBRAA7',\n",
       " 'data:image/gif;base64,R0lGODlhAQABAIAAAAAAAP///yH5BAEAAAAALAAAAAABAAEAAAIBRAA7',\n",
       " 'data:image/gif;base64,R0lGODlhAQABAIAAAAAAAP///yH5BAEAAAAALAAAAAABAAEAAAIBRAA7',\n",
       " 'data:image/gif;base64,R0lGODlhAQABAIAAAAAAAP///yH5BAEAAAAALAAAAAABAAEAAAIBRAA7']"
      ]
     },
     "execution_count": 14,
     "metadata": {},
     "output_type": "execute_result"
    }
   ],
   "source": [
    "imgList=[]\n",
    "for i in img :\n",
    "    imgList.append(i[\"src\"])\n",
    "imgList"
   ]
  },
  {
   "cell_type": "code",
   "execution_count": 17,
   "id": "6af69cd2",
   "metadata": {
    "scrolled": true
   },
   "outputs": [],
   "source": [
    "for i in range(40):\n",
    "    urlretrieve(imgList[i],\"C:/Users/smhrd/Desktop/이미지/\"+str(i)+\".jpg\")\n",
    "    time.sleep(0.5)"
   ]
  },
  {
   "cell_type": "markdown",
   "id": "febf9082",
   "metadata": {},
   "source": [
    "### 화면 스크롤 동작\n",
    "- 샐래니윰 특징이 사용자 개입을 아예 빼는거닌까"
   ]
  },
  {
   "cell_type": "code",
   "execution_count": 19,
   "id": "934ecaaa",
   "metadata": {},
   "outputs": [],
   "source": [
    "from selenium.webdriver.common.keys import Keys"
   ]
  },
  {
   "cell_type": "code",
   "execution_count": 20,
   "id": "0cf6a1ea",
   "metadata": {},
   "outputs": [
    {
     "name": "stderr",
     "output_type": "stream",
     "text": [
      "C:\\Users\\smhrd\\AppData\\Local\\Temp/ipykernel_7980/3633971672.py:2: DeprecationWarning: find_element_by_css_selector is deprecated. Please use find_element(by=By.CSS_SELECTOR, value=css_selector) instead\n",
      "  body = driver.find_element_by_css_selector(\"body\")\n"
     ]
    }
   ],
   "source": [
    "# 키보드에 있는 end키를 통해서 스크롤 진행\n",
    "body = driver.find_element_by_css_selector(\"body\")\n",
    "for i in range(20) :\n",
    "    body.send_keys(Keys.END)\n",
    "    time.sleep(1)"
   ]
  },
  {
   "cell_type": "code",
   "execution_count": null,
   "id": "3b2a4dd5",
   "metadata": {},
   "outputs": [],
   "source": [
    "soup=bs(driver.page_source,\"lxml\")"
   ]
  },
  {
   "cell_type": "code",
   "execution_count": null,
   "id": "2ebe471e",
   "metadata": {},
   "outputs": [],
   "source": [
    "soup"
   ]
  },
  {
   "cell_type": "code",
   "execution_count": null,
   "id": "3a1e0477",
   "metadata": {},
   "outputs": [],
   "source": []
  }
 ],
 "metadata": {
  "kernelspec": {
   "display_name": "Python 3 (ipykernel)",
   "language": "python",
   "name": "python3"
  },
  "language_info": {
   "codemirror_mode": {
    "name": "ipython",
    "version": 3
   },
   "file_extension": ".py",
   "mimetype": "text/x-python",
   "name": "python",
   "nbconvert_exporter": "python",
   "pygments_lexer": "ipython3",
   "version": "3.8.13"
  }
 },
 "nbformat": 4,
 "nbformat_minor": 5
}
