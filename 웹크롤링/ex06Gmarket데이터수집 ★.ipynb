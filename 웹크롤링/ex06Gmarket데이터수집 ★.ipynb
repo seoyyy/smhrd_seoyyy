{
 "cells": [
  {
   "cell_type": "code",
   "execution_count": 1,
   "id": "a0a34d06",
   "metadata": {},
   "outputs": [
    {
     "ename": "ModuleNotFoundError",
     "evalue": "No module named 'selenium'",
     "output_type": "error",
     "traceback": [
      "\u001b[1;31m---------------------------------------------------------------------------\u001b[0m",
      "\u001b[1;31mModuleNotFoundError\u001b[0m                       Traceback (most recent call last)",
      "Input \u001b[1;32mIn [1]\u001b[0m, in \u001b[0;36m<cell line: 1>\u001b[1;34m()\u001b[0m\n\u001b[1;32m----> 1\u001b[0m \u001b[38;5;28;01mfrom\u001b[39;00m \u001b[38;5;21;01mselenium\u001b[39;00m \u001b[38;5;28;01mimport\u001b[39;00m webdriver \u001b[38;5;28;01mas\u001b[39;00m wb\n\u001b[0;32m      2\u001b[0m \u001b[38;5;28;01mimport\u001b[39;00m \u001b[38;5;21;01mtime\u001b[39;00m\n\u001b[0;32m      3\u001b[0m \u001b[38;5;28;01mimport\u001b[39;00m \u001b[38;5;21;01mpandas\u001b[39;00m \u001b[38;5;28;01mas\u001b[39;00m \u001b[38;5;21;01mpd\u001b[39;00m\n",
      "\u001b[1;31mModuleNotFoundError\u001b[0m: No module named 'selenium'"
     ]
    }
   ],
   "source": [
    "from selenium import webdriver as wb\n",
    "import time\n",
    "import pandas as pd"
   ]
  },
  {
   "cell_type": "markdown",
   "id": "19ab4b80",
   "metadata": {},
   "source": [
    "##### request를 쓰고 안쓰고의 차이\n",
    "- web드라이버가 브라우저 사용해서 가져오는거고 request가 브라우저 사용안하는고 url주소만 불러서 가져오는방식\n",
    "- 그래서 req를 쓰면 데이터를 문서로 가져오닌까 뷰티풀숲(우리랑컴퓨터가인식할수있는언어로 바꿔주는)이 필요했던거\n",
    "- \n",
    "- 멜론차트-request사용\n",
    "- 자동제어해서 라는 말이나오면 셀레니윰사용해서 "
   ]
  },
  {
   "cell_type": "code",
   "execution_count": 3,
   "id": "fa9fba70",
   "metadata": {},
   "outputs": [],
   "source": [
    "# 1. 크롬브라우저 실행\n",
    "# 1.1 gmarket 사이트로 이동\n",
    "driver = wb.Chrome()\n",
    "driver.get(\"http://corners.gmarket.co.kr/Bestsellers\")"
   ]
  },
  {
   "cell_type": "code",
   "execution_count": 17,
   "id": "4767d425",
   "metadata": {},
   "outputs": [
    {
     "name": "stderr",
     "output_type": "stream",
     "text": [
      "C:\\Users\\smhrd\\AppData\\Local\\Temp/ipykernel_6452/3505505381.py:3: DeprecationWarning: find_elements_by_css_selector is deprecated. Please use find_elements(by=By.CSS_SELECTOR, value=css_selector) instead\n",
      "  img = driver.find_elements_by_css_selector(\"img.lazy\")\n"
     ]
    }
   ],
   "source": [
    "# 2. 첫번째 상품을 클릭해서 페이지를 이동\n",
    "# 힌트! 상품의 이미지를 클릭!\n",
    "img = driver.find_elements_by_css_selector(\"img.lazy\")\n",
    "#첫번째상품인지아닌지 구분한 태그\n",
    "img[0].click()"
   ]
  },
  {
   "cell_type": "code",
   "execution_count": 20,
   "id": "b3cfa481",
   "metadata": {},
   "outputs": [
    {
     "name": "stderr",
     "output_type": "stream",
     "text": [
      "C:\\Users\\smhrd\\AppData\\Local\\Temp/ipykernel_6452/2502125623.py:4: DeprecationWarning: find_element_by_css_selector is deprecated. Please use find_element(by=By.CSS_SELECTOR, value=css_selector) instead\n",
      "  product = driver.find_element_by_css_selector(\"h1.itemtit\")\n"
     ]
    },
    {
     "data": {
      "text/plain": [
       "'올반 꿔바로우 1.2kg x 2팩 (중국식 탕수육)'"
      ]
     },
     "execution_count": 20,
     "metadata": {},
     "output_type": "execute_result"
    }
   ],
   "source": [
    "# 3. 상품의 이름정보 수집\n",
    "# 3.1 상품의 가격정보 수집\n",
    "# 3.2 상품의 카테고리(마지막) 수집\n",
    "product = driver.find_element_by_css_selector(\"h1.itemtit\")\n",
    "product.text\n"
   ]
  },
  {
   "cell_type": "code",
   "execution_count": 23,
   "id": "dfccce45",
   "metadata": {},
   "outputs": [
    {
     "name": "stderr",
     "output_type": "stream",
     "text": [
      "C:\\Users\\smhrd\\AppData\\Local\\Temp/ipykernel_6452/2031768530.py:1: DeprecationWarning: find_element_by_css_selector is deprecated. Please use find_element(by=By.CSS_SELECTOR, value=css_selector) instead\n",
      "  price = driver.find_element_by_css_selector(\"strong.price_real\")\n"
     ]
    },
    {
     "data": {
      "text/plain": [
       "'22,500원'"
      ]
     },
     "execution_count": 23,
     "metadata": {},
     "output_type": "execute_result"
    }
   ],
   "source": [
    "price = driver.find_element_by_css_selector(\"strong.price_real\")\n",
    "price.text\n"
   ]
  },
  {
   "cell_type": "code",
   "execution_count": 24,
   "id": "aef3d6b6",
   "metadata": {},
   "outputs": [
    {
     "name": "stderr",
     "output_type": "stream",
     "text": [
      "C:\\Users\\smhrd\\AppData\\Local\\Temp/ipykernel_6452/1525760359.py:1: DeprecationWarning: find_element_by_css_selector is deprecated. Please use find_element(by=By.CSS_SELECTOR, value=css_selector) instead\n",
      "  category = driver.find_element_by_css_selector(\"li.on>a\")\n"
     ]
    },
    {
     "data": {
      "text/plain": [
       "'냉동/즉석식품'"
      ]
     },
     "execution_count": 24,
     "metadata": {},
     "output_type": "execute_result"
    }
   ],
   "source": [
    "category = driver.find_element_by_css_selector(\"li.on>a\")\n",
    "#이렇게 클래스네임이나 아이디가없는거처럼 구분자가 없을때 그위 있는 부모태그이용\n",
    "category.text"
   ]
  },
  {
   "cell_type": "code",
   "execution_count": 16,
   "id": "8090a144",
   "metadata": {},
   "outputs": [],
   "source": [
    "# 4. 페이지를 뒤로가기 실행 (다음상품데이터얻기위해)\n",
    "driver.back()\n",
    "# -한상품 수집하는 한 사이클 끝 - "
   ]
  },
  {
   "cell_type": "markdown",
   "id": "af996376",
   "metadata": {},
   "source": [
    "### 1번부터 10번까지 데이터를 수집"
   ]
  },
  {
   "cell_type": "code",
   "execution_count": 25,
   "id": "5349b153",
   "metadata": {},
   "outputs": [
    {
     "name": "stderr",
     "output_type": "stream",
     "text": [
      "C:\\Users\\smhrd\\AppData\\Local\\Temp/ipykernel_6452/3133079977.py:11: DeprecationWarning: find_elements_by_css_selector is deprecated. Please use find_elements(by=By.CSS_SELECTOR, value=css_selector) instead\n",
      "  img = driver.find_elements_by_css_selector(\"img.lazy\") # 컴퓨터는 화면이 바뀔때마다 내용이 초기화되서 다시 위치를잡아줘야함 그래서 이문장도 반복문에 넣어줘야함-일반적인변수랑 다름 셀레니윰 변수는 화면이바뀌면 그내용이 날아가서 초기화됨\n",
      "C:\\Users\\smhrd\\AppData\\Local\\Temp/ipykernel_6452/3133079977.py:15: DeprecationWarning: find_element_by_css_selector is deprecated. Please use find_element(by=By.CSS_SELECTOR, value=css_selector) instead\n",
      "  product = driver.find_element_by_css_selector(\"h1.itemtit\").text\n",
      "C:\\Users\\smhrd\\AppData\\Local\\Temp/ipykernel_6452/3133079977.py:17: DeprecationWarning: find_element_by_css_selector is deprecated. Please use find_element(by=By.CSS_SELECTOR, value=css_selector) instead\n",
      "  price = driver.find_element_by_css_selector(\"strong.price_real\").text\n",
      "C:\\Users\\smhrd\\AppData\\Local\\Temp/ipykernel_6452/3133079977.py:19: DeprecationWarning: find_element_by_css_selector is deprecated. Please use find_element(by=By.CSS_SELECTOR, value=css_selector) instead\n",
      "  category = driver.find_element_by_css_selector(\"li.on>a\").text\n"
     ]
    }
   ],
   "source": [
    "driver = wb.Chrome()\n",
    "driver.get(\"http://corners.gmarket.co.kr/Bestsellers\")\n",
    "time.sleep(1)\n",
    "\n",
    "#순수한 글자정보만 수집할 리스트 제작\n",
    "productList= []\n",
    "priceList=[]\n",
    "categoryList =[]\n",
    "\n",
    "for i in range(10) :\n",
    "    img = driver.find_elements_by_css_selector(\"img.lazy\") # 컴퓨터는 화면이 바뀔때마다 내용이 초기화되서 다시 위치를잡아줘야함 그래서 이문장도 반복문에 넣어줘야함-일반적인변수랑 다름 셀레니윰 변수는 화면이바뀌면 그내용이 날아가서 초기화됨\n",
    "    img[i].click()\n",
    "    time.sleep(1)\n",
    "\n",
    "    product = driver.find_element_by_css_selector(\"h1.itemtit\").text\n",
    "    productList.append(product) #배열에 가져온데이터 넣어주기\n",
    "    price = driver.find_element_by_css_selector(\"strong.price_real\").text\n",
    "    priceList.append(price)\n",
    "    category = driver.find_element_by_css_selector(\"li.on>a\").text\n",
    "    categoryList.append(category)\n",
    "\n",
    "    driver.back()\n",
    "    time.sleep(1)\n",
    "#----데이터 수집단계----\n",
    "\n",
    "dic={\"상품명\":productList, \"가격\" : priceList, \"카테고리\":categoryList}\n",
    "gmarket = pd.DataFrame(dic)\n",
    "gmarket\n",
    "gmarket.to_csv(\"지마켓.csv\",encoding =\"euc-kr\")\n",
    "#-----데이터 활용단계----\n",
    "\n"
   ]
  },
  {
   "cell_type": "code",
   "execution_count": 26,
   "id": "045e9081",
   "metadata": {},
   "outputs": [
    {
     "data": {
      "text/html": [
       "<div>\n",
       "<style scoped>\n",
       "    .dataframe tbody tr th:only-of-type {\n",
       "        vertical-align: middle;\n",
       "    }\n",
       "\n",
       "    .dataframe tbody tr th {\n",
       "        vertical-align: top;\n",
       "    }\n",
       "\n",
       "    .dataframe thead th {\n",
       "        text-align: right;\n",
       "    }\n",
       "</style>\n",
       "<table border=\"1\" class=\"dataframe\">\n",
       "  <thead>\n",
       "    <tr style=\"text-align: right;\">\n",
       "      <th></th>\n",
       "      <th>상품명</th>\n",
       "      <th>가격</th>\n",
       "      <th>카테고리</th>\n",
       "    </tr>\n",
       "  </thead>\n",
       "  <tbody>\n",
       "    <tr>\n",
       "      <th>0</th>\n",
       "      <td>풀무원 얇은피만두 10봉 노엣지 피자 6판 골라담기</td>\n",
       "      <td>28,500원</td>\n",
       "      <td>만두</td>\n",
       "    </tr>\n",
       "    <tr>\n",
       "      <th>1</th>\n",
       "      <td>올반 꿔바로우 1.2kg x 2팩 (중국식 탕수육)</td>\n",
       "      <td>22,500원</td>\n",
       "      <td>냉동/즉석식품</td>\n",
       "    </tr>\n",
       "    <tr>\n",
       "      <th>2</th>\n",
       "      <td>(신세계강남점)휠라키즈 반팔티셔츠 균일가 15000</td>\n",
       "      <td>15,000원</td>\n",
       "      <td>유아동티셔츠</td>\n",
       "    </tr>\n",
       "    <tr>\n",
       "      <th>3</th>\n",
       "      <td>피코크 떡갈비 (450g X 3팩)</td>\n",
       "      <td>15,500원</td>\n",
       "      <td>떡갈비</td>\n",
       "    </tr>\n",
       "    <tr>\n",
       "      <th>4</th>\n",
       "      <td>체험팩 로스터리R테트라200ml 라떼6팩+아메리카노6팩</td>\n",
       "      <td>7,900원</td>\n",
       "      <td>커피음료</td>\n",
       "    </tr>\n",
       "    <tr>\n",
       "      <th>5</th>\n",
       "      <td>무료반품+22% TANIZ 여름 블로퍼/슬링백/로퍼/운동화</td>\n",
       "      <td>11,000원</td>\n",
       "      <td>블로퍼</td>\n",
       "    </tr>\n",
       "    <tr>\n",
       "      <th>6</th>\n",
       "      <td>(10%+12%+무료반품)여름까지 입는 쿨소재/바지/추리닝</td>\n",
       "      <td>6,900원</td>\n",
       "      <td>라운드넥반팔티</td>\n",
       "    </tr>\n",
       "    <tr>\n",
       "      <th>7</th>\n",
       "      <td>에너자이저 기획 패밀리팩 알카라인 건전지 AA/AAA 48입 모음</td>\n",
       "      <td>18,900원</td>\n",
       "      <td>건전지</td>\n",
       "    </tr>\n",
       "    <tr>\n",
       "      <th>8</th>\n",
       "      <td>성주 꿀 참외 3kg(랜덤과)/품질보장/무료반품</td>\n",
       "      <td>17,900원</td>\n",
       "      <td>참외</td>\n",
       "    </tr>\n",
       "    <tr>\n",
       "      <th>9</th>\n",
       "      <td>장마 알뜰 2kg 안동마 진주마 생마 참마 산마</td>\n",
       "      <td>12,500원</td>\n",
       "      <td>마/야콘</td>\n",
       "    </tr>\n",
       "  </tbody>\n",
       "</table>\n",
       "</div>"
      ],
      "text/plain": [
       "                                    상품명       가격     카테고리\n",
       "0          풀무원 얇은피만두 10봉 노엣지 피자 6판 골라담기  28,500원       만두\n",
       "1          올반 꿔바로우 1.2kg x 2팩 (중국식 탕수육)  22,500원  냉동/즉석식품\n",
       "2          (신세계강남점)휠라키즈 반팔티셔츠 균일가 15000  15,000원   유아동티셔츠\n",
       "3                   피코크 떡갈비 (450g X 3팩)  15,500원      떡갈비\n",
       "4        체험팩 로스터리R테트라200ml 라떼6팩+아메리카노6팩   7,900원     커피음료\n",
       "5      무료반품+22% TANIZ 여름 블로퍼/슬링백/로퍼/운동화  11,000원      블로퍼\n",
       "6      (10%+12%+무료반품)여름까지 입는 쿨소재/바지/추리닝   6,900원  라운드넥반팔티\n",
       "7  에너자이저 기획 패밀리팩 알카라인 건전지 AA/AAA 48입 모음  18,900원      건전지\n",
       "8            성주 꿀 참외 3kg(랜덤과)/품질보장/무료반품  17,900원       참외\n",
       "9            장마 알뜰 2kg 안동마 진주마 생마 참마 산마  12,500원     마/야콘"
      ]
     },
     "execution_count": 26,
     "metadata": {},
     "output_type": "execute_result"
    }
   ],
   "source": [
    "gmarket"
   ]
  },
  {
   "cell_type": "code",
   "execution_count": null,
   "id": "5ea76ace",
   "metadata": {},
   "outputs": [],
   "source": []
  },
  {
   "cell_type": "markdown",
   "id": "4a03a468",
   "metadata": {},
   "source": [
    "# 브라우저가 안보이는 헤드리스 작업 - 백그라운드재생"
   ]
  },
  {
   "cell_type": "code",
   "execution_count": 28,
   "id": "522e82f3",
   "metadata": {},
   "outputs": [],
   "source": [
    "options = wb.ChromeOptions()\n",
    "options.add_argument('headless')\n",
    "options.add_argument('window-size=1920x1080')\n",
    "options.add_argument(\"disable-gpu\")"
   ]
  },
  {
   "cell_type": "code",
   "execution_count": 29,
   "id": "bc14d1a5",
   "metadata": {},
   "outputs": [
    {
     "name": "stderr",
     "output_type": "stream",
     "text": [
      "C:\\Users\\smhrd\\AppData\\Local\\Temp/ipykernel_6452/2932383975.py:1: DeprecationWarning: executable_path has been deprecated, please pass in a Service object\n",
      "  driver = wb.Chrome(\"C:/Users/smhrd/크롤링/chromedriver.exe\",chrome_options= options)\n",
      "C:\\Users\\smhrd\\AppData\\Local\\Temp/ipykernel_6452/2932383975.py:1: DeprecationWarning: use options instead of chrome_options\n",
      "  driver = wb.Chrome(\"C:/Users/smhrd/크롤링/chromedriver.exe\",chrome_options= options)\n",
      "C:\\Users\\smhrd\\AppData\\Local\\Temp/ipykernel_6452/2932383975.py:9: DeprecationWarning: find_elements_by_css_selector is deprecated. Please use find_elements(by=By.CSS_SELECTOR, value=css_selector) instead\n",
      "  img = driver.find_elements_by_css_selector(\"img.lazy\")\n",
      "C:\\Users\\smhrd\\AppData\\Local\\Temp/ipykernel_6452/2932383975.py:13: DeprecationWarning: find_element_by_css_selector is deprecated. Please use find_element(by=By.CSS_SELECTOR, value=css_selector) instead\n",
      "  title = driver.find_element_by_css_selector(\"h1.itemtit\").text\n",
      "C:\\Users\\smhrd\\AppData\\Local\\Temp/ipykernel_6452/2932383975.py:15: DeprecationWarning: find_element_by_css_selector is deprecated. Please use find_element(by=By.CSS_SELECTOR, value=css_selector) instead\n",
      "  price = driver.find_element_by_css_selector(\"strong.price_real\").text\n",
      "C:\\Users\\smhrd\\AppData\\Local\\Temp/ipykernel_6452/2932383975.py:17: DeprecationWarning: find_element_by_css_selector is deprecated. Please use find_element(by=By.CSS_SELECTOR, value=css_selector) instead\n",
      "  cate = driver.find_element_by_css_selector(\"li.on > a\").text\n"
     ]
    },
    {
     "data": {
      "text/html": [
       "<div>\n",
       "<style scoped>\n",
       "    .dataframe tbody tr th:only-of-type {\n",
       "        vertical-align: middle;\n",
       "    }\n",
       "\n",
       "    .dataframe tbody tr th {\n",
       "        vertical-align: top;\n",
       "    }\n",
       "\n",
       "    .dataframe thead th {\n",
       "        text-align: right;\n",
       "    }\n",
       "</style>\n",
       "<table border=\"1\" class=\"dataframe\">\n",
       "  <thead>\n",
       "    <tr style=\"text-align: right;\">\n",
       "      <th></th>\n",
       "      <th>상품명</th>\n",
       "      <th>가격</th>\n",
       "      <th>카테고리</th>\n",
       "    </tr>\n",
       "  </thead>\n",
       "  <tbody>\n",
       "    <tr>\n",
       "      <th>0</th>\n",
       "      <td>피코크 떡갈비 (450g X 3팩)</td>\n",
       "      <td>15,500원</td>\n",
       "      <td>떡갈비</td>\n",
       "    </tr>\n",
       "    <tr>\n",
       "      <th>1</th>\n",
       "      <td>풀무원 얇은피만두 10봉 노엣지 피자 6판 골라담기</td>\n",
       "      <td>28,500원</td>\n",
       "      <td>만두</td>\n",
       "    </tr>\n",
       "    <tr>\n",
       "      <th>2</th>\n",
       "      <td>올반 꿔바로우 1.2kg x 2팩 (중국식 탕수육)</td>\n",
       "      <td>22,500원</td>\n",
       "      <td>냉동/즉석식품</td>\n",
       "    </tr>\n",
       "    <tr>\n",
       "      <th>3</th>\n",
       "      <td>어촌마을 감태 오일 파스타 + 키조개 관자 리조또 SET</td>\n",
       "      <td>16,900원</td>\n",
       "      <td>기타간편식</td>\n",
       "    </tr>\n",
       "    <tr>\n",
       "      <th>4</th>\n",
       "      <td>체험팩 로스터리R테트라200ml 라떼6팩+아메리카노6팩</td>\n",
       "      <td>7,900원</td>\n",
       "      <td>커피음료</td>\n",
       "    </tr>\n",
       "    <tr>\n",
       "      <th>5</th>\n",
       "      <td>장마 알뜰 2kg 안동마 진주마 생마 참마 산마</td>\n",
       "      <td>12,500원</td>\n",
       "      <td>마/야콘</td>\n",
       "    </tr>\n",
       "    <tr>\n",
       "      <th>6</th>\n",
       "      <td>무료반품+22% TANIZ 여름 블로퍼/슬링백/로퍼/운동화</td>\n",
       "      <td>11,000원</td>\n",
       "      <td>블로퍼</td>\n",
       "    </tr>\n",
       "    <tr>\n",
       "      <th>7</th>\n",
       "      <td>고등어 120-140g x 10팩/국내산</td>\n",
       "      <td>13,900원</td>\n",
       "      <td>생선/해산물/어패류</td>\n",
       "    </tr>\n",
       "    <tr>\n",
       "      <th>8</th>\n",
       "      <td>블랙야크 남녀공용 2개셋트 반팔라운드티 L에코트윈티셔츠S</td>\n",
       "      <td>25,140원</td>\n",
       "      <td>남성등산티셔츠</td>\n",
       "    </tr>\n",
       "    <tr>\n",
       "      <th>9</th>\n",
       "      <td>네로 15S-EQ3043AU 48만 한정수량 R5/8G/256G 노트북</td>\n",
       "      <td>554,000원</td>\n",
       "      <td>노트북</td>\n",
       "    </tr>\n",
       "  </tbody>\n",
       "</table>\n",
       "</div>"
      ],
      "text/plain": [
       "                                       상품명        가격        카테고리\n",
       "0                      피코크 떡갈비 (450g X 3팩)   15,500원         떡갈비\n",
       "1             풀무원 얇은피만두 10봉 노엣지 피자 6판 골라담기   28,500원          만두\n",
       "2             올반 꿔바로우 1.2kg x 2팩 (중국식 탕수육)   22,500원     냉동/즉석식품\n",
       "3          어촌마을 감태 오일 파스타 + 키조개 관자 리조또 SET   16,900원       기타간편식\n",
       "4           체험팩 로스터리R테트라200ml 라떼6팩+아메리카노6팩    7,900원        커피음료\n",
       "5               장마 알뜰 2kg 안동마 진주마 생마 참마 산마   12,500원        마/야콘\n",
       "6         무료반품+22% TANIZ 여름 블로퍼/슬링백/로퍼/운동화   11,000원         블로퍼\n",
       "7                   고등어 120-140g x 10팩/국내산   13,900원  생선/해산물/어패류\n",
       "8          블랙야크 남녀공용 2개셋트 반팔라운드티 L에코트윈티셔츠S   25,140원     남성등산티셔츠\n",
       "9  네로 15S-EQ3043AU 48만 한정수량 R5/8G/256G 노트북  554,000원         노트북"
      ]
     },
     "execution_count": 29,
     "metadata": {},
     "output_type": "execute_result"
    }
   ],
   "source": [
    "driver = wb.Chrome(\"C:/Users/smhrd/크롤링/chromedriver.exe\",chrome_options= options)\n",
    "driver.get(\"http://corners.gmarket.co.kr/Bestsellers\")\n",
    "time.sleep(1)\n",
    "# 순수한 글자정보만 수집할 리스트 제작\n",
    "titleList = []\n",
    "priceList = [] \n",
    "cateList = []\n",
    "for i in range(10) :\n",
    "    img = driver.find_elements_by_css_selector(\"img.lazy\")\n",
    "    img[i].click()\n",
    "    time.sleep(1)\n",
    "    \n",
    "    title = driver.find_element_by_css_selector(\"h1.itemtit\").text\n",
    "    titleList.append(title)\n",
    "    price = driver.find_element_by_css_selector(\"strong.price_real\").text\n",
    "    priceList.append(price)\n",
    "    cate = driver.find_element_by_css_selector(\"li.on > a\").text\n",
    "    cateList.append(cate)\n",
    "    \n",
    "    driver.back()\n",
    "    time.sleep(1)\n",
    "# ----데이터 수집단계----\n",
    "dic = {\"상품명\" : titleList, \"가격\" : priceList, \"카테고리\" :cateList}\n",
    "gmarket = pd.DataFrame(dic)\n",
    "gmarket\n",
    "# ----데이터 활용단계----"
   ]
  }
 ],
 "metadata": {
  "kernelspec": {
   "display_name": "Python 3 (ipykernel)",
   "language": "python",
   "name": "python3"
  },
  "language_info": {
   "codemirror_mode": {
    "name": "ipython",
    "version": 3
   },
   "file_extension": ".py",
   "mimetype": "text/x-python",
   "name": "python",
   "nbconvert_exporter": "python",
   "pygments_lexer": "ipython3",
   "version": "3.8.13"
  }
 },
 "nbformat": 4,
 "nbformat_minor": 5
}
