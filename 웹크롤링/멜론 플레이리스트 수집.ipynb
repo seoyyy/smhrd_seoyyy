{
 "cells": [
  {
   "cell_type": "markdown",
   "id": "ca5894e8",
   "metadata": {},
   "source": [
    " #### 데이터 준비 단계"
   ]
  },
  {
   "cell_type": "code",
   "execution_count": 6,
   "id": "716e6872",
   "metadata": {},
   "outputs": [],
   "source": [
    "import requests as req\n",
    "from selenium import webdriver as wb\n",
    "from selenium.webdriver.common.keys import Keys\n",
    "import time\n",
    "import pandas as pd\n",
    "from bs4 import BeautifulSoup as bs"
   ]
  },
  {
   "cell_type": "code",
   "execution_count": null,
   "id": "16568dbd",
   "metadata": {},
   "outputs": [],
   "source": [
    "h = {\"User-Agent\": \"Mozilla/5.0 (Windows NT 10.0; Win64; x64) AppleWebKit/537.36 (KHTML, like Gecko) Chrome/100.0.4896.127 Safari/537.36\"}"
   ]
  },
  {
   "cell_type": "code",
   "execution_count": null,
   "id": "a8f99c79",
   "metadata": {},
   "outputs": [],
   "source": [
    "driver = wb.Chrome()\n",
    "driver.get(\"https://www.melon.com/search/dj/index.htm?q=%EC%97%AC%ED%96%89&section=&searchGnbYn=Y&kkoSpl=Y&kkoDpType=&mwkLogType=T\")"
   ]
  },
  {
   "cell_type": "code",
   "execution_count": null,
   "id": "da2aa114",
   "metadata": {},
   "outputs": [],
   "source": [
    "#res = req.get(\"https://www.melon.com/chart/\", headers = h)"
   ]
  },
  {
   "cell_type": "code",
   "execution_count": null,
   "id": "fbec9fb9",
   "metadata": {},
   "outputs": [],
   "source": [
    "#soup = bs(res.text,\"lxml\")"
   ]
  },
  {
   "cell_type": "markdown",
   "id": "5438966f",
   "metadata": {},
   "source": [
    "#### 데이터 수집 단계"
   ]
  },
  {
   "cell_type": "code",
   "execution_count": 5,
   "id": "fff2a689",
   "metadata": {},
   "outputs": [
    {
     "ename": "NameError",
     "evalue": "name 'soup' is not defined",
     "output_type": "error",
     "traceback": [
      "\u001b[1;31m---------------------------------------------------------------------------\u001b[0m",
      "\u001b[1;31mNameError\u001b[0m                                 Traceback (most recent call last)",
      "\u001b[1;32m~\\AppData\\Local\\Temp/ipykernel_5420/2800979713.py\u001b[0m in \u001b[0;36m<module>\u001b[1;34m\u001b[0m\n\u001b[0;32m      5\u001b[0m \u001b[1;31m# * 클래스값 중간에 공백이 있는 경우 = 클래스가 복수개\u001b[0m\u001b[1;33m\u001b[0m\u001b[1;33m\u001b[0m\u001b[0m\n\u001b[0;32m      6\u001b[0m \u001b[1;31m# * 해결방법 : 공백을 지우고 .을 통해서 클래스값을 이어준다\u001b[0m\u001b[1;33m\u001b[0m\u001b[1;33m\u001b[0m\u001b[0m\n\u001b[1;32m----> 7\u001b[1;33m \u001b[0msong\u001b[0m \u001b[1;33m=\u001b[0m \u001b[0msoup\u001b[0m\u001b[1;33m.\u001b[0m\u001b[0mselect\u001b[0m\u001b[1;33m(\u001b[0m\u001b[1;34m\"div.ellipsis.rank01 > span > a\"\u001b[0m\u001b[1;33m)\u001b[0m\u001b[1;33m\u001b[0m\u001b[1;33m\u001b[0m\u001b[0m\n\u001b[0m\u001b[0;32m      8\u001b[0m \u001b[1;33m\u001b[0m\u001b[0m\n\u001b[0;32m      9\u001b[0m \u001b[0msearch\u001b[0m \u001b[1;33m=\u001b[0m \u001b[0mdriver\u001b[0m\u001b[1;33m\u001b[0m\u001b[1;33m\u001b[0m\u001b[0m\n",
      "\u001b[1;31mNameError\u001b[0m: name 'soup' is not defined"
     ]
    }
   ],
   "source": [
    "# 1. 노래제목 수집\n",
    "# *1. 내가 수집하고자 하는 요소가 구분자(id,class)없는 경우에는\n",
    "# *그 요소를 포함하고 있는 바로 위의 부모요소를 접근\n",
    "# * 주의점! 부모요소 또한 구분자가 없는 경우에는 구분자가 있는 부모까지 검사\n",
    "# * 클래스값 중간에 공백이 있는 경우 = 클래스가 복수개\n",
    "# * 해결방법 : 공백을 지우고 .을 통해서 클래스값을 이어준다\n",
    "song = soup.select(\"div.ellipsis.rank01 > span > a\")\n",
    "\n",
    "driver.find_element_by_class_name(\"\")"
   ]
  },
  {
   "cell_type": "code",
   "execution_count": null,
   "id": "71a4542c",
   "metadata": {},
   "outputs": [],
   "source": []
  },
  {
   "cell_type": "code",
   "execution_count": null,
   "id": "47d15115",
   "metadata": {},
   "outputs": [],
   "source": []
  },
  {
   "cell_type": "code",
   "execution_count": null,
   "id": "aa08c581",
   "metadata": {},
   "outputs": [],
   "source": []
  },
  {
   "cell_type": "code",
   "execution_count": null,
   "id": "453c6e5a",
   "metadata": {},
   "outputs": [],
   "source": []
  },
  {
   "cell_type": "code",
   "execution_count": null,
   "id": "e653abfa",
   "metadata": {},
   "outputs": [],
   "source": []
  },
  {
   "cell_type": "code",
   "execution_count": null,
   "id": "999c6b67",
   "metadata": {},
   "outputs": [],
   "source": []
  },
  {
   "cell_type": "code",
   "execution_count": null,
   "id": "94e3c6a5",
   "metadata": {},
   "outputs": [],
   "source": []
  }
 ],
 "metadata": {
  "kernelspec": {
   "display_name": "Python 3 (ipykernel)",
   "language": "python",
   "name": "python3"
  },
  "language_info": {
   "codemirror_mode": {
    "name": "ipython",
    "version": 3
   },
   "file_extension": ".py",
   "mimetype": "text/x-python",
   "name": "python",
   "nbconvert_exporter": "python",
   "pygments_lexer": "ipython3",
   "version": "3.9.7"
  }
 },
 "nbformat": 4,
 "nbformat_minor": 5
}
