{
 "cells": [
  {
   "cell_type": "markdown",
   "id": "9ba9f563",
   "metadata": {},
   "source": [
    "#### 데이터 준비단계"
   ]
  },
  {
   "cell_type": "code",
   "execution_count": 3,
   "id": "e211bedc",
   "metadata": {},
   "outputs": [],
   "source": [
    "import requests as req\n",
    "from bs4 import BeautifulSoup as bs"
   ]
  },
  {
   "cell_type": "code",
   "execution_count": 4,
   "id": "06bb0a73",
   "metadata": {},
   "outputs": [],
   "source": [
    "h = {\"User-Agent\": \"Mozilla/5.0 (Windows NT 10.0; Win64; x64) AppleWebKit/537.36 (KHTML, like Gecko) Chrome/100.0.4896.127 Safari/537.36\"}"
   ]
  },
  {
   "cell_type": "code",
   "execution_count": null,
   "id": "38e4feec",
   "metadata": {},
   "outputs": [],
   "source": [
    "driver = wb.Chrome()\n",
    "driver.get(\"https://www.melon.com/chart/\")"
   ]
  },
  {
   "cell_type": "code",
   "execution_count": 5,
   "id": "f2038a69",
   "metadata": {},
   "outputs": [],
   "source": [
    " res = req.get(\"https://www.melon.com/chart/\", headers = h)"
   ]
  },
  {
   "cell_type": "code",
   "execution_count": 6,
   "id": "524a5369",
   "metadata": {},
   "outputs": [],
   "source": [
    " soup = bs(res.text,\"lxml\")"
   ]
  },
  {
   "cell_type": "markdown",
   "id": "1ec4de87",
   "metadata": {},
   "source": [
    "#### 데이터 수집단계"
   ]
  },
  {
   "cell_type": "code",
   "execution_count": 7,
   "id": "3872f17e",
   "metadata": {},
   "outputs": [],
   "source": [
    "# 1. 노래제목 수집\n",
    "# *1. 내가 수집하고자 하는 요소가 구분자(id,class)없는 경우에는\n",
    "# *그 요소를 포함하고 있는 바로 위의 부모요소를 접근\n",
    "# * 주의점! 부모요소 또한 구분자가 없는 경우에는 구분자가 있는 부모까지 검사\n",
    "# * 클래스값 중간에 공백이 있는 경우 = 클래스가 복수개\n",
    "# * 해결방법 : 공백을 지우고 .을 통해서 클래스값을 이어준다\n",
    "song = soup.select(\"div.ellipsis.rank01 > span > a\")\n"
   ]
  },
  {
   "cell_type": "code",
   "execution_count": 8,
   "id": "a934bd5e",
   "metadata": {},
   "outputs": [],
   "source": [
    "# 2. 가수이름 수집\n",
    "singer = soup.select(\"div.ellipsis.rank02>span\")"
   ]
  },
  {
   "cell_type": "code",
   "execution_count": 9,
   "id": "4df95cf0",
   "metadata": {},
   "outputs": [
    {
     "data": {
      "text/plain": [
       "100"
      ]
     },
     "execution_count": 9,
     "metadata": {},
     "output_type": "execute_result"
    }
   ],
   "source": [
    "# 개수가 정해져있는 데이터를 수집할때는!\n",
    "# 항상 수집한 데이터의 개수가 맞는지는 체크 !\n",
    "len(singer)"
   ]
  },
  {
   "cell_type": "code",
   "execution_count": 10,
   "id": "209fd02d",
   "metadata": {},
   "outputs": [
    {
     "name": "stdout",
     "output_type": "stream",
     "text": [
      "BIGBANG (빅뱅)\n",
      "IVE (아이브)\n",
      "(여자)아이들\n",
      "Red Velvet (레드벨벳)\n",
      "멜로망스\n",
      "임영웅\n",
      "박재범\n",
      "김민석 (멜로망스)\n",
      "태연 (TAEYEON)\n",
      "임영웅\n",
      "임영웅\n",
      "MSG워너비(M.O.M)\n",
      "BE'O (비오)\n",
      "임영웅\n",
      "임영웅\n",
      "IVE (아이브)\n",
      "임영웅\n",
      "경서예지, 전건호\n",
      "임영웅\n",
      "볼빨간사춘기\n",
      "임영웅\n",
      "이무진\n",
      "STAYC(스테이씨)\n",
      "YENA (최예나)\n",
      "케이시 (Kassy)\n",
      "임영웅\n",
      "The Kid LAROI, Justin Bieber\n",
      "sokodomo\n",
      "원슈타인\n",
      "아이유\n",
      "(여자)아이들\n",
      "아이유\n",
      "오마이걸 (OH MY GIRL)\n",
      "aespa\n",
      "GOT the beat\n",
      "BE'O (비오)\n",
      "태연 (TAEYEON)\n",
      "주시크 (Joosiq)\n",
      "NCT DREAM\n",
      "주호\n",
      "한동근\n",
      "BE'O (비오)\n",
      "방탄소년단\n",
      "탑현\n",
      "임영웅\n",
      "폴킴\n",
      "방탄소년단\n",
      "아이유\n",
      "휘인 (Whee In)\n",
      "자우림\n",
      "이무진\n",
      "GAYLE\n",
      "MSG워너비(M.O.M)\n",
      "세븐틴\n",
      "주시크 (Joosiq)\n",
      "방탄소년단\n",
      "aespa\n",
      "김나영\n",
      "디핵 (D-Hack), PATEKO (파테코)\n",
      "aespa\n",
      "방탄소년단\n",
      "HIGH4 (하이포), 아이유\n",
      "태일 (TAEIL)\n",
      "아이유\n",
      "볼빨간사춘기\n",
      "아이유\n",
      "아이유\n",
      "Charlie Puth\n",
      "마크툽 (MAKTUB)\n",
      "이예준\n",
      "Ed Sheeran\n",
      "폴킴\n",
      "BE'O (비오)\n",
      "성시경\n",
      "베이식 (Basick)\n",
      "경서\n",
      "Coldplay, 방탄소년단\n",
      "Justin Bieber\n",
      "호미들\n",
      "멜로망스\n",
      "오마이걸 (OH MY GIRL)\n",
      "헤이즈 (Heize)\n",
      "10CM\n",
      "AKMU (악뮤)\n",
      "하이라이트 (Highlight)\n",
      "BIG Naughty (서동현)\n",
      "버스커 버스커\n",
      "아이유\n",
      "브레이브걸스\n",
      "AKMU (악뮤)\n",
      "이승윤\n",
      "태연 (TAEYEON)\n",
      "벤\n",
      "Kelly Clarkson\n",
      "V\n",
      "비비 (BIBI)\n",
      "로꼬, 유주 (YUJU)\n",
      "제시 (Jessi)\n",
      "장범준\n",
      "NCT DREAM\n"
     ]
    }
   ],
   "source": [
    "for i in singer:\n",
    "    print(i.text)"
   ]
  },
  {
   "cell_type": "code",
   "execution_count": 11,
   "id": "778b75b6",
   "metadata": {},
   "outputs": [
    {
     "data": {
      "text/plain": [
       "[<span class=\"checkEllipsis\" style=\"display:none\"><a href=\"javascript:melon.link.goArtistDetail('198094');\" title=\"BIGBANG (빅뱅) - 페이지 이동\">BIGBANG (빅뱅)</a></span>,\n",
       " <span class=\"checkEllipsis\" style=\"display:none\"><a href=\"javascript:melon.link.goArtistDetail('3055146');\" title=\"IVE (아이브) - 페이지 이동\">IVE (아이브)</a></span>,\n",
       " <span class=\"checkEllipsis\" style=\"display:none\"><a href=\"javascript:melon.link.goArtistDetail('2137482');\" title=\"(여자)아이들 - 페이지 이동\">(여자)아이들</a></span>,\n",
       " <span class=\"checkEllipsis\" style=\"display:none\"><a href=\"javascript:melon.link.goArtistDetail('780066');\" title=\"Red Velvet (레드벨벳) - 페이지 이동\">Red Velvet (레드벨벳)</a></span>,\n",
       " <span class=\"checkEllipsis\" style=\"display:none\"><a href=\"javascript:melon.link.goArtistDetail('839732');\" title=\"멜로망스 - 페이지 이동\">멜로망스</a></span>,\n",
       " <span class=\"checkEllipsis\" style=\"display:none\"><a href=\"javascript:melon.link.goArtistDetail('994944');\" title=\"임영웅 - 페이지 이동\">임영웅</a></span>,\n",
       " <span class=\"checkEllipsis\" style=\"display:none\"><a href=\"javascript:melon.link.goArtistDetail('443420');\" title=\"박재범 - 페이지 이동\">박재범</a></span>,\n",
       " <span class=\"checkEllipsis\" style=\"display:none\"><a href=\"javascript:melon.link.goArtistDetail('839736');\" title=\"김민석 (멜로망스) - 페이지 이동\">김민석 (멜로망스)</a></span>,\n",
       " <span class=\"checkEllipsis\" style=\"display:none\"><a href=\"javascript:melon.link.goArtistDetail('236797');\" title=\"태연 (TAEYEON) - 페이지 이동\">태연 (TAEYEON)</a></span>,\n",
       " <span class=\"checkEllipsis\" style=\"display:none\"><a href=\"javascript:melon.link.goArtistDetail('994944');\" title=\"임영웅 - 페이지 이동\">임영웅</a></span>,\n",
       " <span class=\"checkEllipsis\" style=\"display:none\"><a href=\"javascript:melon.link.goArtistDetail('994944');\" title=\"임영웅 - 페이지 이동\">임영웅</a></span>,\n",
       " <span class=\"checkEllipsis\" style=\"display:none\"><a href=\"javascript:melon.link.goArtistDetail('2939212');\" title=\"MSG워너비(M.O.M) - 페이지 이동\">MSG워너비(M.O.M)</a></span>,\n",
       " <span class=\"checkEllipsis\" style=\"display:none\"><a href=\"javascript:melon.link.goArtistDetail('2758756');\" title=\"BE'O (비오) - 페이지 이동\">BE'O (비오)</a></span>,\n",
       " <span class=\"checkEllipsis\" style=\"display:none\"><a href=\"javascript:melon.link.goArtistDetail('994944');\" title=\"임영웅 - 페이지 이동\">임영웅</a></span>,\n",
       " <span class=\"checkEllipsis\" style=\"display:none\"><a href=\"javascript:melon.link.goArtistDetail('994944');\" title=\"임영웅 - 페이지 이동\">임영웅</a></span>,\n",
       " <span class=\"checkEllipsis\" style=\"display:none\"><a href=\"javascript:melon.link.goArtistDetail('3055146');\" title=\"IVE (아이브) - 페이지 이동\">IVE (아이브)</a></span>,\n",
       " <span class=\"checkEllipsis\" style=\"display:none\"><a href=\"javascript:melon.link.goArtistDetail('994944');\" title=\"임영웅 - 페이지 이동\">임영웅</a></span>,\n",
       " <span class=\"checkEllipsis\" style=\"display:none\"><a href=\"javascript:melon.link.goArtistDetail('2863470');\" title=\"경서예지 - 페이지 이동\">경서예지</a>, <a href=\"javascript:melon.link.goArtistDetail('2739011');\" title=\"전건호 - 페이지 이동\">전건호</a></span>,\n",
       " <span class=\"checkEllipsis\" style=\"display:none\"><a href=\"javascript:melon.link.goArtistDetail('994944');\" title=\"임영웅 - 페이지 이동\">임영웅</a></span>,\n",
       " <span class=\"checkEllipsis\" style=\"display:none\"><a href=\"javascript:melon.link.goArtistDetail('792022');\" title=\"볼빨간사춘기 - 페이지 이동\">볼빨간사춘기</a></span>,\n",
       " <span class=\"checkEllipsis\" style=\"display:none\"><a href=\"javascript:melon.link.goArtistDetail('994944');\" title=\"임영웅 - 페이지 이동\">임영웅</a></span>,\n",
       " <span class=\"checkEllipsis\" style=\"display:none\"><a href=\"javascript:melon.link.goArtistDetail('2138620');\" title=\"이무진 - 페이지 이동\">이무진</a></span>,\n",
       " <span class=\"checkEllipsis\" style=\"display:none\"><a href=\"javascript:melon.link.goArtistDetail('2899290');\" title=\"STAYC(스테이씨) - 페이지 이동\">STAYC(스테이씨)</a></span>,\n",
       " <span class=\"checkEllipsis\" style=\"display:none\"><a href=\"javascript:melon.link.goArtistDetail('2399724');\" title=\"YENA (최예나) - 페이지 이동\">YENA (최예나)</a></span>,\n",
       " <span class=\"checkEllipsis\" style=\"display:none\"><a href=\"javascript:melon.link.goArtistDetail('858125');\" title=\"케이시 (Kassy) - 페이지 이동\">케이시 (Kassy)</a></span>,\n",
       " <span class=\"checkEllipsis\" style=\"display:none\"><a href=\"javascript:melon.link.goArtistDetail('994944');\" title=\"임영웅 - 페이지 이동\">임영웅</a></span>,\n",
       " <span class=\"checkEllipsis\" style=\"display:none\"><a href=\"javascript:melon.link.goArtistDetail('2743730');\" title=\"The Kid LAROI - 페이지 이동\">The Kid LAROI</a>, <a href=\"javascript:melon.link.goArtistDetail('420621');\" title=\"Justin Bieber - 페이지 이동\">Justin Bieber</a></span>,\n",
       " <span class=\"checkEllipsis\" style=\"display:none\"><a href=\"javascript:melon.link.goArtistDetail('2561475');\" title=\"sokodomo - 페이지 이동\">sokodomo</a></span>,\n",
       " <span class=\"checkEllipsis\" style=\"display:none\"><a href=\"javascript:melon.link.goArtistDetail('1702472');\" title=\"원슈타인 - 페이지 이동\">원슈타인</a></span>,\n",
       " <span class=\"checkEllipsis\" style=\"display:none\"><a href=\"javascript:melon.link.goArtistDetail('261143');\" title=\"아이유 - 페이지 이동\">아이유</a></span>,\n",
       " <span class=\"checkEllipsis\" style=\"display:none\"><a href=\"javascript:melon.link.goArtistDetail('2137482');\" title=\"(여자)아이들 - 페이지 이동\">(여자)아이들</a></span>,\n",
       " <span class=\"checkEllipsis\" style=\"display:none\"><a href=\"javascript:melon.link.goArtistDetail('261143');\" title=\"아이유 - 페이지 이동\">아이유</a></span>,\n",
       " <span class=\"checkEllipsis\" style=\"display:none\"><a href=\"javascript:melon.link.goArtistDetail('857994');\" title=\"오마이걸 (OH MY GIRL) - 페이지 이동\">오마이걸 (OH MY GIRL)</a></span>,\n",
       " <span class=\"checkEllipsis\" style=\"display:none\"><a href=\"javascript:melon.link.goArtistDetail('2899555');\" title=\"aespa - 페이지 이동\">aespa</a></span>,\n",
       " <span class=\"checkEllipsis\" style=\"display:none\"><a href=\"javascript:melon.link.goArtistDetail('3063272');\" title=\"GOT the beat - 페이지 이동\">GOT the beat</a></span>,\n",
       " <span class=\"checkEllipsis\" style=\"display:none\"><a href=\"javascript:melon.link.goArtistDetail('2758756');\" title=\"BE'O (비오) - 페이지 이동\">BE'O (비오)</a></span>,\n",
       " <span class=\"checkEllipsis\" style=\"display:none\"><a href=\"javascript:melon.link.goArtistDetail('236797');\" title=\"태연 (TAEYEON) - 페이지 이동\">태연 (TAEYEON)</a></span>,\n",
       " <span class=\"checkEllipsis\" style=\"display:none\"><a href=\"javascript:melon.link.goArtistDetail('2880487');\" title=\"주시크 (Joosiq) - 페이지 이동\">주시크 (Joosiq)</a></span>,\n",
       " <span class=\"checkEllipsis\" style=\"display:none\"><a href=\"javascript:melon.link.goArtistDetail('1066419');\" title=\"NCT DREAM - 페이지 이동\">NCT DREAM</a></span>,\n",
       " <span class=\"checkEllipsis\" style=\"display:none\"><a href=\"javascript:melon.link.goArtistDetail('683631');\" title=\"주호 - 페이지 이동\">주호</a></span>,\n",
       " <span class=\"checkEllipsis\" style=\"display:none\"><a href=\"javascript:melon.link.goArtistDetail('711476');\" title=\"한동근 - 페이지 이동\">한동근</a></span>,\n",
       " <span class=\"checkEllipsis\" style=\"display:none\"><a href=\"javascript:melon.link.goArtistDetail('2758756');\" title=\"BE'O (비오) - 페이지 이동\">BE'O (비오)</a></span>,\n",
       " <span class=\"checkEllipsis\" style=\"display:none\"><a href=\"javascript:melon.link.goArtistDetail('672375');\" title=\"방탄소년단 - 페이지 이동\">방탄소년단</a></span>,\n",
       " <span class=\"checkEllipsis\" style=\"display:none\"><a href=\"javascript:melon.link.goArtistDetail('2893700');\" title=\"탑현 - 페이지 이동\">탑현</a></span>,\n",
       " <span class=\"checkEllipsis\" style=\"display:none\"><a href=\"javascript:melon.link.goArtistDetail('994944');\" title=\"임영웅 - 페이지 이동\">임영웅</a></span>,\n",
       " <span class=\"checkEllipsis\" style=\"display:none\"><a href=\"javascript:melon.link.goArtistDetail('752425');\" title=\"폴킴 - 페이지 이동\">폴킴</a></span>,\n",
       " <span class=\"checkEllipsis\" style=\"display:none\"><a href=\"javascript:melon.link.goArtistDetail('672375');\" title=\"방탄소년단 - 페이지 이동\">방탄소년단</a></span>,\n",
       " <span class=\"checkEllipsis\" style=\"display:none\"><a href=\"javascript:melon.link.goArtistDetail('261143');\" title=\"아이유 - 페이지 이동\">아이유</a></span>,\n",
       " <span class=\"checkEllipsis\" style=\"display:none\"><a href=\"javascript:melon.link.goArtistDetail('756533');\" title=\"휘인 (Whee In) - 페이지 이동\">휘인 (Whee In)</a></span>,\n",
       " <span class=\"checkEllipsis\" style=\"display:none\"><a href=\"javascript:melon.link.goArtistDetail('100094');\" title=\"자우림 - 페이지 이동\">자우림</a></span>,\n",
       " <span class=\"checkEllipsis\" style=\"display:none\"><a href=\"javascript:melon.link.goArtistDetail('2138620');\" title=\"이무진 - 페이지 이동\">이무진</a></span>,\n",
       " <span class=\"checkEllipsis\" style=\"display:none\"><a href=\"javascript:melon.link.goArtistDetail('2853095');\" title=\"GAYLE - 페이지 이동\">GAYLE</a></span>,\n",
       " <span class=\"checkEllipsis\" style=\"display:none\"><a href=\"javascript:melon.link.goArtistDetail('2939212');\" title=\"MSG워너비(M.O.M) - 페이지 이동\">MSG워너비(M.O.M)</a></span>,\n",
       " <span class=\"checkEllipsis\" style=\"display:none\"><a href=\"javascript:melon.link.goArtistDetail('861436');\" title=\"세븐틴 - 페이지 이동\">세븐틴</a></span>,\n",
       " <span class=\"checkEllipsis\" style=\"display:none\"><a href=\"javascript:melon.link.goArtistDetail('2880487');\" title=\"주시크 (Joosiq) - 페이지 이동\">주시크 (Joosiq)</a></span>,\n",
       " <span class=\"checkEllipsis\" style=\"display:none\"><a href=\"javascript:melon.link.goArtistDetail('672375');\" title=\"방탄소년단 - 페이지 이동\">방탄소년단</a></span>,\n",
       " <span class=\"checkEllipsis\" style=\"display:none\"><a href=\"javascript:melon.link.goArtistDetail('2899555');\" title=\"aespa - 페이지 이동\">aespa</a></span>,\n",
       " <span class=\"checkEllipsis\" style=\"display:none\"><a href=\"javascript:melon.link.goArtistDetail('735094');\" title=\"김나영 - 페이지 이동\">김나영</a></span>,\n",
       " <span class=\"checkEllipsis\" style=\"display:none\"><a href=\"javascript:melon.link.goArtistDetail('785501');\" title=\"디핵 (D-Hack) - 페이지 이동\">디핵 (D-Hack)</a>, <a href=\"javascript:melon.link.goArtistDetail('2750866');\" title=\"PATEKO (파테코) - 페이지 이동\">PATEKO (파테코)</a></span>,\n",
       " <span class=\"checkEllipsis\" style=\"display:none\"><a href=\"javascript:melon.link.goArtistDetail('2899555');\" title=\"aespa - 페이지 이동\">aespa</a></span>,\n",
       " <span class=\"checkEllipsis\" style=\"display:none\"><a href=\"javascript:melon.link.goArtistDetail('672375');\" title=\"방탄소년단 - 페이지 이동\">방탄소년단</a></span>,\n",
       " <span class=\"checkEllipsis\" style=\"display:none\"><a href=\"javascript:melon.link.goArtistDetail('767374');\" title=\"HIGH4 (하이포) - 페이지 이동\">HIGH4 (하이포)</a>, <a href=\"javascript:melon.link.goArtistDetail('261143');\" title=\"아이유 - 페이지 이동\">아이유</a></span>,\n",
       " <span class=\"checkEllipsis\" style=\"display:none\"><a href=\"javascript:melon.link.goArtistDetail('944650');\" title=\"태일 (TAEIL) - 페이지 이동\">태일 (TAEIL)</a></span>,\n",
       " <span class=\"checkEllipsis\" style=\"display:none\"><a href=\"javascript:melon.link.goArtistDetail('261143');\" title=\"아이유 - 페이지 이동\">아이유</a></span>,\n",
       " <span class=\"checkEllipsis\" style=\"display:none\"><a href=\"javascript:melon.link.goArtistDetail('792022');\" title=\"볼빨간사춘기 - 페이지 이동\">볼빨간사춘기</a></span>,\n",
       " <span class=\"checkEllipsis\" style=\"display:none\"><a href=\"javascript:melon.link.goArtistDetail('261143');\" title=\"아이유 - 페이지 이동\">아이유</a></span>,\n",
       " <span class=\"checkEllipsis\" style=\"display:none\"><a href=\"javascript:melon.link.goArtistDetail('261143');\" title=\"아이유 - 페이지 이동\">아이유</a></span>,\n",
       " <span class=\"checkEllipsis\" style=\"display:none\"><a href=\"javascript:melon.link.goArtistDetail('838654');\" title=\"Charlie Puth - 페이지 이동\">Charlie Puth</a></span>,\n",
       " <span class=\"checkEllipsis\" style=\"display:none\"><a href=\"javascript:melon.link.goArtistDetail('566431');\" title=\"마크툽 (MAKTUB) - 페이지 이동\">마크툽 (MAKTUB)</a></span>,\n",
       " <span class=\"checkEllipsis\" style=\"display:none\"><a href=\"javascript:melon.link.goArtistDetail('718655');\" title=\"이예준 - 페이지 이동\">이예준</a></span>,\n",
       " <span class=\"checkEllipsis\" style=\"display:none\"><a href=\"javascript:melon.link.goArtistDetail('549800');\" title=\"Ed Sheeran - 페이지 이동\">Ed Sheeran</a></span>,\n",
       " <span class=\"checkEllipsis\" style=\"display:none\"><a href=\"javascript:melon.link.goArtistDetail('752425');\" title=\"폴킴 - 페이지 이동\">폴킴</a></span>,\n",
       " <span class=\"checkEllipsis\" style=\"display:none\"><a href=\"javascript:melon.link.goArtistDetail('2758756');\" title=\"BE'O (비오) - 페이지 이동\">BE'O (비오)</a></span>,\n",
       " <span class=\"checkEllipsis\" style=\"display:none\"><a href=\"javascript:melon.link.goArtistDetail('3305');\" title=\"성시경 - 페이지 이동\">성시경</a></span>,\n",
       " <span class=\"checkEllipsis\" style=\"display:none\"><a href=\"javascript:melon.link.goArtistDetail('241227');\" title=\"베이식 (Basick) - 페이지 이동\">베이식 (Basick)</a></span>,\n",
       " <span class=\"checkEllipsis\" style=\"display:none\"><a href=\"javascript:melon.link.goArtistDetail('994005');\" title=\"경서 - 페이지 이동\">경서</a></span>,\n",
       " <span class=\"checkEllipsis\" style=\"display:none\"><a href=\"javascript:melon.link.goArtistDetail('100260');\" title=\"Coldplay - 페이지 이동\">Coldplay</a>, <a href=\"javascript:melon.link.goArtistDetail('672375');\" title=\"방탄소년단 - 페이지 이동\">방탄소년단</a></span>,\n",
       " <span class=\"checkEllipsis\" style=\"display:none\"><a href=\"javascript:melon.link.goArtistDetail('420621');\" title=\"Justin Bieber - 페이지 이동\">Justin Bieber</a></span>,\n",
       " <span class=\"checkEllipsis\" style=\"display:none\"><a href=\"javascript:melon.link.goArtistDetail('2754623');\" title=\"호미들 - 페이지 이동\">호미들</a></span>,\n",
       " <span class=\"checkEllipsis\" style=\"display:none\"><a href=\"javascript:melon.link.goArtistDetail('839732');\" title=\"멜로망스 - 페이지 이동\">멜로망스</a></span>,\n",
       " <span class=\"checkEllipsis\" style=\"display:none\"><a href=\"javascript:melon.link.goArtistDetail('857994');\" title=\"오마이걸 (OH MY GIRL) - 페이지 이동\">오마이걸 (OH MY GIRL)</a></span>,\n",
       " <span class=\"checkEllipsis\" style=\"display:none\"><a href=\"javascript:melon.link.goArtistDetail('751611');\" title=\"헤이즈 (Heize) - 페이지 이동\">헤이즈 (Heize)</a></span>,\n",
       " <span class=\"checkEllipsis\" style=\"display:none\"><a href=\"javascript:melon.link.goArtistDetail('468244');\" title=\"10CM - 페이지 이동\">10CM</a></span>,\n",
       " <span class=\"checkEllipsis\" style=\"display:none\"><a href=\"javascript:melon.link.goArtistDetail('712452');\" title=\"AKMU (악뮤) - 페이지 이동\">AKMU (악뮤)</a></span>,\n",
       " <span class=\"checkEllipsis\" style=\"display:none\"><a href=\"javascript:melon.link.goArtistDetail('1624993');\" title=\"하이라이트 (Highlight) - 페이지 이동\">하이라이트 (Highlight)</a></span>,\n",
       " <span class=\"checkEllipsis\" style=\"display:none\"><a href=\"javascript:melon.link.goArtistDetail('2744750');\" title=\"BIG Naughty (서동현) - 페이지 이동\">BIG Naughty (서동현)</a></span>,\n",
       " <span class=\"checkEllipsis\" style=\"display:none\"><a href=\"javascript:melon.link.goArtistDetail('569233');\" title=\"버스커 버스커 - 페이지 이동\">버스커 버스커</a></span>,\n",
       " <span class=\"checkEllipsis\" style=\"display:none\"><a href=\"javascript:melon.link.goArtistDetail('261143');\" title=\"아이유 - 페이지 이동\">아이유</a></span>,\n",
       " <span class=\"checkEllipsis\" style=\"display:none\"><a href=\"javascript:melon.link.goArtistDetail('531700');\" title=\"브레이브걸스 - 페이지 이동\">브레이브걸스</a></span>,\n",
       " <span class=\"checkEllipsis\" style=\"display:none\"><a href=\"javascript:melon.link.goArtistDetail('712452');\" title=\"AKMU (악뮤) - 페이지 이동\">AKMU (악뮤)</a></span>,\n",
       " <span class=\"checkEllipsis\" style=\"display:none\"><a href=\"javascript:melon.link.goArtistDetail('723192');\" title=\"이승윤 - 페이지 이동\">이승윤</a></span>,\n",
       " <span class=\"checkEllipsis\" style=\"display:none\"><a href=\"javascript:melon.link.goArtistDetail('236797');\" title=\"태연 (TAEYEON) - 페이지 이동\">태연 (TAEYEON)</a></span>,\n",
       " <span class=\"checkEllipsis\" style=\"display:none\"><a href=\"javascript:melon.link.goArtistDetail('655051');\" title=\"벤 - 페이지 이동\">벤</a></span>,\n",
       " <span class=\"checkEllipsis\" style=\"display:none\"><a href=\"javascript:melon.link.goArtistDetail('36329');\" title=\"Kelly Clarkson - 페이지 이동\">Kelly Clarkson</a></span>,\n",
       " <span class=\"checkEllipsis\" style=\"display:none\"><a href=\"javascript:melon.link.goArtistDetail('725989');\" title=\"V - 페이지 이동\">V</a></span>,\n",
       " <span class=\"checkEllipsis\" style=\"display:none\"><a href=\"javascript:melon.link.goArtistDetail('2403002');\" title=\"비비 (BIBI) - 페이지 이동\">비비 (BIBI)</a></span>,\n",
       " <span class=\"checkEllipsis\" style=\"display:none\"><a href=\"javascript:melon.link.goArtistDetail('688432');\" title=\"로꼬 - 페이지 이동\">로꼬</a>, <a href=\"javascript:melon.link.goArtistDetail('858238');\" title=\"유주 (YUJU) - 페이지 이동\">유주 (YUJU)</a></span>,\n",
       " <span class=\"checkEllipsis\" style=\"display:none\"><a href=\"javascript:melon.link.goArtistDetail('176393');\" title=\"제시 (Jessi) - 페이지 이동\">제시 (Jessi)</a></span>,\n",
       " <span class=\"checkEllipsis\" style=\"display:none\"><a href=\"javascript:melon.link.goArtistDetail('648551');\" title=\"장범준 - 페이지 이동\">장범준</a></span>,\n",
       " <span class=\"checkEllipsis\" style=\"display:none\"><a href=\"javascript:melon.link.goArtistDetail('1066419');\" title=\"NCT DREAM - 페이지 이동\">NCT DREAM</a></span>]"
      ]
     },
     "execution_count": 11,
     "metadata": {},
     "output_type": "execute_result"
    }
   ],
   "source": [
    "# 가수 100명과, 노래 100곡을 수집후 리스트 제작\n",
    "song\n",
    "singer"
   ]
  },
  {
   "cell_type": "code",
   "execution_count": null,
   "id": "e82321da",
   "metadata": {},
   "outputs": [],
   "source": []
  },
  {
   "cell_type": "code",
   "execution_count": 12,
   "id": "411009bd",
   "metadata": {},
   "outputs": [],
   "source": [
    "#우리가 수집한데이터를 기반으로 데이터를 정제해줘야함\n",
    "#데이터 수집 후 !\n",
    "#순수한 글자정보만 추출해서 저장 시킬 리스트를 생성\n",
    "songList = []\n",
    "singerList =[]\n",
    "rankList =[]\n",
    "#반복문 통해서 하나씩 꺼내서 담아주기  ->하나씩 담아주는 append\n",
    "for i in range(len(singer)) :\n",
    "    songList.append(song[i].text)\n",
    "    singerList.append(singer[i].text)\n",
    "    rankList.append(i+1)"
   ]
  },
  {
   "cell_type": "code",
   "execution_count": null,
   "id": "233433f1",
   "metadata": {},
   "outputs": [],
   "source": []
  },
  {
   "cell_type": "markdown",
   "id": "82b68269",
   "metadata": {},
   "source": [
    "### 데이터 활용단계!"
   ]
  },
  {
   "cell_type": "code",
   "execution_count": 13,
   "id": "69b6272f",
   "metadata": {},
   "outputs": [],
   "source": [
    " import pandas as pd"
   ]
  },
  {
   "cell_type": "code",
   "execution_count": 14,
   "id": "861b88ae",
   "metadata": {},
   "outputs": [],
   "source": [
    "# 수집한 데이터를 활용해서 데이터프레임(표)제작\n",
    "dic = {\"노래제목\" : songList, \"가수\" : singerList,\"순위\": rankList}"
   ]
  },
  {
   "cell_type": "code",
   "execution_count": 15,
   "id": "b59818c6",
   "metadata": {},
   "outputs": [],
   "source": [
    "melon = pd.DataFrame(dic)"
   ]
  },
  {
   "cell_type": "code",
   "execution_count": 16,
   "id": "4dba8509",
   "metadata": {},
   "outputs": [],
   "source": [
    "melon.set_index(\"순위\", inplace= True)"
   ]
  },
  {
   "cell_type": "code",
   "execution_count": 17,
   "id": "c09d0670",
   "metadata": {},
   "outputs": [
    {
     "data": {
      "text/html": [
       "<div>\n",
       "<style scoped>\n",
       "    .dataframe tbody tr th:only-of-type {\n",
       "        vertical-align: middle;\n",
       "    }\n",
       "\n",
       "    .dataframe tbody tr th {\n",
       "        vertical-align: top;\n",
       "    }\n",
       "\n",
       "    .dataframe thead th {\n",
       "        text-align: right;\n",
       "    }\n",
       "</style>\n",
       "<table border=\"1\" class=\"dataframe\">\n",
       "  <thead>\n",
       "    <tr style=\"text-align: right;\">\n",
       "      <th></th>\n",
       "      <th>노래제목</th>\n",
       "      <th>가수</th>\n",
       "    </tr>\n",
       "    <tr>\n",
       "      <th>순위</th>\n",
       "      <th></th>\n",
       "      <th></th>\n",
       "    </tr>\n",
       "  </thead>\n",
       "  <tbody>\n",
       "    <tr>\n",
       "      <th>1</th>\n",
       "      <td>봄여름가을겨울 (Still Life)</td>\n",
       "      <td>BIGBANG (빅뱅)</td>\n",
       "    </tr>\n",
       "    <tr>\n",
       "      <th>2</th>\n",
       "      <td>LOVE DIVE</td>\n",
       "      <td>IVE (아이브)</td>\n",
       "    </tr>\n",
       "    <tr>\n",
       "      <th>3</th>\n",
       "      <td>TOMBOY</td>\n",
       "      <td>(여자)아이들</td>\n",
       "    </tr>\n",
       "    <tr>\n",
       "      <th>4</th>\n",
       "      <td>Feel My Rhythm</td>\n",
       "      <td>Red Velvet (레드벨벳)</td>\n",
       "    </tr>\n",
       "    <tr>\n",
       "      <th>5</th>\n",
       "      <td>사랑인가 봐</td>\n",
       "      <td>멜로망스</td>\n",
       "    </tr>\n",
       "    <tr>\n",
       "      <th>...</th>\n",
       "      <td>...</td>\n",
       "      <td>...</td>\n",
       "    </tr>\n",
       "    <tr>\n",
       "      <th>96</th>\n",
       "      <td>아주, 천천히</td>\n",
       "      <td>비비 (BIBI)</td>\n",
       "    </tr>\n",
       "    <tr>\n",
       "      <th>97</th>\n",
       "      <td>우연히 봄</td>\n",
       "      <td>로꼬, 유주 (YUJU)</td>\n",
       "    </tr>\n",
       "    <tr>\n",
       "      <th>98</th>\n",
       "      <td>ZOOM</td>\n",
       "      <td>제시 (Jessi)</td>\n",
       "    </tr>\n",
       "    <tr>\n",
       "      <th>99</th>\n",
       "      <td>흔들리는 꽃들 속에서 네 샴푸향이 느껴진거야</td>\n",
       "      <td>장범준</td>\n",
       "    </tr>\n",
       "    <tr>\n",
       "      <th>100</th>\n",
       "      <td>북극성 (Never Goodbye)</td>\n",
       "      <td>NCT DREAM</td>\n",
       "    </tr>\n",
       "  </tbody>\n",
       "</table>\n",
       "<p>100 rows × 2 columns</p>\n",
       "</div>"
      ],
      "text/plain": [
       "                         노래제목                 가수\n",
       "순위                                              \n",
       "1        봄여름가을겨울 (Still Life)       BIGBANG (빅뱅)\n",
       "2                   LOVE DIVE          IVE (아이브)\n",
       "3                      TOMBOY            (여자)아이들\n",
       "4              Feel My Rhythm  Red Velvet (레드벨벳)\n",
       "5                      사랑인가 봐               멜로망스\n",
       "..                        ...                ...\n",
       "96                    아주, 천천히          비비 (BIBI)\n",
       "97                      우연히 봄      로꼬, 유주 (YUJU)\n",
       "98                       ZOOM         제시 (Jessi)\n",
       "99   흔들리는 꽃들 속에서 네 샴푸향이 느껴진거야                장범준\n",
       "100       북극성 (Never Goodbye)          NCT DREAM\n",
       "\n",
       "[100 rows x 2 columns]"
      ]
     },
     "execution_count": 17,
     "metadata": {},
     "output_type": "execute_result"
    }
   ],
   "source": [
    "melon"
   ]
  },
  {
   "cell_type": "code",
   "execution_count": 19,
   "id": "ae63bbf5",
   "metadata": {},
   "outputs": [],
   "source": [
    "# CSV형식의 파일로 저장\n",
    "# 한글이 깨지기때문에 encoding 필수!\n",
    "# tip!\n",
    "# 1.euc-kr\n",
    "# 2. utf-8\n",
    "# 3. \"\"\n",
    "# 4. utf-8-sig\n",
    "melon.to_csv(\"멜론차트.csv\", encoding =\"euc-kr\")"
   ]
  },
  {
   "cell_type": "code",
   "execution_count": null,
   "id": "72b2cbd3",
   "metadata": {},
   "outputs": [],
   "source": []
  },
  {
   "cell_type": "code",
   "execution_count": null,
   "id": "f291def5",
   "metadata": {},
   "outputs": [],
   "source": []
  },
  {
   "cell_type": "code",
   "execution_count": null,
   "id": "c5ea0c57",
   "metadata": {},
   "outputs": [],
   "source": []
  }
 ],
 "metadata": {
  "kernelspec": {
   "display_name": "Python 3 (ipykernel)",
   "language": "python",
   "name": "python3"
  },
  "language_info": {
   "codemirror_mode": {
    "name": "ipython",
    "version": 3
   },
   "file_extension": ".py",
   "mimetype": "text/x-python",
   "name": "python",
   "nbconvert_exporter": "python",
   "pygments_lexer": "ipython3",
   "version": "3.8.13"
  }
 },
 "nbformat": 4,
 "nbformat_minor": 5
}
