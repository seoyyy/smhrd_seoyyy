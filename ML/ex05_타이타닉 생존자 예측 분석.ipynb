{
 "cells": [
  {
   "cell_type": "code",
   "execution_count": 12,
   "id": "6db0a437",
   "metadata": {},
   "outputs": [],
   "source": [
    "import numpy as np\n",
    "import pandas as pd\n",
    "import matplotlib.pyplot as plt\n",
    "import seaborn as sns # 시각화 라이브러리\n"
   ]
  },
  {
   "cell_type": "markdown",
   "id": "5778e77d",
   "metadata": {},
   "source": [
    "### 목표\n",
    "- 타이타닉 데이터를 학습해서 생존자 및 사망자를 예측해보자\n",
    "- 머신러닝 전체 과정 진행"
   ]
  },
  {
   "cell_type": "markdown",
   "id": "1a463c4f",
   "metadata": {},
   "source": [
    "### 1. 문제정의\n",
    "- 생존자/사망자 예측\n",
    "- 머신러닝 과정 전체를 체험해보는 예제"
   ]
  },
  {
   "cell_type": "markdown",
   "id": "9af03c0a",
   "metadata": {},
   "source": [
    "### 2. 데이터 수집\n",
    "- Kaggle 사이트로부터 다운로드"
   ]
  },
  {
   "cell_type": "code",
   "execution_count": 13,
   "id": "86a9c636",
   "metadata": {},
   "outputs": [],
   "source": [
    "# 타이타닉 train데이터와 test데이터를 변수 train, test에 저장하시오\n",
    "# 단 인덱스는 PassengerId 사용"
   ]
  },
  {
   "cell_type": "code",
   "execution_count": 14,
   "id": "7d5e3795",
   "metadata": {},
   "outputs": [],
   "source": [
    "train = pd.read_csv('./data/train.csv')\n",
    "test = pd.read_csv('./data/test.csv')"
   ]
  },
  {
   "cell_type": "code",
   "execution_count": 15,
   "id": "d77a44c2",
   "metadata": {},
   "outputs": [
    {
     "data": {
      "text/plain": [
       "(6999, 12)"
      ]
     },
     "execution_count": 15,
     "metadata": {},
     "output_type": "execute_result"
    }
   ],
   "source": [
    "train.shape"
   ]
  },
  {
   "cell_type": "code",
   "execution_count": 16,
   "id": "4a42cd18",
   "metadata": {},
   "outputs": [
    {
     "data": {
      "text/plain": [
       "(4000, 11)"
      ]
     },
     "execution_count": 16,
     "metadata": {},
     "output_type": "execute_result"
    }
   ],
   "source": [
    "test.shape"
   ]
  },
  {
   "cell_type": "code",
   "execution_count": null,
   "id": "bb676af4",
   "metadata": {},
   "outputs": [],
   "source": []
  },
  {
   "cell_type": "markdown",
   "id": "0c37c462",
   "metadata": {},
   "source": [
    "### 3. 데이터 전처리 및 데이터탐색"
   ]
  },
  {
   "cell_type": "code",
   "execution_count": 17,
   "id": "a149ef68",
   "metadata": {},
   "outputs": [
    {
     "name": "stdout",
     "output_type": "stream",
     "text": [
      "<class 'pandas.core.frame.DataFrame'>\n",
      "RangeIndex: 6999 entries, 0 to 6998\n",
      "Data columns (total 12 columns):\n",
      " #   Column               Non-Null Count  Dtype  \n",
      "---  ------               --------------  -----  \n",
      " 0   ID                   6999 non-null   int64  \n",
      " 1   Warehouse_block      6999 non-null   object \n",
      " 2   Mode_of_Shipment     6999 non-null   object \n",
      " 3   Customer_care_calls  5423 non-null   float64\n",
      " 4   Customer_rating      6999 non-null   int64  \n",
      " 5   Cost_of_the_Product  6999 non-null   int64  \n",
      " 6   Prior_purchases      6049 non-null   float64\n",
      " 7   Product_importance   6999 non-null   object \n",
      " 8   Gender               6999 non-null   object \n",
      " 9   Discount_offered     3468 non-null   float64\n",
      " 10  Weight_in_gms        6999 non-null   object \n",
      " 11  Reached.on.Time_Y.N  6999 non-null   int64  \n",
      "dtypes: float64(3), int64(4), object(5)\n",
      "memory usage: 656.3+ KB\n"
     ]
    }
   ],
   "source": [
    "train.info()"
   ]
  },
  {
   "cell_type": "markdown",
   "id": "1feae0ba",
   "metadata": {},
   "source": [
    "### Age 채우기\n",
    "- 단순 기술통계치로 채우지않고 다른 컬럼과의 상관관계를 통해 결측치를 채워보자.\n",
    "- Age와 다른 컬럼간의 상관관계를 알아보자."
   ]
  },
  {
   "cell_type": "code",
   "execution_count": 18,
   "id": "f9b58dd5",
   "metadata": {},
   "outputs": [
    {
     "data": {
      "text/html": [
       "<div>\n",
       "<style scoped>\n",
       "    .dataframe tbody tr th:only-of-type {\n",
       "        vertical-align: middle;\n",
       "    }\n",
       "\n",
       "    .dataframe tbody tr th {\n",
       "        vertical-align: top;\n",
       "    }\n",
       "\n",
       "    .dataframe thead th {\n",
       "        text-align: right;\n",
       "    }\n",
       "</style>\n",
       "<table border=\"1\" class=\"dataframe\">\n",
       "  <thead>\n",
       "    <tr style=\"text-align: right;\">\n",
       "      <th></th>\n",
       "      <th>ID</th>\n",
       "      <th>Customer_care_calls</th>\n",
       "      <th>Customer_rating</th>\n",
       "      <th>Cost_of_the_Product</th>\n",
       "      <th>Prior_purchases</th>\n",
       "      <th>Discount_offered</th>\n",
       "      <th>Reached.on.Time_Y.N</th>\n",
       "    </tr>\n",
       "  </thead>\n",
       "  <tbody>\n",
       "    <tr>\n",
       "      <th>ID</th>\n",
       "      <td>1.000000</td>\n",
       "      <td>-0.007719</td>\n",
       "      <td>0.007690</td>\n",
       "      <td>0.009738</td>\n",
       "      <td>-0.002985</td>\n",
       "      <td>0.002196</td>\n",
       "      <td>-0.014909</td>\n",
       "    </tr>\n",
       "    <tr>\n",
       "      <th>Customer_care_calls</th>\n",
       "      <td>-0.007719</td>\n",
       "      <td>1.000000</td>\n",
       "      <td>0.013420</td>\n",
       "      <td>0.047041</td>\n",
       "      <td>0.173709</td>\n",
       "      <td>-0.158465</td>\n",
       "      <td>-0.070266</td>\n",
       "    </tr>\n",
       "    <tr>\n",
       "      <th>Customer_rating</th>\n",
       "      <td>0.007690</td>\n",
       "      <td>0.013420</td>\n",
       "      <td>1.000000</td>\n",
       "      <td>-0.001961</td>\n",
       "      <td>0.008217</td>\n",
       "      <td>-0.016456</td>\n",
       "      <td>0.011275</td>\n",
       "    </tr>\n",
       "    <tr>\n",
       "      <th>Cost_of_the_Product</th>\n",
       "      <td>0.009738</td>\n",
       "      <td>0.047041</td>\n",
       "      <td>-0.001961</td>\n",
       "      <td>1.000000</td>\n",
       "      <td>0.028947</td>\n",
       "      <td>-0.139349</td>\n",
       "      <td>-0.012811</td>\n",
       "    </tr>\n",
       "    <tr>\n",
       "      <th>Prior_purchases</th>\n",
       "      <td>-0.002985</td>\n",
       "      <td>0.173709</td>\n",
       "      <td>0.008217</td>\n",
       "      <td>0.028947</td>\n",
       "      <td>1.000000</td>\n",
       "      <td>-0.081868</td>\n",
       "      <td>-0.065160</td>\n",
       "    </tr>\n",
       "    <tr>\n",
       "      <th>Discount_offered</th>\n",
       "      <td>0.002196</td>\n",
       "      <td>-0.158465</td>\n",
       "      <td>-0.016456</td>\n",
       "      <td>-0.139349</td>\n",
       "      <td>-0.081868</td>\n",
       "      <td>1.000000</td>\n",
       "      <td>0.397393</td>\n",
       "    </tr>\n",
       "    <tr>\n",
       "      <th>Reached.on.Time_Y.N</th>\n",
       "      <td>-0.014909</td>\n",
       "      <td>-0.070266</td>\n",
       "      <td>0.011275</td>\n",
       "      <td>-0.012811</td>\n",
       "      <td>-0.065160</td>\n",
       "      <td>0.397393</td>\n",
       "      <td>1.000000</td>\n",
       "    </tr>\n",
       "  </tbody>\n",
       "</table>\n",
       "</div>"
      ],
      "text/plain": [
       "                           ID  Customer_care_calls  Customer_rating  \\\n",
       "ID                   1.000000            -0.007719         0.007690   \n",
       "Customer_care_calls -0.007719             1.000000         0.013420   \n",
       "Customer_rating      0.007690             0.013420         1.000000   \n",
       "Cost_of_the_Product  0.009738             0.047041        -0.001961   \n",
       "Prior_purchases     -0.002985             0.173709         0.008217   \n",
       "Discount_offered     0.002196            -0.158465        -0.016456   \n",
       "Reached.on.Time_Y.N -0.014909            -0.070266         0.011275   \n",
       "\n",
       "                     Cost_of_the_Product  Prior_purchases  Discount_offered  \\\n",
       "ID                              0.009738        -0.002985          0.002196   \n",
       "Customer_care_calls             0.047041         0.173709         -0.158465   \n",
       "Customer_rating                -0.001961         0.008217         -0.016456   \n",
       "Cost_of_the_Product             1.000000         0.028947         -0.139349   \n",
       "Prior_purchases                 0.028947         1.000000         -0.081868   \n",
       "Discount_offered               -0.139349        -0.081868          1.000000   \n",
       "Reached.on.Time_Y.N            -0.012811        -0.065160          0.397393   \n",
       "\n",
       "                     Reached.on.Time_Y.N  \n",
       "ID                             -0.014909  \n",
       "Customer_care_calls            -0.070266  \n",
       "Customer_rating                 0.011275  \n",
       "Cost_of_the_Product            -0.012811  \n",
       "Prior_purchases                -0.065160  \n",
       "Discount_offered                0.397393  \n",
       "Reached.on.Time_Y.N             1.000000  "
      ]
     },
     "execution_count": 18,
     "metadata": {},
     "output_type": "execute_result"
    }
   ],
   "source": [
    "# corr()      \n",
    "# 상관계수(correlation) : 변수간의 관계의 정도를 수치로 요약해주는 지표\n",
    "# -1 ~ 1 사이의 값으로 표현\n",
    "# -1에 가까울수록 음의 상관관계 -> 반비례관계\n",
    "# 1에 가까울수록 양의 상관관계 -> 비례관계\n",
    "\n",
    "#결국 가장높은 상관관계를 알아보려면 절대값으로 !! \n",
    "\n",
    "\n",
    "train.corr()"
   ]
  },
  {
   "cell_type": "markdown",
   "id": "722abd8a",
   "metadata": {},
   "source": [
    "- Pclass가 가장 높은 상관관계를 갖는다.\n",
    "- 생존에 관련이 많은 것 같은 성별을 함께 활용"
   ]
  },
  {
   "cell_type": "code",
   "execution_count": 19,
   "id": "b6472aa3",
   "metadata": {},
   "outputs": [
    {
     "ename": "KeyError",
     "evalue": "'Age'",
     "output_type": "error",
     "traceback": [
      "\u001b[1;31m---------------------------------------------------------------------------\u001b[0m",
      "\u001b[1;31mKeyError\u001b[0m                                  Traceback (most recent call last)",
      "\u001b[1;32m~\\AppData\\Local\\Temp/ipykernel_3352/3794297993.py\u001b[0m in \u001b[0;36m<module>\u001b[1;34m\u001b[0m\n\u001b[1;32m----> 1\u001b[1;33m pt1 = train.pivot_table( values='Age',\n\u001b[0m\u001b[0;32m      2\u001b[0m                  \u001b[0mindex\u001b[0m \u001b[1;33m=\u001b[0m \u001b[1;33m[\u001b[0m\u001b[1;34m'Pclass'\u001b[0m\u001b[1;33m,\u001b[0m \u001b[1;34m'Sex'\u001b[0m\u001b[1;33m]\u001b[0m\u001b[1;33m,\u001b[0m\u001b[1;33m\u001b[0m\u001b[1;33m\u001b[0m\u001b[0m\n\u001b[0;32m      3\u001b[0m                  aggfunc = 'mean')\n\u001b[0;32m      4\u001b[0m \u001b[0mpt1\u001b[0m\u001b[1;33m\u001b[0m\u001b[1;33m\u001b[0m\u001b[0m\n",
      "\u001b[1;32m~\\Anaconda3\\lib\\site-packages\\pandas\\core\\frame.py\u001b[0m in \u001b[0;36mpivot_table\u001b[1;34m(self, values, index, columns, aggfunc, fill_value, margins, dropna, margins_name, observed, sort)\u001b[0m\n\u001b[0;32m   7949\u001b[0m         \u001b[1;32mfrom\u001b[0m \u001b[0mpandas\u001b[0m\u001b[1;33m.\u001b[0m\u001b[0mcore\u001b[0m\u001b[1;33m.\u001b[0m\u001b[0mreshape\u001b[0m\u001b[1;33m.\u001b[0m\u001b[0mpivot\u001b[0m \u001b[1;32mimport\u001b[0m \u001b[0mpivot_table\u001b[0m\u001b[1;33m\u001b[0m\u001b[1;33m\u001b[0m\u001b[0m\n\u001b[0;32m   7950\u001b[0m \u001b[1;33m\u001b[0m\u001b[0m\n\u001b[1;32m-> 7951\u001b[1;33m         return pivot_table(\n\u001b[0m\u001b[0;32m   7952\u001b[0m             \u001b[0mself\u001b[0m\u001b[1;33m,\u001b[0m\u001b[1;33m\u001b[0m\u001b[1;33m\u001b[0m\u001b[0m\n\u001b[0;32m   7953\u001b[0m             \u001b[0mvalues\u001b[0m\u001b[1;33m=\u001b[0m\u001b[0mvalues\u001b[0m\u001b[1;33m,\u001b[0m\u001b[1;33m\u001b[0m\u001b[1;33m\u001b[0m\u001b[0m\n",
      "\u001b[1;32m~\\Anaconda3\\lib\\site-packages\\pandas\\core\\reshape\\pivot.py\u001b[0m in \u001b[0;36mpivot_table\u001b[1;34m(data, values, index, columns, aggfunc, fill_value, margins, dropna, margins_name, observed, sort)\u001b[0m\n\u001b[0;32m     93\u001b[0m         \u001b[1;32mreturn\u001b[0m \u001b[0mtable\u001b[0m\u001b[1;33m.\u001b[0m\u001b[0m__finalize__\u001b[0m\u001b[1;33m(\u001b[0m\u001b[0mdata\u001b[0m\u001b[1;33m,\u001b[0m \u001b[0mmethod\u001b[0m\u001b[1;33m=\u001b[0m\u001b[1;34m\"pivot_table\"\u001b[0m\u001b[1;33m)\u001b[0m\u001b[1;33m\u001b[0m\u001b[1;33m\u001b[0m\u001b[0m\n\u001b[0;32m     94\u001b[0m \u001b[1;33m\u001b[0m\u001b[0m\n\u001b[1;32m---> 95\u001b[1;33m     table = __internal_pivot_table(\n\u001b[0m\u001b[0;32m     96\u001b[0m         \u001b[0mdata\u001b[0m\u001b[1;33m,\u001b[0m\u001b[1;33m\u001b[0m\u001b[1;33m\u001b[0m\u001b[0m\n\u001b[0;32m     97\u001b[0m         \u001b[0mvalues\u001b[0m\u001b[1;33m,\u001b[0m\u001b[1;33m\u001b[0m\u001b[1;33m\u001b[0m\u001b[0m\n",
      "\u001b[1;32m~\\Anaconda3\\lib\\site-packages\\pandas\\core\\reshape\\pivot.py\u001b[0m in \u001b[0;36m__internal_pivot_table\u001b[1;34m(data, values, index, columns, aggfunc, fill_value, margins, dropna, margins_name, observed, sort)\u001b[0m\n\u001b[0;32m    139\u001b[0m         \u001b[1;32mfor\u001b[0m \u001b[0mi\u001b[0m \u001b[1;32min\u001b[0m \u001b[0mvalues\u001b[0m\u001b[1;33m:\u001b[0m\u001b[1;33m\u001b[0m\u001b[1;33m\u001b[0m\u001b[0m\n\u001b[0;32m    140\u001b[0m             \u001b[1;32mif\u001b[0m \u001b[0mi\u001b[0m \u001b[1;32mnot\u001b[0m \u001b[1;32min\u001b[0m \u001b[0mdata\u001b[0m\u001b[1;33m:\u001b[0m\u001b[1;33m\u001b[0m\u001b[1;33m\u001b[0m\u001b[0m\n\u001b[1;32m--> 141\u001b[1;33m                 \u001b[1;32mraise\u001b[0m \u001b[0mKeyError\u001b[0m\u001b[1;33m(\u001b[0m\u001b[0mi\u001b[0m\u001b[1;33m)\u001b[0m\u001b[1;33m\u001b[0m\u001b[1;33m\u001b[0m\u001b[0m\n\u001b[0m\u001b[0;32m    142\u001b[0m \u001b[1;33m\u001b[0m\u001b[0m\n\u001b[0;32m    143\u001b[0m         \u001b[0mto_filter\u001b[0m \u001b[1;33m=\u001b[0m \u001b[1;33m[\u001b[0m\u001b[1;33m]\u001b[0m\u001b[1;33m\u001b[0m\u001b[1;33m\u001b[0m\u001b[0m\n",
      "\u001b[1;31mKeyError\u001b[0m: 'Age'"
     ]
    }
   ],
   "source": [
    "pt1 = train.pivot_table( values='Age',\n",
    "                 index = ['Pclass', 'Sex'],\n",
    "                 aggfunc = 'mean')\n",
    "pt1"
   ]
  },
  {
   "cell_type": "code",
   "execution_count": null,
   "id": "ff789cb6",
   "metadata": {},
   "outputs": [],
   "source": [
    "pt1.loc[2, 'female']"
   ]
  },
  {
   "cell_type": "code",
   "execution_count": null,
   "id": "58337f5c",
   "metadata": {},
   "outputs": [],
   "source": [
    "pt1.loc[3,'male'][0]"
   ]
  },
  {
   "cell_type": "code",
   "execution_count": null,
   "id": "06e56e9d",
   "metadata": {},
   "outputs": [],
   "source": [
    "def fill_age(row):\n",
    "    # 만약 나이가 결측치라면 피봇테이블에서 값을 가져와서 채우겠다.\n",
    "    if np.isnan(row['Age']):\n",
    "        return pt1.loc[row['Pclass'], row['Sex']][0]\n",
    "    # 만약 나이가 결측치가 아니라면 원래 나이값을 사용\n",
    "    else:\n",
    "        return row['Age']"
   ]
  },
  {
   "cell_type": "code",
   "execution_count": null,
   "id": "ee410025",
   "metadata": {},
   "outputs": [],
   "source": [
    "train['Age'] = train.apply(fill_age, axis = 1)"
   ]
  },
  {
   "cell_type": "code",
   "execution_count": null,
   "id": "db97c4ed",
   "metadata": {},
   "outputs": [],
   "source": [
    "train.info()"
   ]
  },
  {
   "cell_type": "code",
   "execution_count": null,
   "id": "f8349a10",
   "metadata": {},
   "outputs": [],
   "source": [
    "test.info()"
   ]
  },
  {
   "cell_type": "code",
   "execution_count": null,
   "id": "0658556a",
   "metadata": {},
   "outputs": [],
   "source": [
    "test['Age'] = test.apply(fill_age, axis = 1)\n"
   ]
  },
  {
   "cell_type": "code",
   "execution_count": null,
   "id": "53392d92",
   "metadata": {},
   "outputs": [],
   "source": [
    "test.info()"
   ]
  },
  {
   "cell_type": "markdown",
   "id": "f88fe037",
   "metadata": {},
   "source": [
    "### Embarked 채우기"
   ]
  },
  {
   "cell_type": "code",
   "execution_count": null,
   "id": "845b82dc",
   "metadata": {},
   "outputs": [],
   "source": [
    "train['Embarked'].value_counts()"
   ]
  },
  {
   "cell_type": "code",
   "execution_count": null,
   "id": "18d30f1e",
   "metadata": {},
   "outputs": [],
   "source": [
    "test['Embarked'].value_counts()"
   ]
  },
  {
   "cell_type": "code",
   "execution_count": null,
   "id": "70d0f46e",
   "metadata": {},
   "outputs": [],
   "source": [
    "# fillna('값') : 결측치에 값을 채움"
   ]
  },
  {
   "cell_type": "code",
   "execution_count": null,
   "id": "b9b16f0e",
   "metadata": {},
   "outputs": [],
   "source": [
    "train['Embarked'] = train['Embarked'].fillna('S')"
   ]
  },
  {
   "cell_type": "code",
   "execution_count": null,
   "id": "5aabaf02",
   "metadata": {},
   "outputs": [],
   "source": []
  },
  {
   "cell_type": "markdown",
   "id": "023813a1",
   "metadata": {},
   "source": [
    "### Fare 채우기"
   ]
  },
  {
   "cell_type": "code",
   "execution_count": null,
   "id": "0d1e1f89",
   "metadata": {},
   "outputs": [],
   "source": [
    "# 1. 상관관계를 파악하여 가장 관계가 깊은 컬럼찾기\n",
    "train.corr() #Pclass\n",
    "\n"
   ]
  },
  {
   "cell_type": "code",
   "execution_count": null,
   "id": "ff48784f",
   "metadata": {},
   "outputs": [],
   "source": [
    "# 2. 관계가 깊은컬럼과, 성별을 같이 묶어 피봇테이블 생성\n",
    "pt2 = train.pivot_table( values='Fare',\n",
    "                 index = ['Pclass', 'Sex'],\n",
    "                 aggfunc = 'mean')\n",
    "pt2\n",
    "\n",
    "\n"
   ]
  },
  {
   "cell_type": "code",
   "execution_count": null,
   "id": "e0851f06",
   "metadata": {
    "scrolled": false
   },
   "outputs": [],
   "source": [
    "#결측치 1개 -> 직접 확인해보자 !\n",
    "test[test['Fare'].isnull()]"
   ]
  },
  {
   "cell_type": "code",
   "execution_count": null,
   "id": "7c1be7cc",
   "metadata": {},
   "outputs": [],
   "source": [
    "pt2.loc[3,'female']\n",
    "# 시리즈 정보가 섞여있음 . 데이터를 넣어줄땐 숫자값만 넣어주기 위해 아래에서 [0]넣어서 숫자값만 들어가도록해줘야함.\n",
    "#안그럼 이 정보들이 시리즈 형태로 다 들어가게되면 나중에 핫원 인코딩이 안됌."
   ]
  },
  {
   "cell_type": "code",
   "execution_count": null,
   "id": "f9055bce",
   "metadata": {},
   "outputs": [],
   "source": [
    "# 3. apply 함수를 활용할 사용자 정의함수 구현( fill_fare()로 만들기 )  - apply함수 --> for문 이용안하고 하나하나씩 넣어주는 함수\n",
    "def fill_fare(row):\n",
    "    # 만약 나이가 결측치라면 피봇테이블에서 값을 가져와서 채우겠다.\n",
    "    if np.isnan(row['Fare']):\n",
    "        return pt2.loc[row['Pclass'], row['Sex']][0]\n",
    "    # 만약 나이가 결측치가 아니라면 원래 나이값을 사용\n",
    "    else:\n",
    "        return row['Fare']\n",
    "# 4. apply 함수 사용하여 결측치 채우기. \n",
    "test['Fare']= test.apply(fill_fare, axis = 1)"
   ]
  },
  {
   "cell_type": "code",
   "execution_count": null,
   "id": "1e85c8ba",
   "metadata": {},
   "outputs": [],
   "source": [
    "test.info()"
   ]
  },
  {
   "cell_type": "code",
   "execution_count": null,
   "id": "bdfba4a2",
   "metadata": {},
   "outputs": [],
   "source": [
    "#이게 결측치 값을 채우는 과정임"
   ]
  },
  {
   "cell_type": "markdown",
   "id": "018ea55a",
   "metadata": {},
   "source": [
    "### Cabin 결측치 채우기"
   ]
  },
  {
   "cell_type": "code",
   "execution_count": null,
   "id": "a07c4aaf",
   "metadata": {},
   "outputs": [],
   "source": [
    "train['Cabin']"
   ]
  },
  {
   "cell_type": "code",
   "execution_count": null,
   "id": "140d4083",
   "metadata": {},
   "outputs": [],
   "source": [
    "train['Cabin'].unique()"
   ]
  },
  {
   "cell_type": "markdown",
   "id": "d65d89bf",
   "metadata": {},
   "source": [
    "- Cabin의 범주가 너무 많으니 종류를 줄여보자!(모델이 복잡해지는것 (과대적합)을 방지)\n",
    "- 결측치를 하나의 데이터로 활용해볼수도있음"
   ]
  },
  {
   "cell_type": "code",
   "execution_count": null,
   "id": "b538683f",
   "metadata": {},
   "outputs": [],
   "source": [
    "train['Cabin'].str[0]\n",
    "#pandas에서 제공하는 문자열 각 하나하나에 접근하는 str"
   ]
  },
  {
   "cell_type": "code",
   "execution_count": null,
   "id": "5d8d0e32",
   "metadata": {},
   "outputs": [],
   "source": [
    "train['Cabin']"
   ]
  },
  {
   "cell_type": "code",
   "execution_count": null,
   "id": "1f3dbcae",
   "metadata": {},
   "outputs": [],
   "source": [
    "train.info()"
   ]
  },
  {
   "cell_type": "code",
   "execution_count": null,
   "id": "60e1132c",
   "metadata": {},
   "outputs": [],
   "source": [
    "#결측치 채우기--> 기존값에 없는 알파벳으로 채워줘볼거임\n",
    "train['Cabin'].fillna('M', inplace= True)"
   ]
  },
  {
   "cell_type": "code",
   "execution_count": null,
   "id": "21ba505f",
   "metadata": {},
   "outputs": [],
   "source": [
    "train['Cabin']"
   ]
  },
  {
   "cell_type": "code",
   "execution_count": null,
   "id": "8acc1d1e",
   "metadata": {},
   "outputs": [],
   "source": [
    "#train에 저렇게 했으면 test에도 동일하게 해줘야함( train에 해줬던 전처리를 동일하게 해주기)\n",
    "test['Cabin']=test['Cabin'].str[0]"
   ]
  },
  {
   "cell_type": "code",
   "execution_count": null,
   "id": "6da5b4bb",
   "metadata": {},
   "outputs": [],
   "source": [
    "test['Cabin'].fillna('M', inplace = True)"
   ]
  },
  {
   "cell_type": "code",
   "execution_count": null,
   "id": "f4fc241b",
   "metadata": {},
   "outputs": [],
   "source": [
    "test.info()"
   ]
  },
  {
   "cell_type": "markdown",
   "id": "898f9feb",
   "metadata": {},
   "source": [
    "- 분석전에 전처리 해줬음\n",
    "\n",
    "\n",
    "### 4. 탐색적 데이터 분석(EDA)\n",
    "- train 데이터를 이용해 탐색"
   ]
  },
  {
   "cell_type": "markdown",
   "id": "2fe7c61c",
   "metadata": {},
   "source": [
    "#### 범주형 데이터 시각화\n",
    "- 빈도기반에 bar chart 많이 활용"
   ]
  },
  {
   "cell_type": "markdown",
   "id": "a6bc0e96",
   "metadata": {},
   "source": [
    "### Cabin 컬럼 시각화"
   ]
  },
  {
   "cell_type": "code",
   "execution_count": null,
   "id": "af7d256e",
   "metadata": {},
   "outputs": [],
   "source": [
    "sns.countplot(data=train,\n",
    "                 x='Cabin',\n",
    "                hue='Survived')\n",
    "#씨본을 이용해서 카운트플롯을 그릴거야 이때 사용할 데이터는 train데이터이고 train데이터에있는 cabin컬럼을 x축에 넣어"
   ]
  },
  {
   "cell_type": "markdown",
   "id": "2c99e07e",
   "metadata": {},
   "source": [
    "- M에서 상대적으로 많은 사람들이 사망했다. 모델에게 학습을 시켜도 의미가 있을 수 있겠다 \n"
   ]
  },
  {
   "cell_type": "markdown",
   "id": "ee2b01d3",
   "metadata": {},
   "source": [
    " ##### Pclass 컬럼 시각화"
   ]
  },
  {
   "cell_type": "code",
   "execution_count": null,
   "id": "b8e6db6a",
   "metadata": {},
   "outputs": [],
   "source": [
    "sns.countplot(data=train,\n",
    "             y='Pclass',\n",
    "              hue='Survived'  #생존자와 사망자 나누어서 쪼개어보기\n",
    "             )"
   ]
  },
  {
   "cell_type": "markdown",
   "id": "ea440b01",
   "metadata": {},
   "source": [
    "- 1등급에 탑승하면 생존 확률이 조금 있다.\n",
    "- 3등급에 탑승하면 사망 확률이 높다.\n",
    "- Pclass를 모델에게 사용해도 괜찮을 것 같다!"
   ]
  },
  {
   "cell_type": "markdown",
   "id": "d7c4488b",
   "metadata": {},
   "source": [
    "### Pclass와 Cabin 시각화"
   ]
  },
  {
   "cell_type": "code",
   "execution_count": null,
   "id": "adab227e",
   "metadata": {},
   "outputs": [],
   "source": [
    "sns.countplot(data=train,\n",
    "             x='Cabin',\n",
    "             hue='Pclass')"
   ]
  },
  {
   "cell_type": "markdown",
   "id": "24632dc8",
   "metadata": {},
   "source": [
    "- A,B,C 에는 1등급 사람들이 탑승했다.\n",
    "- M에는 3등급 사람들이 많이 탑승했다 -> 3등급 사람이 많이 사망해서 정보가 손실된걸까?"
   ]
  },
  {
   "cell_type": "markdown",
   "id": "4c46ffa8",
   "metadata": {},
   "source": [
    "#### Embarked, Sex 시각화"
   ]
  },
  {
   "cell_type": "code",
   "execution_count": null,
   "id": "1b0090a9",
   "metadata": {},
   "outputs": [],
   "source": [
    "sns.countplot(data=train,\n",
    "             x='Embarked',\n",
    "             hue='Survived')"
   ]
  },
  {
   "cell_type": "code",
   "execution_count": null,
   "id": "e9ba50d1",
   "metadata": {},
   "outputs": [],
   "source": [
    "sns.countplot(data=train,\n",
    "             x='Embarked',\n",
    "             hue='Pclass')"
   ]
  },
  {
   "cell_type": "code",
   "execution_count": null,
   "id": "dbf9510e",
   "metadata": {},
   "outputs": [],
   "source": [
    "sns.countplot(data=train,\n",
    "             x='Sex',\n",
    "             hue='Survived')"
   ]
  },
  {
   "cell_type": "markdown",
   "id": "fb6e7b50",
   "metadata": {},
   "source": [
    "### 수치형 데이터"
   ]
  },
  {
   "cell_type": "code",
   "execution_count": null,
   "id": "5b623ddd",
   "metadata": {},
   "outputs": [],
   "source": [
    "#데이터 타입 int로 변경\n",
    "train['Age'] = train['Age'].astype('int')"
   ]
  },
  {
   "cell_type": "code",
   "execution_count": null,
   "id": "369eb6d2",
   "metadata": {},
   "outputs": [],
   "source": [
    "test['Age']=test['Age'].astype('int')"
   ]
  },
  {
   "cell_type": "code",
   "execution_count": null,
   "id": "cfe8405c",
   "metadata": {},
   "outputs": [],
   "source": [
    "test['Age']"
   ]
  },
  {
   "cell_type": "code",
   "execution_count": null,
   "id": "8cf85bcc",
   "metadata": {},
   "outputs": [],
   "source": [
    "train['Age']"
   ]
  },
  {
   "cell_type": "code",
   "execution_count": null,
   "id": "c1f00c80",
   "metadata": {},
   "outputs": [],
   "source": [
    "plt.hist(train['Age'])\n",
    "plt.show()"
   ]
  },
  {
   "cell_type": "code",
   "execution_count": null,
   "id": "9b179bc7",
   "metadata": {},
   "outputs": [],
   "source": [
    "plt.hist(train['Age'],bins=3)\n",
    "plt.show()"
   ]
  },
  {
   "cell_type": "code",
   "execution_count": null,
   "id": "8073fd3b",
   "metadata": {},
   "outputs": [],
   "source": [
    "# 밀도그래프 !\n",
    "plt.figure(figsize=(15,5))\n",
    "sns.violinplot(data=train,\n",
    "              y='Age',\n",
    "              x='Sex',\n",
    "              hue='Survived',\n",
    "              split=True)"
   ]
  },
  {
   "cell_type": "markdown",
   "id": "18b08082",
   "metadata": {},
   "source": [
    "- 어린아이 중 남자아이는 생존 확률이 높고 여자 아이는 사망확률이 조금더 높다(시대적인 배경?)\n",
    "- 남성의 경우 2-30대가 좀 더 많이 사망"
   ]
  },
  {
   "cell_type": "markdown",
   "id": "5e51b73f",
   "metadata": {},
   "source": [
    "### Fare 시각화"
   ]
  },
  {
   "cell_type": "code",
   "execution_count": null,
   "id": "9188e121",
   "metadata": {},
   "outputs": [],
   "source": [
    "# 밀도그래프 !\n",
    "plt.figure(figsize=(15,5))\n",
    "sns.violinplot(data=train,\n",
    "              y='Fare',\n",
    "              x='Sex',\n",
    "              hue='Survived',\n",
    "              split=True)"
   ]
  },
  {
   "cell_type": "markdown",
   "id": "5e520035",
   "metadata": {},
   "source": [
    "- 낮은 요금을 지불한 사람들이 상대적으로 많이 사망했다.\n",
    "- 전체 요금이 0~40달러 사이에 많이 분포되어 있다. "
   ]
  },
  {
   "cell_type": "code",
   "execution_count": null,
   "id": "610d5cae",
   "metadata": {},
   "outputs": [],
   "source": [
    "train.head(1)"
   ]
  },
  {
   "cell_type": "code",
   "execution_count": null,
   "id": "0c977f0e",
   "metadata": {},
   "outputs": [],
   "source": []
  },
  {
   "cell_type": "markdown",
   "id": "75eac5ca",
   "metadata": {},
   "source": [
    "### 특성공학\n",
    "- SibSp와 Parch를 합쳐서 '가족'이라는 새 컬럼 생성"
   ]
  },
  {
   "cell_type": "code",
   "execution_count": null,
   "id": "7dcb4483",
   "metadata": {},
   "outputs": [],
   "source": [
    "train['Family_Size'] = train['SibSp'] + train['Parch'] +1"
   ]
  },
  {
   "cell_type": "code",
   "execution_count": null,
   "id": "bb8d90e5",
   "metadata": {},
   "outputs": [],
   "source": [
    "test['Family_Size'] = test['SibSp'] + test['Parch']+1"
   ]
  },
  {
   "cell_type": "code",
   "execution_count": null,
   "id": "5f536f13",
   "metadata": {},
   "outputs": [],
   "source": [
    "train.head(1)"
   ]
  },
  {
   "cell_type": "code",
   "execution_count": null,
   "id": "5da8d938",
   "metadata": {},
   "outputs": [],
   "source": [
    "sns.countplot(data=train,\n",
    "             x='Family_Size',\n",
    "             hue='Survived')"
   ]
  },
  {
   "cell_type": "markdown",
   "id": "317cdf87",
   "metadata": {},
   "source": [
    "- 1명은 사망 비율이 높다\n",
    "- 2~4명은 생존 비율이 조금 더 높다.\n",
    "- 5명 이상은 사망 비율이 조금 더 높다.\n",
    "- Family_Size를 그대로 써도 좋지만, 범주형 데이터로 변환해보자!\n",
    "- Binning(수치형 -> 범주형) - 모델 학습의 단순화 유도"
   ]
  },
  {
   "cell_type": "markdown",
   "id": "8f105662",
   "metadata": {},
   "source": [
    "#### 특성공학 \n",
    "- Family_Size가 1이면 Alone, 2~4 이면 Small, 5명 이상이면 Large범주로 변경!\n",
    "- cut함수 활용\n",
    "\n",
    "\n",
    "\n",
    "\n",
    "- 그룹화시키기\n",
    "- 수치데이터를 범주형데이터로 바꾸는걸 binning이라고함\n",
    "\n"
   ]
  },
  {
   "cell_type": "code",
   "execution_count": null,
   "id": "c7943aec",
   "metadata": {},
   "outputs": [],
   "source": [
    "train['Family_Size']"
   ]
  },
  {
   "cell_type": "code",
   "execution_count": null,
   "id": "d7fd38a0",
   "metadata": {},
   "outputs": [],
   "source": [
    "# 구간에따라 나눠주는(잘라주는) cut함수\n",
    "bins =[0,1,4,20] #구간설정\n",
    "labels=['Alone','Small','Large'] #구간별 이름 설정\n",
    "\n",
    "train['Family_Group'] = pd.cut(x=train['Family_Size'],\n",
    "      bins=bins,\n",
    "      labels=labels)\n"
   ]
  },
  {
   "cell_type": "code",
   "execution_count": null,
   "id": "5959e544",
   "metadata": {},
   "outputs": [],
   "source": [
    "# 구간에따라 나눠주는(잘라주는) cut함수\n",
    "bins =[0,1,4,20] #구간설정\n",
    "labels=['Alone','Small','Large'] #구간별 이름 설정\n",
    "\n",
    "test['Family_Group'] = pd.cut(x=test['Family_Size'],\n",
    "      bins=bins,\n",
    "      labels=labels)\n"
   ]
  },
  {
   "cell_type": "code",
   "execution_count": null,
   "id": "6c765333",
   "metadata": {},
   "outputs": [],
   "source": [
    "test.head(3)"
   ]
  },
  {
   "cell_type": "code",
   "execution_count": null,
   "id": "c8c990ec",
   "metadata": {},
   "outputs": [],
   "source": [
    "test['Family_Group'].unique()"
   ]
  },
  {
   "cell_type": "code",
   "execution_count": null,
   "id": "706a6149",
   "metadata": {},
   "outputs": [],
   "source": [
    "sns.countplot(data=train,\n",
    "             x='Family_Group',\n",
    "             hue='Survived')"
   ]
  },
  {
   "cell_type": "code",
   "execution_count": null,
   "id": "a93918b1",
   "metadata": {},
   "outputs": [],
   "source": [
    "train.head(1)"
   ]
  },
  {
   "cell_type": "markdown",
   "id": "c018bfd3",
   "metadata": {},
   "source": [
    " #### 특성공학\n",
    "- text 데이터 다루기(비정형 데이터)\n",
    "- Name : 중간에 있는 호칭 정보만 뽑아서 정형화 시켜보자 !\n"
   ]
  },
  {
   "cell_type": "code",
   "execution_count": null,
   "id": "31e160ca",
   "metadata": {
    "scrolled": true
   },
   "outputs": [],
   "source": [
    "train['Name']"
   ]
  },
  {
   "cell_type": "code",
   "execution_count": null,
   "id": "64b29dd4",
   "metadata": {},
   "outputs": [],
   "source": [
    "# 호칭 정보만 뽑아보자 !\n",
    "\n",
    "# 1. ',' 뒤  --> split 함수로 ,(쉽표)를 가지고 쪼개고 리스트에 담아주는 함수\n",
    "'Braund, Mr. Owen Harris'"
   ]
  },
  {
   "cell_type": "code",
   "execution_count": null,
   "id": "74d645f3",
   "metadata": {},
   "outputs": [],
   "source": [
    "'Braund, Mr. Owen Harris'.split(',')[1]"
   ]
  },
  {
   "cell_type": "code",
   "execution_count": null,
   "id": "0cbae710",
   "metadata": {},
   "outputs": [],
   "source": [
    "# 2. '.' 앞에 호칭 정보가 있다!\n",
    "'Braund, Mr. Owen Harris'.split(',')[1].split('.')[0]"
   ]
  },
  {
   "cell_type": "code",
   "execution_count": null,
   "id": "cf06ac79",
   "metadata": {},
   "outputs": [],
   "source": [
    "# 3. 공백 제거 !\n",
    "'Braund, Mr. Owen Harris'.split(',')[1].split('.')[0].strip()\n"
   ]
  },
  {
   "cell_type": "code",
   "execution_count": null,
   "id": "68f772ff",
   "metadata": {},
   "outputs": [],
   "source": [
    "# 함수 만들기\n",
    "def split_title(row):\n",
    "    return row.split(',')[1].split('.')[0].strip()\n",
    "    "
   ]
  },
  {
   "cell_type": "code",
   "execution_count": null,
   "id": "a70d6583",
   "metadata": {},
   "outputs": [],
   "source": [
    "#이렇게 변경하는 함수를 train 의 name컬럼에 적용시켜주기 \n",
    "# 내가만든 함수를 전부다 적용시켜주는 함수 apply (for문처럼)\n",
    "train['Name'].apply(split_title)"
   ]
  },
  {
   "cell_type": "code",
   "execution_count": null,
   "id": "fa309d5f",
   "metadata": {},
   "outputs": [],
   "source": [
    "# 호칭 정보가 담긴 title 컬럼 생성 !\n",
    "train['Title'] = train['Name'].apply(split_title)"
   ]
  },
  {
   "cell_type": "code",
   "execution_count": null,
   "id": "ffd5d7bb",
   "metadata": {},
   "outputs": [],
   "source": [
    "test['Title'] = test['Name'].apply(split_title)"
   ]
  },
  {
   "cell_type": "code",
   "execution_count": null,
   "id": "2f3b1803",
   "metadata": {},
   "outputs": [],
   "source": [
    "test.head()"
   ]
  },
  {
   "cell_type": "code",
   "execution_count": null,
   "id": "a5f79091",
   "metadata": {},
   "outputs": [],
   "source": [
    "# 정형화된 Title 종류 확인 !\n",
    "train['Title'].unique()"
   ]
  },
  {
   "cell_type": "code",
   "execution_count": null,
   "id": "6ee27c6a",
   "metadata": {},
   "outputs": [],
   "source": [
    "plt.figure(figsize=(20,5))\n",
    "sns.countplot(data = train,\n",
    "             x='Title',\n",
    "             hue='Survived')"
   ]
  },
  {
   "cell_type": "markdown",
   "id": "f404d07f",
   "metadata": {},
   "source": [
    "- Mr, Mrs, Miss : 성별과 관련이 많은 호칭. 모델에 사용해봐도 괜찮겠다!\n",
    "- Master : 나이가 어린 남성을 부르는 호칭 \n",
    "- 나머지 호칭들은 인원수가 적고 종류가 많다 -> 범주를 통합시켜보자 !"
   ]
  },
  {
   "cell_type": "code",
   "execution_count": null,
   "id": "99b3d342",
   "metadata": {},
   "outputs": [],
   "source": [
    "# map 함수 이용( 딕셔너리 자료형에서 키값을 벨류로  하나하나 매핑시켜주는)\n",
    "title_dic = {\n",
    "    'Mr' : 'Mr',\n",
    "    'Mrs' : 'Mrs',\n",
    "    'Miss' : 'Miss',\n",
    "    'Master' : 'Master',\n",
    "    'Mme' : 'Miss',\n",
    "    'Lady' : 'Miss',\n",
    "    'Don' : 'Other',\n",
    "    'Rev' : 'Other',\n",
    "    'Dr' : 'Other',\n",
    "    'Ms' : 'Miss',\n",
    "    'Major' : 'Other',\n",
    "    'Sir' : 'Other',\n",
    "    'Mlle' : 'Other',\n",
    "    'Col' : 'Other',\n",
    "    'Capt' : 'Other',\n",
    "    'the Countess' : 'Other',\n",
    "    'Jonkheer' : 'Other',\n",
    "    'Dona' : 'Other'\n",
    "}"
   ]
  },
  {
   "cell_type": "code",
   "execution_count": null,
   "id": "7744c32f",
   "metadata": {},
   "outputs": [],
   "source": [
    "train['Title2'] = train['Title'].map(title_dic)"
   ]
  },
  {
   "cell_type": "code",
   "execution_count": null,
   "id": "eef159cf",
   "metadata": {},
   "outputs": [],
   "source": [
    "train['Title2'].unique() "
   ]
  },
  {
   "cell_type": "code",
   "execution_count": null,
   "id": "f6e1464e",
   "metadata": {},
   "outputs": [],
   "source": [
    "test['Title2'] = test['Title'].map(title_dic)"
   ]
  },
  {
   "cell_type": "code",
   "execution_count": null,
   "id": "f8cfbeab",
   "metadata": {},
   "outputs": [],
   "source": [
    "test['Title2'].unique()"
   ]
  },
  {
   "cell_type": "code",
   "execution_count": null,
   "id": "6570aace",
   "metadata": {},
   "outputs": [],
   "source": [
    "test['Title'].unique()"
   ]
  },
  {
   "cell_type": "code",
   "execution_count": null,
   "id": "c5a0de4a",
   "metadata": {},
   "outputs": [],
   "source": [
    "train.head()"
   ]
  },
  {
   "cell_type": "markdown",
   "id": "4e7f0335",
   "metadata": {},
   "source": [
    "### Ticket 정보는 사용하지 않을거다 !"
   ]
  },
  {
   "cell_type": "markdown",
   "id": "694ddd96",
   "metadata": {},
   "source": [
    " ### 사용하지 않을 컬럼 정리해보기  -> 비정형데이터로 이루어진 컬럼  3개 삭제할거야"
   ]
  },
  {
   "cell_type": "code",
   "execution_count": null,
   "id": "c3e38b34",
   "metadata": {},
   "outputs": [],
   "source": [
    "train.columns"
   ]
  },
  {
   "cell_type": "code",
   "execution_count": null,
   "id": "e3747c63",
   "metadata": {},
   "outputs": [],
   "source": [
    "train.drop(['Name','Ticket','Title'], axis=1, inplace =True)"
   ]
  },
  {
   "cell_type": "code",
   "execution_count": null,
   "id": "e4eac2a6",
   "metadata": {},
   "outputs": [],
   "source": [
    "test.drop(['Name','Ticket','Title'], axis=1,inplace=True)"
   ]
  },
  {
   "cell_type": "code",
   "execution_count": null,
   "id": "fbce1614",
   "metadata": {},
   "outputs": [],
   "source": [
    "#---모델링할 데이터 준비 끝-----"
   ]
  },
  {
   "cell_type": "code",
   "execution_count": null,
   "id": "62002bb7",
   "metadata": {},
   "outputs": [],
   "source": []
  },
  {
   "cell_type": "markdown",
   "id": "c6b47011",
   "metadata": {},
   "source": [
    "### 5. 모델링\n",
    "- 이대로 모델링 시킬수 없음 --> 문자열 데이터가 있어서 (문자열데이터는 컴퓨터가 알아먹지 못함)\n",
    "- 컴퓨터가 알아먹을 수 있도록 수치형으로 바꿔주는 인코딩 해줘야함.( label인코딩,one-hot인코딩)\n",
    "\n",
    "- 인코딩 (문자 형태의 데이터를 숫자 형태의 데이터로 변환)\n",
    "    - 1. label encoding\n",
    "    - 2. one-hot encoding\n",
    "    \n",
    "- 모델 선택 및 하이퍼파라미터 조정\n",
    "- 모델 학습\n",
    "- 모델 평가"
   ]
  },
  {
   "cell_type": "code",
   "execution_count": null,
   "id": "c86cd90d",
   "metadata": {},
   "outputs": [],
   "source": [
    "# get_dummies 함수 이용해서 원- 핫 인코딩 진행시킴\n",
    "train = pd.get_dummies(train)"
   ]
  },
  {
   "cell_type": "code",
   "execution_count": null,
   "id": "aeebcca3",
   "metadata": {},
   "outputs": [],
   "source": [
    "train"
   ]
  },
  {
   "cell_type": "code",
   "execution_count": null,
   "id": "36367949",
   "metadata": {},
   "outputs": [],
   "source": [
    "test"
   ]
  },
  {
   "cell_type": "code",
   "execution_count": null,
   "id": "ce0f91d0",
   "metadata": {},
   "outputs": [],
   "source": []
  },
  {
   "cell_type": "code",
   "execution_count": null,
   "id": "e428379a",
   "metadata": {},
   "outputs": [],
   "source": [
    "# ------------오류해결 ----------------\n",
    "test = pd.get_dummies(test)"
   ]
  },
  {
   "cell_type": "code",
   "execution_count": null,
   "id": "c42e6e18",
   "metadata": {},
   "outputs": [],
   "source": [
    "test.shape\n",
    "#원핫인코딩을하면서 트레인에는 없던데이터가 테스트에는 있어서 범주가 하나 더생긴거임."
   ]
  },
  {
   "cell_type": "code",
   "execution_count": null,
   "id": "f07212d8",
   "metadata": {},
   "outputs": [],
   "source": [
    " # train, test 컬럼명 차집합 연산\n",
    "    # train에는 test엔느 없는 범주 데이터가 하나 더 있었음 ! ( 그 데이터를 확인하기 위해서)\n",
    "set(train.columns) - set(test.columns)"
   ]
  },
  {
   "cell_type": "code",
   "execution_count": null,
   "id": "4262f492",
   "metadata": {},
   "outputs": [],
   "source": [
    "set(test.columns) - set(train.columns)"
   ]
  },
  {
   "cell_type": "code",
   "execution_count": null,
   "id": "2a9c1e53",
   "metadata": {},
   "outputs": [],
   "source": [
    "# train데이터와 test데이터의 컬럼수를 맞춰주기 위해 (train에는 있고 test에는 없는) \n",
    "# cabin_T= 0으로 놓으면 값이 없다는뜻이니 이렇게 해서 맞춰주기\n",
    "test['Cabin_T'] = 0"
   ]
  },
  {
   "cell_type": "code",
   "execution_count": null,
   "id": "8f7d6cae",
   "metadata": {},
   "outputs": [],
   "source": [
    "test.shape"
   ]
  },
  {
   "cell_type": "code",
   "execution_count": null,
   "id": "fe84ef55",
   "metadata": {},
   "outputs": [],
   "source": [
    "# 문제, 정답 나누기\n",
    "X_train = train.drop('Survived', axis =1)\n",
    "y_train = train['Survived']"
   ]
  },
  {
   "cell_type": "code",
   "execution_count": null,
   "id": "56fb405b",
   "metadata": {},
   "outputs": [],
   "source": [
    "X_test = test\n",
    "# y_test-> 케글한테"
   ]
  },
  {
   "cell_type": "code",
   "execution_count": null,
   "id": "77e7cb7e",
   "metadata": {},
   "outputs": [],
   "source": [
    "# 컬럼 확인\n",
    "X_train.columns"
   ]
  },
  {
   "cell_type": "code",
   "execution_count": null,
   "id": "4249a668",
   "metadata": {},
   "outputs": [],
   "source": [
    "X_test.columns"
   ]
  },
  {
   "cell_type": "code",
   "execution_count": null,
   "id": "a7115525",
   "metadata": {},
   "outputs": [],
   "source": [
    "# 컬럼 순서들이 다르니 컬럼 순서들 맞춰줘야함"
   ]
  },
  {
   "cell_type": "code",
   "execution_count": null,
   "id": "e5e2493f",
   "metadata": {},
   "outputs": [],
   "source": [
    "# X_test를 X_train의 컬럼 순서대로 가져온걸 다시 X_test에 담고\n",
    "X_test = X_test[X_train.columns]"
   ]
  },
  {
   "cell_type": "code",
   "execution_count": null,
   "id": "8ff0c11c",
   "metadata": {},
   "outputs": [],
   "source": [
    "X_train.head(1)\n",
    "X_test.head(1)"
   ]
  },
  {
   "cell_type": "code",
   "execution_count": null,
   "id": "88912043",
   "metadata": {},
   "outputs": [],
   "source": [
    "# test 도 똑같이 인코딩 시켜주려했는데  전체를하려닌까 무슨 시리즈 타입때매 오류가 나서 \n",
    "# 우회해서 하나씩 인코딩해서 원래 테스트에 붙여넣을거야"
   ]
  },
  {
   "cell_type": "code",
   "execution_count": null,
   "id": "3050d012",
   "metadata": {},
   "outputs": [],
   "source": [
    "# 원핫 인코딩 시켜줄 컬럼들을 한 변수에 넣어주기\n",
    "#categorical_features = ['Sex', 'Cabin', 'Embarked', 'Family_Group','Title2']"
   ]
  },
  {
   "cell_type": "code",
   "execution_count": null,
   "id": "dd0c1cfe",
   "metadata": {},
   "outputs": [],
   "source": [
    "#categorical_features"
   ]
  },
  {
   "cell_type": "code",
   "execution_count": null,
   "id": "6dacae32",
   "metadata": {},
   "outputs": [],
   "source": [
    "# 리스트 안에있는 컬럼 이름 하나하나를 꺼내서 원핫인코딩해줄거야\n",
    "# prefix라는건 접두사 로 어느 컬럼에서 파생된건지 붙여주기 위해서 \n",
    "#for feature_name in categorical_features:\n",
    "#    one_hot = pd.get_dummies(test[feature_name], prefix = feature_name)\n",
    "#    test.drop(feature_name, axis = 1, inplace = True) # 숫자로 인코딩했으닌까 기존에 있던 글자test 데이터를 삭제해주기\n",
    "#    test = pd.concat([test, one_hot],axis = 1) # 숫자랑 기존데이터 합쳐주기"
   ]
  },
  {
   "cell_type": "code",
   "execution_count": null,
   "id": "7215ae2b",
   "metadata": {},
   "outputs": [],
   "source": []
  },
  {
   "cell_type": "code",
   "execution_count": null,
   "id": "feab165b",
   "metadata": {},
   "outputs": [],
   "source": []
  },
  {
   "cell_type": "code",
   "execution_count": null,
   "id": "a1dabeaa",
   "metadata": {},
   "outputs": [],
   "source": []
  },
  {
   "cell_type": "code",
   "execution_count": null,
   "id": "cacc098e",
   "metadata": {},
   "outputs": [],
   "source": []
  },
  {
   "cell_type": "code",
   "execution_count": null,
   "id": "22e4b6c2",
   "metadata": {},
   "outputs": [],
   "source": []
  },
  {
   "cell_type": "code",
   "execution_count": null,
   "id": "0289dbf0",
   "metadata": {},
   "outputs": [],
   "source": []
  },
  {
   "cell_type": "code",
   "execution_count": null,
   "id": "575d1d43",
   "metadata": {},
   "outputs": [],
   "source": []
  },
  {
   "cell_type": "code",
   "execution_count": null,
   "id": "b76ba325",
   "metadata": {},
   "outputs": [],
   "source": []
  },
  {
   "cell_type": "code",
   "execution_count": null,
   "id": "50dbf546",
   "metadata": {},
   "outputs": [],
   "source": []
  },
  {
   "cell_type": "code",
   "execution_count": null,
   "id": "76e7038d",
   "metadata": {},
   "outputs": [],
   "source": []
  }
 ],
 "metadata": {
  "kernelspec": {
   "display_name": "Python 3 (ipykernel)",
   "language": "python",
   "name": "python3"
  },
  "language_info": {
   "codemirror_mode": {
    "name": "ipython",
    "version": 3
   },
   "file_extension": ".py",
   "mimetype": "text/x-python",
   "name": "python",
   "nbconvert_exporter": "python",
   "pygments_lexer": "ipython3",
   "version": "3.9.7"
  }
 },
 "nbformat": 4,
 "nbformat_minor": 5
}
