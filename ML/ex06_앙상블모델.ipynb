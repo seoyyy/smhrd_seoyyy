{
 "cells": [
  {
   "cell_type": "markdown",
   "id": "2956ce79",
   "metadata": {},
   "source": [
    "# Voting\n",
    "\n",
    "- 여러 개의 모델을 사용하여 학습하고 다수결(하드)이나 확률(소프트) 평균을 구하는 방식\n",
    "- 학습 결과의 분산값을 줄여서 정확도를 올려주는 효과\n"
   ]
  },
  {
   "cell_type": "code",
   "execution_count": 37,
   "id": "064b2289",
   "metadata": {},
   "outputs": [
    {
     "data": {
      "text/plain": [
       "((112, 4), (38, 4), (112,), (38,))"
      ]
     },
     "execution_count": 37,
     "metadata": {},
     "output_type": "execute_result"
    }
   ],
   "source": [
    "from sklearn.datasets import load_iris\n",
    "from sklearn.neighbors import KNeighborsClassifier\n",
    "from sklearn.tree import DecisionTreeClassifier\n",
    "\n",
    "# 보팅을 하기위해서 앙상블에있는 보팅 클래스파이어 사용\n",
    "from sklearn.ensemble import VotingClassifier\n",
    "\n",
    "# 데이터쪼개기위해서 트레인데이터와 테스트 데이터를 임의로 쪼개주는 함수\n",
    "from sklearn.model_selection import train_test_split\n",
    "\n",
    "iris = load_iris()\n",
    "\n",
    "X = iris.data\n",
    "y = iris.target\n",
    "\n",
    "# 트레인데이터와 테스트데이터 분리해주기 (훈련 75%, 테스트 25%)\n",
    "\n",
    "X_train, X_test, y_train, y_test = train_test_split(X,y,random_state = 77)\n",
    "\n",
    "X_train.shape, X_test.shape, y_train.shape, y_test.shape"
   ]
  },
  {
   "cell_type": "code",
   "execution_count": 38,
   "id": "4b0f288e",
   "metadata": {},
   "outputs": [],
   "source": [
    "#나랑 가까운애가 누군지 찾아서 내가 어떤 분류속으로 들어가는지 판별하는 - 거리방식\n",
    "# 나랑가장 가까이있는 사람 중 몇명이랑 비교할건지\n",
    "knn = KNeighborsClassifier(n_neighbors = 3)\n",
    "dt = DecisionTreeClassifier(max_depth=3)\n",
    "\n",
    "voting = VotingClassifier(estimators = [(\"KNN\",knn),('DT',dt)],\n",
    "                         voting = \"soft\")"
   ]
  },
  {
   "cell_type": "code",
   "execution_count": 39,
   "id": "dee67e68",
   "metadata": {},
   "outputs": [
    {
     "data": {
      "text/plain": [
       "VotingClassifier(estimators=[('KNN', KNeighborsClassifier(n_neighbors=3)),\n",
       "                             ('DT', DecisionTreeClassifier(max_depth=3))],\n",
       "                 voting='soft')"
      ]
     },
     "execution_count": 39,
     "metadata": {},
     "output_type": "execute_result"
    }
   ],
   "source": [
    "knn.fit(X_train,y_train)\n",
    "dt.fit(X_train,y_train)\n",
    "voting.fit(X_train,y_train)"
   ]
  },
  {
   "cell_type": "code",
   "execution_count": 40,
   "id": "4806416c",
   "metadata": {},
   "outputs": [
    {
     "name": "stdout",
     "output_type": "stream",
     "text": [
      "knn :  0.9910714285714286\n",
      "dt :  0.9910714285714286\n",
      "voting :  0.9910714285714286\n"
     ]
    }
   ],
   "source": [
    "#여러개 모델을 가지고 좋은값ㅇ르 찾는게 아니라 더 나은 모델을 찾기위해 여러모델들을가지고 평균값을 구해 과적합이줄어든 일반화된데이터를 얻을 수 있음\n",
    "# 어디는 잘나오고 어디는 못나오면 좋은 모델이아님. \n",
    "print(\"knn : \", knn.score(X_train,y_train))\n",
    "print(\"dt : \", dt.score(X_train,y_train))\n",
    "print(\"voting : \", voting.score(X_train,y_train))"
   ]
  },
  {
   "cell_type": "markdown",
   "id": "c5ede6ac",
   "metadata": {},
   "source": [
    "# Stacking\n",
    "\n",
    "- 여러 개의 모델을 사용하여 학습하는 방법\n",
    "- 일부 모델을 사용하여 학습한 결과값(예측값)을 특성값으로 하여 다시 다른 모델로 학습시키는 방법"
   ]
  },
  {
   "cell_type": "code",
   "execution_count": 41,
   "id": "76834ec8",
   "metadata": {},
   "outputs": [
    {
     "name": "stderr",
     "output_type": "stream",
     "text": [
      "C:\\Users\\smhrd\\Anaconda3\\lib\\site-packages\\sklearn\\svm\\_base.py:985: ConvergenceWarning: Liblinear failed to converge, increase the number of iterations.\n",
      "  warnings.warn(\"Liblinear failed to converge, increase \"\n"
     ]
    },
    {
     "data": {
      "text/plain": [
       "LinearSVC()"
      ]
     },
     "execution_count": 41,
     "metadata": {},
     "output_type": "execute_result"
    }
   ],
   "source": [
    "# 최소 3개의 모델은 있어야해서 안배운 모델 일단 써보자\n",
    "from sklearn.svm import LinearSVC\n",
    "from sklearn.ensemble import RandomForestClassifier\n",
    "\n",
    "svc = LinearSVC()\n",
    "rf = RandomForestClassifier()\n",
    "\n",
    "svc.fit(X_train, y_train)"
   ]
  },
  {
   "cell_type": "code",
   "execution_count": 42,
   "id": "8c57d510",
   "metadata": {},
   "outputs": [],
   "source": [
    "pred_knn = knn.predict(X_train)\n",
    "pred_dt = dt.predict(X_train)\n",
    "pred_svc = svc.predict(X_train)"
   ]
  },
  {
   "cell_type": "code",
   "execution_count": 43,
   "id": "6e0f9669",
   "metadata": {},
   "outputs": [
    {
     "data": {
      "text/plain": [
       "(112, 3)"
      ]
     },
     "execution_count": 43,
     "metadata": {},
     "output_type": "execute_result"
    }
   ],
   "source": [
    "# 예측할 라벨값들을 특성값으로 사용하도록 변환\n",
    "import numpy as np \n",
    "\n",
    "X_new = np.array([pred_knn, pred_dt, pred_svc]).transpose()\n",
    "# .transpose()는 행을 열로 열을행으로 바꿔주는 함수\n",
    "\n",
    "X_new.shape\n",
    "\n",
    "# 학습한 데이터들을 열값으로 넣어 새로운 특성값으로 만드는거"
   ]
  },
  {
   "cell_type": "code",
   "execution_count": 44,
   "id": "f26fcbd2",
   "metadata": {},
   "outputs": [
    {
     "data": {
      "text/plain": [
       "RandomForestClassifier()"
      ]
     },
     "execution_count": 44,
     "metadata": {},
     "output_type": "execute_result"
    }
   ],
   "source": [
    "rf.fit(X_new,y_train)"
   ]
  },
  {
   "cell_type": "code",
   "execution_count": 45,
   "id": "d48f7e70",
   "metadata": {},
   "outputs": [],
   "source": [
    "pred_rf = rf.predict(X_new)"
   ]
  },
  {
   "cell_type": "code",
   "execution_count": 46,
   "id": "54de2325",
   "metadata": {},
   "outputs": [
    {
     "data": {
      "text/plain": [
       "array([1, 2, 0, 1, 0, 0, 1, 0, 1, 2, 1, 0, 1, 1, 2, 0, 0, 0, 1, 2, 0, 0,\n",
       "       0, 0, 1, 2, 1, 1, 2, 2, 0, 2, 2, 2, 1, 1, 0, 1, 2, 0, 0, 1, 0, 0,\n",
       "       0, 0, 1, 1, 2, 2, 1, 0, 1, 2, 1, 1, 1, 0, 1, 0, 0, 2, 0, 1, 2, 1,\n",
       "       2, 1, 0, 1, 2, 2, 1, 2, 2, 0, 0, 2, 2, 1, 0, 0, 1, 2, 2, 0, 2, 1,\n",
       "       0, 0, 2, 1, 2, 0, 1, 2, 2, 1, 2, 0, 0, 0, 0, 2, 1, 2, 1, 0, 2, 0,\n",
       "       1, 1])"
      ]
     },
     "execution_count": 46,
     "metadata": {},
     "output_type": "execute_result"
    }
   ],
   "source": [
    "pred_rf"
   ]
  },
  {
   "cell_type": "code",
   "execution_count": 47,
   "id": "df7cc9ef",
   "metadata": {},
   "outputs": [
    {
     "name": "stdout",
     "output_type": "stream",
     "text": [
      "0.9910714285714286\n"
     ]
    }
   ],
   "source": [
    "# 예측한 결과를 가지고 score를 예측하는 함수 accuracy_score\n",
    "\n",
    "from sklearn.metrics import accuracy_score\n",
    "\n",
    "print(accuracy_score(pred_rf, y_train))"
   ]
  },
  {
   "cell_type": "markdown",
   "id": "6eb62826",
   "metadata": {},
   "source": [
    "# RandomForest\n",
    "- 의사결정트리가 복잡하기 때문에 과대적합이 발생\n",
    "- 의사결정트리의 트리를 여러개의 작은단위로 분리해서 학습해서 다수결이나 확률 평균을 구하는 방식의 모델\n",
    "\n",
    "- 랜덤포레스트에서 작은 단위의 트리르 만드는 방법\n",
    "    - 전체 데이터에서 랜덤으로 데이터를 샘플링( 중복 샘플링)\n",
    "         - 예를 들어 데이터가 [1,2,3,4,5]라면\n",
    "         - [1,2,3,4], [2,2,3,3]  이런식으로 중복이 되어 나올 수 있다. \n",
    "    - 각각의 작은 샘플링한 데이터로 트리를 만듬 (의사결정트리와 동일한 방법으로)\n",
    "    \n",
    "- 주요 파라미터 : \n",
    "    - n_estimators : 작은 트리의 개수\n",
    "    - max_features : 몇 개의 특성을 선택할 것인지 설정\n",
    "    - max_depth : 몇 층으로 된 트리를 만들 것인지 설정"
   ]
  },
  {
   "cell_type": "markdown",
   "id": "35d9938e",
   "metadata": {},
   "source": [
    "### 유방암 데이터셋을 이용한 학습"
   ]
  },
  {
   "cell_type": "code",
   "execution_count": 48,
   "id": "03f857b1",
   "metadata": {},
   "outputs": [
    {
     "data": {
      "text/plain": [
       "dict_keys(['data', 'target', 'frame', 'target_names', 'DESCR', 'feature_names', 'filename'])"
      ]
     },
     "execution_count": 48,
     "metadata": {},
     "output_type": "execute_result"
    }
   ],
   "source": [
    "# 데이터 불러오기\n",
    "from sklearn.datasets import load_breast_cancer\n",
    "\n",
    "cancer = load_breast_cancer()\n",
    "\n",
    "cancer.keys()"
   ]
  },
  {
   "cell_type": "code",
   "execution_count": 49,
   "id": "aaf2a55b",
   "metadata": {
    "scrolled": true
   },
   "outputs": [
    {
     "data": {
      "text/plain": [
       "array([0, 0, 0, 0, 0, 0, 0, 0, 0, 0, 0, 0, 0, 0, 0, 0, 0, 0, 0, 1, 1, 1,\n",
       "       0, 0, 0, 0, 0, 0, 0, 0, 0, 0, 0, 0, 0, 0, 0, 1, 0, 0, 0, 0, 0, 0,\n",
       "       0, 0, 1, 0, 1, 1, 1, 1, 1, 0, 0, 1, 0, 0, 1, 1, 1, 1, 0, 1, 0, 0,\n",
       "       1, 1, 1, 1, 0, 1, 0, 0, 1, 0, 1, 0, 0, 1, 1, 1, 0, 0, 1, 0, 0, 0,\n",
       "       1, 1, 1, 0, 1, 1, 0, 0, 1, 1, 1, 0, 0, 1, 1, 1, 1, 0, 1, 1, 0, 1,\n",
       "       1, 1, 1, 1, 1, 1, 1, 0, 0, 0, 1, 0, 0, 1, 1, 1, 0, 0, 1, 0, 1, 0,\n",
       "       0, 1, 0, 0, 1, 1, 0, 1, 1, 0, 1, 1, 1, 1, 0, 1, 1, 1, 1, 1, 1, 1,\n",
       "       1, 1, 0, 1, 1, 1, 1, 0, 0, 1, 0, 1, 1, 0, 0, 1, 1, 0, 0, 1, 1, 1,\n",
       "       1, 0, 1, 1, 0, 0, 0, 1, 0, 1, 0, 1, 1, 1, 0, 1, 1, 0, 0, 1, 0, 0,\n",
       "       0, 0, 1, 0, 0, 0, 1, 0, 1, 0, 1, 1, 0, 1, 0, 0, 0, 0, 1, 1, 0, 0,\n",
       "       1, 1, 1, 0, 1, 1, 1, 1, 1, 0, 0, 1, 1, 0, 1, 1, 0, 0, 1, 0, 1, 1,\n",
       "       1, 1, 0, 1, 1, 1, 1, 1, 0, 1, 0, 0, 0, 0, 0, 0, 0, 0, 0, 0, 0, 0,\n",
       "       0, 0, 1, 1, 1, 1, 1, 1, 0, 1, 0, 1, 1, 0, 1, 1, 0, 1, 0, 0, 1, 1,\n",
       "       1, 1, 1, 1, 1, 1, 1, 1, 1, 1, 1, 0, 1, 1, 0, 1, 0, 1, 1, 1, 1, 1,\n",
       "       1, 1, 1, 1, 1, 1, 1, 1, 1, 0, 1, 1, 1, 0, 1, 0, 1, 1, 1, 1, 0, 0,\n",
       "       0, 1, 1, 1, 1, 0, 1, 0, 1, 0, 1, 1, 1, 0, 1, 1, 1, 1, 1, 1, 1, 0,\n",
       "       0, 0, 1, 1, 1, 1, 1, 1, 1, 1, 1, 1, 1, 0, 0, 1, 0, 0, 0, 1, 0, 0,\n",
       "       1, 1, 1, 1, 1, 0, 1, 1, 1, 1, 1, 0, 1, 1, 1, 0, 1, 1, 0, 0, 1, 1,\n",
       "       1, 1, 1, 1, 0, 1, 1, 1, 1, 1, 1, 1, 0, 1, 1, 1, 1, 1, 0, 1, 1, 0,\n",
       "       1, 1, 1, 1, 1, 1, 1, 1, 1, 1, 1, 1, 0, 1, 0, 0, 1, 0, 1, 1, 1, 1,\n",
       "       1, 0, 1, 1, 0, 1, 0, 1, 1, 0, 1, 0, 1, 1, 1, 1, 1, 1, 1, 1, 0, 0,\n",
       "       1, 1, 1, 1, 1, 1, 0, 1, 1, 1, 1, 1, 1, 1, 1, 1, 1, 0, 1, 1, 1, 1,\n",
       "       1, 1, 1, 0, 1, 0, 1, 1, 0, 1, 1, 1, 1, 1, 0, 0, 1, 0, 1, 0, 1, 1,\n",
       "       1, 1, 1, 0, 1, 1, 0, 1, 0, 1, 0, 0, 1, 1, 1, 0, 1, 1, 1, 1, 1, 1,\n",
       "       1, 1, 1, 1, 1, 0, 1, 0, 0, 1, 1, 1, 1, 1, 1, 1, 1, 1, 1, 1, 1, 1,\n",
       "       1, 1, 1, 1, 1, 1, 1, 1, 1, 1, 1, 1, 0, 0, 0, 0, 0, 0, 1])"
      ]
     },
     "execution_count": 49,
     "metadata": {},
     "output_type": "execute_result"
    }
   ],
   "source": [
    "cancer[\"target\"]"
   ]
  },
  {
   "cell_type": "code",
   "execution_count": 50,
   "id": "ec311338",
   "metadata": {},
   "outputs": [
    {
     "data": {
      "text/plain": [
       "((426, 30), (143, 30), (426,), (143,))"
      ]
     },
     "execution_count": 50,
     "metadata": {},
     "output_type": "execute_result"
    }
   ],
   "source": [
    "# 훈련데이터와 테스트데이터로 분리\n",
    "X = cancer.data\n",
    "y = cancer.target\n",
    "\n",
    "X_train, X_test, y_train, y_test = train_test_split(X,y,random_state = 7)\n",
    "\n",
    "X_train.shape, X_test.shape, y_train.shape, y_test.shape"
   ]
  },
  {
   "cell_type": "code",
   "execution_count": 51,
   "id": "6bef1185",
   "metadata": {},
   "outputs": [
    {
     "data": {
      "text/plain": [
       "RandomForestClassifier(random_state=7)"
      ]
     },
     "execution_count": 51,
     "metadata": {},
     "output_type": "execute_result"
    }
   ],
   "source": [
    "# 훈련시켜보자 \n",
    "\n",
    "from sklearn.ensemble import RandomForestClassifier\n",
    "\n",
    "# random_state : 데이터와 특성을 선택할 때 동일한 것들을 선택하기 위한\n",
    "rf = RandomForestClassifier(n_estimators =100, random_state = 7)\n",
    "\n",
    "rf.fit(X_train,y_train)"
   ]
  },
  {
   "cell_type": "code",
   "execution_count": 52,
   "id": "b45352ce",
   "metadata": {},
   "outputs": [
    {
     "name": "stdout",
     "output_type": "stream",
     "text": [
      "훈련 정확도 :  1.0\n",
      "테스트 정확도 :  0.9790209790209791\n"
     ]
    }
   ],
   "source": [
    "print(\"훈련 정확도 : \", rf.score(X_train,y_train))\n",
    "print(\"테스트 정확도 : \", rf.score(X_test,y_test))"
   ]
  },
  {
   "cell_type": "code",
   "execution_count": 53,
   "id": "9ab4798f",
   "metadata": {},
   "outputs": [
    {
     "name": "stdout",
     "output_type": "stream",
     "text": [
      "훈련 정확도 :  0.9694835680751174\n",
      "테스트 정확도 :  0.9370629370629371\n"
     ]
    }
   ],
   "source": [
    "# 모델들 넣어보기\n",
    "\n",
    "#의사결정 트리모델 사용\n",
    "dt.fit(X_train,y_train)\n",
    "\n",
    "print(\"훈련 정확도 : \", dt.score(X_train,y_train))\n",
    "print(\"테스트 정확도 : \", dt.score(X_test,y_test))"
   ]
  },
  {
   "cell_type": "markdown",
   "id": "b26db607",
   "metadata": {},
   "source": [
    "- 랜덤포레스트는 중요한 특성을 선택하는 기능을 포함"
   ]
  },
  {
   "cell_type": "code",
   "execution_count": 54,
   "id": "b5e4750f",
   "metadata": {},
   "outputs": [
    {
     "data": {
      "image/png": "[encoded data removed]",
      "text/plain": [
       "<Figure size 432x288 with 1 Axes>"
      ]
     },
     "metadata": {
      "needs_background": "light"
     },
     "output_type": "display_data"
    }
   ],
   "source": [
    "import numpy as np \n",
    "import matplotlib.pyplot as plt\n",
    "\n",
    "#어떤 ㄴ특성을 더 즁요시하나 보자 ~\n",
    "# 중요한 특성을 시각화하는 함수 ( 사용한 모델, 출력할 특성의 수 )\n",
    "def plot_feature_importance(model, n_features):\n",
    "    #바차트로 표시\n",
    "    plt.barh(range(n_features), model.feature_importances_)  # .feature_importance 각 특징의 중요성\n",
    "    # y좌표에 눈금의 이름을 표시 \n",
    "    plt.yticks(np.arange(n_features),cancer.feature_names)\n",
    "    \n",
    "    \n",
    "# cancer.data.shape[1] : 유방암 데이터의 특성의 수를 설정   \n",
    "plot_feature_importance(rf, cancer.data.shape[1])\n",
    "\n",
    "#이러면 어떤 특징들이 중요한건지 뜸\n",
    "#바차트 ㄱ막대기가 긴게 중요한 특성들임\n",
    "\n",
    "#라벨과 관련이 높은애들을 선택해야함 (라벨에 영향을 많이주는애들)  -> 이걸 랜덤포레스트가 도와줌"
   ]
  },
  {
   "cell_type": "code",
   "execution_count": 55,
   "id": "60c11256",
   "metadata": {},
   "outputs": [
    {
     "data": {
      "text/plain": [
       "(569, 30)"
      ]
     },
     "execution_count": 55,
     "metadata": {},
     "output_type": "execute_result"
    }
   ],
   "source": [
    "cancer.data.shape"
   ]
  },
  {
   "cell_type": "code",
   "execution_count": 56,
   "id": "a8811758",
   "metadata": {},
   "outputs": [
    {
     "name": "stdout",
     "output_type": "stream",
     "text": [
      "[0]\n",
      "0\n"
     ]
    }
   ],
   "source": [
    "#양성으로갈지 음성으로 갈지 예측\n",
    "pred = rf.predict(X_test[1].reshape(1,-1))\n",
    "print(pred)\n",
    "print(y_test[1])"
   ]
  },
  {
   "cell_type": "code",
   "execution_count": 57,
   "id": "f890eff1",
   "metadata": {},
   "outputs": [],
   "source": [
    "# AdaBoost\n",
    "#- 이전 모델의 잘못 분류된 데이터에 가중치를 높이거나 낮추어서 다음 모델을 학습시키는 방법\n",
    "#- 최종적으로 학습된 모델들에 거중평균을 구해서 최종적으로 분류하는 모델\n",
    "\n",
    "# 문제 : 얼마만큼 크기를 잡아 줄일건지가 문제 "
   ]
  },
  {
   "cell_type": "code",
   "execution_count": 58,
   "id": "c5bb4431",
   "metadata": {},
   "outputs": [
    {
     "data": {
      "text/plain": [
       "AdaBoostClassifier(n_estimators=100, random_state=7)"
      ]
     },
     "execution_count": 58,
     "metadata": {},
     "output_type": "execute_result"
    }
   ],
   "source": [
    "from sklearn.ensemble import AdaBoostClassifier\n",
    "\n",
    "# n_estimators : 트리의 개수(max_depth와 유사한의미)\n",
    "ada = AdaBoostClassifier(n_estimators = 100, random_state = 7)\n",
    "\n",
    "ada.fit(X_train,y_train)"
   ]
  },
  {
   "cell_type": "code",
   "execution_count": 59,
   "id": "f2d5fec5",
   "metadata": {},
   "outputs": [
    {
     "name": "stdout",
     "output_type": "stream",
     "text": [
      "훈련 정확도 :  1.0\n",
      "테스트 정확도 :  0.972027972027972\n"
     ]
    }
   ],
   "source": [
    "\n",
    "print(\"훈련 정확도 : \", ada.score(X_train,y_train))\n",
    "print(\"테스트 정확도 : \", ada.score(X_test,y_test))"
   ]
  },
  {
   "cell_type": "code",
   "execution_count": 60,
   "id": "9a9b4b12",
   "metadata": {},
   "outputs": [
    {
     "data": {
      "image/png": "[encoded data removed]",
      "text/plain": [
       "<Figure size 432x288 with 1 Axes>"
      ]
     },
     "metadata": {
      "needs_background": "light"
     },
     "output_type": "display_data"
    }
   ],
   "source": [
    "plot_feature_importance(ada, cancer.data.shape[1])"
   ]
  },
  {
   "cell_type": "markdown",
   "id": "12cbe812",
   "metadata": {},
   "source": [
    "# GBM (Gradient Boost Machine)\n",
    "- 잘 못 분류된 데이터를 조정하는 방식으로 경사하강법을 사용( 오차가 가장 적은값)\n",
    "\n",
    "- 파라미터\n",
    "    - learning_rate ( 학습율) : 얼마씩 줄여갈 것인지 비율"
   ]
  },
  {
   "cell_type": "code",
   "execution_count": 61,
   "id": "5c760b43",
   "metadata": {},
   "outputs": [
    {
     "data": {
      "text/plain": [
       "GradientBoostingClassifier(random_state=7)"
      ]
     },
     "execution_count": 61,
     "metadata": {},
     "output_type": "execute_result"
    }
   ],
   "source": [
    "from sklearn.ensemble import GradientBoostingClassifier \n",
    "\n",
    "gbc = GradientBoostingClassifier(random_state =  7)\n",
    "gbc.fit(X_train,y_train)"
   ]
  },
  {
   "cell_type": "code",
   "execution_count": 62,
   "id": "7bdabc3c",
   "metadata": {},
   "outputs": [
    {
     "name": "stdout",
     "output_type": "stream",
     "text": [
      "훈련 정확도 :  1.0\n",
      "테스트 정확도 :  0.965034965034965\n"
     ]
    }
   ],
   "source": [
    "\n",
    "print(\"훈련 정확도 : \", gbc.score(X_train,y_train))\n",
    "print(\"테스트 정확도 : \", gbc.score(X_test,y_test))"
   ]
  },
  {
   "cell_type": "code",
   "execution_count": 63,
   "id": "682c0d3e",
   "metadata": {},
   "outputs": [
    {
     "name": "stdout",
     "output_type": "stream",
     "text": [
      "훈련 정확도 :  0.9929577464788732\n",
      "테스트 정확도 :  0.972027972027972\n"
     ]
    }
   ],
   "source": [
    "# 과대 적합을 감소시키는 방법\n",
    "#    - max_depth 파라미터로 가지치기 하는방법\n",
    "#    - learning_rate 파라미터로 학습률을 조정하는 방법\n",
    "\n",
    "gbc1 = GradientBoostingClassifier(random_state = 7, max_depth = 1)\n",
    "gbc1.fit(X_train,y_train)\n",
    "\n",
    "\n",
    "print(\"훈련 정확도 : \", gbc1.score(X_train,y_train))\n",
    "print(\"테스트 정확도 : \", gbc1.score(X_test,y_test))"
   ]
  },
  {
   "cell_type": "code",
   "execution_count": 64,
   "id": "0012c126",
   "metadata": {},
   "outputs": [
    {
     "data": {
      "image/png": "[encoded data removed]",
      "text/plain": [
       "<Figure size 432x288 with 1 Axes>"
      ]
     },
     "metadata": {
      "needs_background": "light"
     },
     "output_type": "display_data"
    }
   ],
   "source": [
    "plot_feature_importance(gbc1, cancer.data.shape[1])"
   ]
  },
  {
   "cell_type": "markdown",
   "id": "4e3bd2be",
   "metadata": {},
   "source": [
    "# Xgboost\n",
    "- GBM의 느린속도를 개선하기 위해 분산처리, Early Stopping을 지원\n",
    "- 과대적합을 방지하기 위한 규제를 사용"
   ]
  },
  {
   "cell_type": "code",
   "execution_count": 65,
   "id": "2d41cef6",
   "metadata": {},
   "outputs": [
    {
     "name": "stdout",
     "output_type": "stream",
     "text": [
      "Requirement already satisfied: xgboost in c:\\users\\smhrd\\anaconda3\\lib\\site-packages (1.6.1)\n",
      "Requirement already satisfied: numpy in c:\\users\\smhrd\\anaconda3\\lib\\site-packages (from xgboost) (1.20.3)\n",
      "Requirement already satisfied: scipy in c:\\users\\smhrd\\anaconda3\\lib\\site-packages (from xgboost) (1.7.1)\n"
     ]
    }
   ],
   "source": [
    "! pip install xgboost"
   ]
  },
  {
   "cell_type": "code",
   "execution_count": 66,
   "id": "371b8af3",
   "metadata": {},
   "outputs": [
    {
     "data": {
      "text/plain": [
       "XGBClassifier(base_score=0.5, booster='gbtree', callbacks=None,\n",
       "              colsample_bylevel=1, colsample_bynode=1, colsample_bytree=1,\n",
       "              early_stopping_rounds=None, enable_categorical=False,\n",
       "              eval_metric=None, gamma=0, gpu_id=-1, grow_policy='depthwise',\n",
       "              importance_type=None, interaction_constraints='',\n",
       "              learning_rate=0.300000012, max_bin=256, max_cat_to_onehot=4,\n",
       "              max_delta_step=0, max_depth=1, max_leaves=0, min_child_weight=1,\n",
       "              missing=nan, monotone_constraints='()', n_estimators=100,\n",
       "              n_jobs=0, num_parallel_tree=1, predictor='auto', random_state=7,\n",
       "              reg_alpha=0, reg_lambda=1, ...)"
      ]
     },
     "execution_count": 66,
     "metadata": {},
     "output_type": "execute_result"
    }
   ],
   "source": [
    "import xgboost\n",
    "from xgboost.sklearn import XGBClassifier\n",
    "\n",
    "xgbc = XGBClassifier(random_state = 7 , max_depth = 1)\n",
    "xgbc.fit(X_train, y_train)"
   ]
  },
  {
   "cell_type": "code",
   "execution_count": 67,
   "id": "c6d21c83",
   "metadata": {},
   "outputs": [
    {
     "name": "stdout",
     "output_type": "stream",
     "text": [
      "훈련 정확도 :  0.9976525821596244\n",
      "테스트 정확도 :  0.9790209790209791\n"
     ]
    }
   ],
   "source": [
    "\n",
    "print(\"훈련 정확도 : \", xgbc.score(X_train,y_train))\n",
    "print(\"테스트 정확도 : \", xgbc.score(X_test,y_test))"
   ]
  },
  {
   "cell_type": "code",
   "execution_count": 68,
   "id": "e05c9174",
   "metadata": {},
   "outputs": [
    {
     "data": {
      "image/png": "[encoded data removed]",
      "text/plain": [
       "<Figure size 432x288 with 1 Axes>"
      ]
     },
     "metadata": {
      "needs_background": "light"
     },
     "output_type": "display_data"
    }
   ],
   "source": [
    "plot_feature_importance(xgbc, cancer.data.shape[1])"
   ]
  },
  {
   "cell_type": "markdown",
   "id": "a91d6085",
   "metadata": {},
   "source": [
    "## KNN\n",
    "- 스케일링이 많은 영향을 받는 KNN모델"
   ]
  },
  {
   "cell_type": "code",
   "execution_count": 69,
   "id": "1f165da0",
   "metadata": {},
   "outputs": [],
   "source": [
    "# 모델로드\n",
    "from sklearn.neighbors import KNeighborsClassifier"
   ]
  },
  {
   "cell_type": "code",
   "execution_count": 70,
   "id": "454a880e",
   "metadata": {},
   "outputs": [],
   "source": [
    "knn = KNeighborsClassifier()"
   ]
  },
  {
   "cell_type": "markdown",
   "id": "86968238",
   "metadata": {},
   "source": []
  },
  {
   "cell_type": "code",
   "execution_count": 72,
   "id": "6f3318c5",
   "metadata": {},
   "outputs": [
    {
     "data": {
      "text/plain": [
       "0.9440559440559441"
      ]
     },
     "execution_count": 72,
     "metadata": {},
     "output_type": "execute_result"
    }
   ],
   "source": [
    "# 스케일링 없이 학습 먼저해보자\n",
    "knn.fit(X_train, y_train)\n",
    "knn.score(X_test,y_test)"
   ]
  },
  {
   "cell_type": "code",
   "execution_count": 74,
   "id": "46f8aa41",
   "metadata": {},
   "outputs": [],
   "source": [
    "# 스케일링 진행 후 학습\n",
    "from sklearn.preprocessing import StandardScaler, MinMaxScaler, RobustScaler\n",
    "\n",
    "stand_scaler = StandardScaler()\n"
   ]
  },
  {
   "cell_type": "code",
   "execution_count": 75,
   "id": "44980a81",
   "metadata": {},
   "outputs": [
    {
     "data": {
      "text/plain": [
       "StandardScaler()"
      ]
     },
     "execution_count": 75,
     "metadata": {},
     "output_type": "execute_result"
    }
   ],
   "source": [
    "# 변환부터 해보기\n",
    "# 변환해야 하는 값을 학습해서 어떤 범위로 조정해줘야하는지를 학습 - 데이터를 스탠다드에 집어넣으려면 평균이 0이고 분산이 1로 만드려고 집어넣는거 - 그래서 그렇게 바꾸려면 조정할 범위를 알아야함)\n",
    " \n",
    "stand_scaler.fit(X_train)"
   ]
  },
  {
   "cell_type": "code",
   "execution_count": 78,
   "id": "e1f3eba6",
   "metadata": {},
   "outputs": [],
   "source": [
    "# 학습 후 위에서 학습한 해당 범위로 변환\n",
    "X_train_scale = stand_scaler.transform(X_train)\n",
    "X_test_scale = stand_scaler.transform(X_test)"
   ]
  },
  {
   "cell_type": "code",
   "execution_count": 79,
   "id": "6ea04932",
   "metadata": {},
   "outputs": [
    {
     "data": {
      "text/plain": [
       "array([[1.120e+01, 2.937e+01, 7.067e+01, ..., 0.000e+00, 1.566e-01,\n",
       "        5.905e-02],\n",
       "       [1.578e+01, 2.291e+01, 1.057e+02, ..., 2.034e-01, 3.274e-01,\n",
       "        1.252e-01],\n",
       "       [1.222e+01, 2.004e+01, 7.947e+01, ..., 8.088e-02, 2.709e-01,\n",
       "        8.839e-02],\n",
       "       ...,\n",
       "       [1.169e+01, 2.444e+01, 7.637e+01, ..., 1.308e-01, 2.803e-01,\n",
       "        9.970e-02],\n",
       "       [1.377e+01, 2.229e+01, 9.063e+01, ..., 1.673e-01, 3.080e-01,\n",
       "        9.333e-02],\n",
       "       [8.671e+00, 1.445e+01, 5.442e+01, ..., 0.000e+00, 2.592e-01,\n",
       "        7.848e-02]])"
      ]
     },
     "execution_count": 79,
     "metadata": {},
     "output_type": "execute_result"
    }
   ],
   "source": [
    "X_train"
   ]
  },
  {
   "cell_type": "code",
   "execution_count": 80,
   "id": "6d7c5b43",
   "metadata": {},
   "outputs": [
    {
     "data": {
      "text/plain": [
       "array([[-0.84919185,  2.3210039 , -0.89422829, ..., -1.78191453,\n",
       "        -2.25235328, -1.39421644],\n",
       "       [ 0.41769327,  0.81989466,  0.51096163, ...,  1.30322634,\n",
       "         0.58210559,  2.25851416],\n",
       "       [-0.56704713,  0.15299318, -0.54122597, ..., -0.55513875,\n",
       "        -0.35552278,  0.22590625],\n",
       "       ...,\n",
       "       [-0.71365174,  1.17542053, -0.66557906, ...,  0.20204037,\n",
       "        -0.19952797,  0.85043207],\n",
       "       [-0.1382978 ,  0.67582535, -0.09355484, ...,  0.75566692,\n",
       "         0.26015886,  0.49868764],\n",
       "       [-1.54874479, -1.14595429, -1.54607917, ..., -1.78191453,\n",
       "        -0.54968653, -0.32131311]])"
      ]
     },
     "execution_count": 80,
     "metadata": {},
     "output_type": "execute_result"
    }
   ],
   "source": [
    "X_train_scale"
   ]
  },
  {
   "cell_type": "code",
   "execution_count": 81,
   "id": "c9b33434",
   "metadata": {},
   "outputs": [
    {
     "data": {
      "text/plain": [
       "0.958041958041958"
      ]
     },
     "execution_count": 81,
     "metadata": {},
     "output_type": "execute_result"
    }
   ],
   "source": [
    "#이걸 Knn모델에 학습을시키고 결과까지보자\n",
    "knn.fit(X_train_scale,y_train)\n",
    "knn.score(X_test_scale,y_test)"
   ]
  },
  {
   "cell_type": "code",
   "execution_count": null,
   "id": "abedbfdd",
   "metadata": {},
   "outputs": [],
   "source": []
  },
  {
   "cell_type": "code",
   "execution_count": null,
   "id": "9ddea580",
   "metadata": {},
   "outputs": [],
   "source": [
    "# fit_transform 은 train과 test가 분리되지 않았을때 사용\n",
    "# fit / trasnfrom은 train과 test가 분리되지 않았을때 "
   ]
  },
  {
   "cell_type": "code",
   "execution_count": null,
   "id": "aa87ba9f",
   "metadata": {},
   "outputs": [],
   "source": []
  },
  {
   "cell_type": "markdown",
   "id": "2093cada",
   "metadata": {},
   "source": [
    "# GridSearch"
   ]
  },
  {
   "cell_type": "code",
   "execution_count": 82,
   "id": "4d23133e",
   "metadata": {},
   "outputs": [],
   "source": [
    "from sklearn.model_selection import GridSearchCV"
   ]
  },
  {
   "cell_type": "code",
   "execution_count": 83,
   "id": "d5ac9985",
   "metadata": {},
   "outputs": [
    {
     "data": {
      "text/plain": [
       "DecisionTreeClassifier()"
      ]
     },
     "execution_count": 83,
     "metadata": {},
     "output_type": "execute_result"
    }
   ],
   "source": [
    "# max_depth\n",
    "DecisionTreeClassifier()"
   ]
  },
  {
   "cell_type": "code",
   "execution_count": null,
   "id": "cea6ea5e",
   "metadata": {},
   "outputs": [],
   "source": [
    "# max_depth > 2 ~8\n",
    "# min_samples_leafs  > 20~50\n",
    "# max_leaf_nodes > 10~20\n",
    "\n",
    "#그리드서치 할때 생각해 줘야하는게 "
   ]
  },
  {
   "cell_type": "code",
   "execution_count": 96,
   "id": "6dd37bcb",
   "metadata": {},
   "outputs": [],
   "source": [
    "# 학습할 하이퍼파라미터를 딕셔너리 형태로 저장( 그리드서치하려면 얘네들을 딕셔너리형태로 바꿔놔야함)\n",
    "param_grid = {\n",
    "    'max_depth' : [2,3,4,5],\n",
    "    'min_samples_leaf' : [1,2,3,4,5],\n",
    "    'max_leaf_nodes' : [15,17,19,21,23,25]\n",
    "}"
   ]
  },
  {
   "cell_type": "code",
   "execution_count": 88,
   "id": "77beff28",
   "metadata": {},
   "outputs": [],
   "source": [
    "grid_search = GridSearchCV(estimator = DecisionTreeClassifier(),param_grid= param_grid, cv=5)\n",
    "# 앞에는 속성이름, 뒤에있는건 우리가만들어논 변수이름"
   ]
  },
  {
   "cell_type": "code",
   "execution_count": 92,
   "id": "ce463437",
   "metadata": {},
   "outputs": [],
   "source": [
    "import warnings\n",
    "warnings.filterwarnings(action='ignore')"
   ]
  },
  {
   "cell_type": "code",
   "execution_count": 99,
   "id": "b7cd29c2",
   "metadata": {
    "scrolled": true
   },
   "outputs": [
    {
     "data": {
      "text/plain": [
       "GridSearchCV(cv=5, estimator=DecisionTreeClassifier(),\n",
       "             param_grid={'max_depth': [2, 4, 6, 8],\n",
       "                         'max_leaf_nodes': [1, 3, 6, 9],\n",
       "                         'min_samples_leaf': [20, 30, 40, 50]})"
      ]
     },
     "execution_count": 99,
     "metadata": {},
     "output_type": "execute_result"
    }
   ],
   "source": [
    "grid_search.fit(X_train,y_train)"
   ]
  },
  {
   "cell_type": "code",
   "execution_count": 100,
   "id": "b1f331b4",
   "metadata": {},
   "outputs": [
    {
     "data": {
      "text/plain": [
       "{'max_depth': 2, 'max_leaf_nodes': 3, 'min_samples_leaf': 20}"
      ]
     },
     "execution_count": 100,
     "metadata": {},
     "output_type": "execute_result"
    }
   ],
   "source": [
    "# best_params_ : 가장 좋았을때의 파라미터\n",
    "grid_search.best_params_"
   ]
  },
  {
   "cell_type": "code",
   "execution_count": 101,
   "id": "4b009195",
   "metadata": {},
   "outputs": [
    {
     "data": {
      "text/plain": [
       "0.9131053351573188"
      ]
     },
     "execution_count": 101,
     "metadata": {},
     "output_type": "execute_result"
    }
   ],
   "source": [
    "# best_score_ : 가장 좋았을때의 점수\n",
    "grid_search.best_score_"
   ]
  },
  {
   "cell_type": "code",
   "execution_count": null,
   "id": "53dc3c89",
   "metadata": {},
   "outputs": [],
   "source": []
  },
  {
   "cell_type": "code",
   "execution_count": null,
   "id": "1f1dadf7",
   "metadata": {},
   "outputs": [],
   "source": []
  }
 ],
 "metadata": {
  "kernelspec": {
   "display_name": "Python 3 (ipykernel)",
   "language": "python",
   "name": "python3"
  },
  "language_info": {
   "codemirror_mode": {
    "name": "ipython",
    "version": 3
   },
   "file_extension": ".py",
   "mimetype": "text/x-python",
   "name": "python",
   "nbconvert_exporter": "python",
   "pygments_lexer": "ipython3",
   "version": "3.9.7"
  }
 },
 "nbformat": 4,
 "nbformat_minor": 5
}
