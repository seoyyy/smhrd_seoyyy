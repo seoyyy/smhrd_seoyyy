{
 "cells": [
  {
   "cell_type": "code",
   "execution_count": 4,
   "id": "50e0eb31",
   "metadata": {},
   "outputs": [],
   "source": [
    "from sklearn.datasets import load_iris"
   ]
  },
  {
   "cell_type": "code",
   "execution_count": 5,
   "id": "87a3e5f5",
   "metadata": {},
   "outputs": [],
   "source": [
    "iris_data = load_iris()"
   ]
  },
  {
   "cell_type": "code",
   "execution_count": 6,
   "id": "3acd3749",
   "metadata": {},
   "outputs": [],
   "source": [
    "from sklearn.model_selection import train_test_split"
   ]
  },
  {
   "cell_type": "code",
   "execution_count": 7,
   "id": "cf0fe288",
   "metadata": {},
   "outputs": [],
   "source": [
    "X_train, X_test, y_train, y_test = train_test_split(iris_data['data'],   # 문제 - 키값데이터\n",
    "                 iris_data['target'],   # 정답\n",
    "                test_size=0.3,   \n",
    "                random_state=65)"
   ]
  },
  {
   "cell_type": "code",
   "execution_count": 8,
   "id": "f8cf6e06",
   "metadata": {},
   "outputs": [],
   "source": [
    "from sklearn.neighbors import KNeighborsClassifier"
   ]
  },
  {
   "cell_type": "code",
   "execution_count": 9,
   "id": "195fbd0b",
   "metadata": {},
   "outputs": [],
   "source": [
    "# 모델생성\n",
    "knn = KNeighborsClassifier(n_neighbors = 3)"
   ]
  },
  {
   "cell_type": "code",
   "execution_count": 10,
   "id": "9e7e2db1",
   "metadata": {},
   "outputs": [
    {
     "data": {
      "text/plain": [
       "KNeighborsClassifier(n_neighbors=3)"
      ]
     },
     "execution_count": 10,
     "metadata": {},
     "output_type": "execute_result"
    }
   ],
   "source": [
    "knn.fit(X_train,y_train)"
   ]
  },
  {
   "cell_type": "code",
   "execution_count": 11,
   "id": "5f62d12b",
   "metadata": {},
   "outputs": [],
   "source": [
    "from sklearn.model_selection import cross_val_score"
   ]
  },
  {
   "cell_type": "code",
   "execution_count": 13,
   "id": "5f79ad46",
   "metadata": {},
   "outputs": [
    {
     "name": "stdout",
     "output_type": "stream",
     "text": [
      "max_depth :  1 , score :  0.9715099715099715\n",
      "max_depth :  2 , score :  0.9715099715099715\n",
      "max_depth :  3 , score :  0.9715099715099715\n",
      "max_depth :  4 , score :  0.9715099715099715\n",
      "max_depth :  5 , score :  0.9715099715099715\n",
      "max_depth :  6 , score :  0.9715099715099715\n",
      "max_depth :  7 , score :  0.9715099715099715\n",
      "max_depth :  8 , score :  0.9715099715099715\n",
      "max_depth :  9 , score :  0.9715099715099715\n",
      "max_depth :  10 , score :  0.9715099715099715\n",
      "max_depth :  11 , score :  0.9715099715099715\n",
      "max_depth :  12 , score :  0.9715099715099715\n",
      "max_depth :  13 , score :  0.9715099715099715\n",
      "max_depth :  14 , score :  0.9715099715099715\n",
      "max_depth :  15 , score :  0.9715099715099715\n",
      "max_depth :  16 , score :  0.9715099715099715\n",
      "max_depth :  17 , score :  0.9715099715099715\n",
      "max_depth :  18 , score :  0.9715099715099715\n",
      "max_depth :  19 , score :  0.9715099715099715\n",
      "max_depth :  20 , score :  0.9715099715099715\n",
      "max_depth :  21 , score :  0.9715099715099715\n",
      "max_depth :  22 , score :  0.9715099715099715\n",
      "max_depth :  23 , score :  0.9715099715099715\n",
      "max_depth :  24 , score :  0.9715099715099715\n",
      "max_depth :  25 , score :  0.9715099715099715\n",
      "max_depth :  26 , score :  0.9715099715099715\n",
      "max_depth :  27 , score :  0.9715099715099715\n",
      "max_depth :  28 , score :  0.9715099715099715\n",
      "max_depth :  29 , score :  0.9715099715099715\n",
      "max_depth :  30 , score :  0.9715099715099715\n",
      "max_depth :  31 , score :  0.9715099715099715\n",
      "max_depth :  32 , score :  0.9715099715099715\n",
      "max_depth :  33 , score :  0.9715099715099715\n",
      "max_depth :  34 , score :  0.9715099715099715\n",
      "max_depth :  35 , score :  0.9715099715099715\n",
      "max_depth :  36 , score :  0.9715099715099715\n",
      "max_depth :  37 , score :  0.9715099715099715\n",
      "max_depth :  38 , score :  0.9715099715099715\n",
      "max_depth :  39 , score :  0.9715099715099715\n",
      "max_depth :  40 , score :  0.9715099715099715\n",
      "max_depth :  41 , score :  0.9715099715099715\n",
      "max_depth :  42 , score :  0.9715099715099715\n",
      "max_depth :  43 , score :  0.9715099715099715\n",
      "max_depth :  44 , score :  0.9715099715099715\n",
      "max_depth :  45 , score :  0.9715099715099715\n",
      "max_depth :  46 , score :  0.9715099715099715\n",
      "max_depth :  47 , score :  0.9715099715099715\n",
      "max_depth :  48 , score :  0.9715099715099715\n",
      "max_depth :  49 , score :  0.9715099715099715\n"
     ]
    }
   ],
   "source": [
    "for md in range(1,50):\n",
    "    knn = KNeighborsClassifier(n_neighbors = 3)\n",
    "\n",
    "    result = cross_val_score(knn, X_train, y_train, cv = 4 ).mean()\n",
    "    print('max_depth : ' ,md, ', score : ', result)"
   ]
  },
  {
   "cell_type": "code",
   "execution_count": null,
   "id": "930f573c",
   "metadata": {},
   "outputs": [],
   "source": []
  },
  {
   "cell_type": "code",
   "execution_count": null,
   "id": "41f8d2bf",
   "metadata": {},
   "outputs": [],
   "source": []
  }
 ],
 "metadata": {
  "kernelspec": {
   "display_name": "Python 3 (ipykernel)",
   "language": "python",
   "name": "python3"
  },
  "language_info": {
   "codemirror_mode": {
    "name": "ipython",
    "version": 3
   },
   "file_extension": ".py",
   "mimetype": "text/x-python",
   "name": "python",
   "nbconvert_exporter": "python",
   "pygments_lexer": "ipython3",
   "version": "3.9.7"
  }
 },
 "nbformat": 4,
 "nbformat_minor": 5
}
