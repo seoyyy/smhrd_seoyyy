{
 "cells": [
  {
   "cell_type": "code",
   "execution_count": 1,
   "id": "10957609",
   "metadata": {},
   "outputs": [],
   "source": [
    "import numpy as np\n",
    "import pandas as pd\n",
    "import matplotlib.pyplot as plt\n",
    "import seaborn as sns # 시각화 라이브러리"
   ]
  },
  {
   "cell_type": "code",
   "execution_count": 7,
   "id": "7abe7108",
   "metadata": {},
   "outputs": [],
   "source": [
    "train = pd.read_csv('./data/Train.csv')\n",
    "test = pd.read_csv('./data/Test.csv')"
   ]
  },
  {
   "cell_type": "code",
   "execution_count": 3,
   "id": "7b7b1cca",
   "metadata": {},
   "outputs": [
    {
     "data": {
      "text/plain": [
       "(6999, 12)"
      ]
     },
     "execution_count": 3,
     "metadata": {},
     "output_type": "execute_result"
    }
   ],
   "source": [
    "train.shape"
   ]
  },
  {
   "cell_type": "code",
   "execution_count": 4,
   "id": "f104e03e",
   "metadata": {},
   "outputs": [
    {
     "data": {
      "text/plain": [
       "(4000, 11)"
      ]
     },
     "execution_count": 4,
     "metadata": {},
     "output_type": "execute_result"
    }
   ],
   "source": [
    "test.shape"
   ]
  },
  {
   "cell_type": "code",
   "execution_count": 8,
   "id": "f0b4c172",
   "metadata": {},
   "outputs": [
    {
     "name": "stdout",
     "output_type": "stream",
     "text": [
      "<class 'pandas.core.frame.DataFrame'>\n",
      "RangeIndex: 6999 entries, 0 to 6998\n",
      "Data columns (total 12 columns):\n",
      " #   Column               Non-Null Count  Dtype  \n",
      "---  ------               --------------  -----  \n",
      " 0   ID                   6999 non-null   int64  \n",
      " 1   Warehouse_block      6999 non-null   object \n",
      " 2   Mode_of_Shipment     6999 non-null   object \n",
      " 3   Customer_care_calls  5423 non-null   float64\n",
      " 4   Customer_rating      6999 non-null   int64  \n",
      " 5   Cost_of_the_Product  6999 non-null   int64  \n",
      " 6   Prior_purchases      6049 non-null   float64\n",
      " 7   Product_importance   6999 non-null   object \n",
      " 8   Gender               6999 non-null   object \n",
      " 9   Discount_offered     3468 non-null   float64\n",
      " 10  Weight_in_gms        6999 non-null   object \n",
      " 11  Reached.on.Time_Y.N  6999 non-null   int64  \n",
      "dtypes: float64(3), int64(4), object(5)\n",
      "memory usage: 656.3+ KB\n"
     ]
    }
   ],
   "source": [
    "train.info()"
   ]
  },
  {
   "cell_type": "code",
   "execution_count": 9,
   "id": "61b50887",
   "metadata": {},
   "outputs": [
    {
     "name": "stdout",
     "output_type": "stream",
     "text": [
      "<class 'pandas.core.frame.DataFrame'>\n",
      "RangeIndex: 4000 entries, 0 to 3999\n",
      "Data columns (total 11 columns):\n",
      " #   Column               Non-Null Count  Dtype  \n",
      "---  ------               --------------  -----  \n",
      " 0   ID                   4000 non-null   int64  \n",
      " 1   Warehouse_block      4000 non-null   object \n",
      " 2   Mode_of_Shipment     4000 non-null   object \n",
      " 3   Customer_care_calls  3144 non-null   float64\n",
      " 4   Customer_rating      4000 non-null   int64  \n",
      " 5   Cost_of_the_Product  4000 non-null   int64  \n",
      " 6   Prior_purchases      3633 non-null   float64\n",
      " 7   Product_importance   4000 non-null   object \n",
      " 8   Gender               4000 non-null   object \n",
      " 9   Discount_offered     2085 non-null   float64\n",
      " 10  Weight_in_gms        4000 non-null   object \n",
      "dtypes: float64(3), int64(3), object(5)\n",
      "memory usage: 343.9+ KB\n"
     ]
    }
   ],
   "source": [
    "test.info()"
   ]
  },
  {
   "cell_type": "code",
   "execution_count": 10,
   "id": "1ebe463d",
   "metadata": {},
   "outputs": [],
   "source": [
    "train.drop('ID',axis =1 ,inplace=True)\n",
    "test.drop('ID',axis =1 ,inplace=True)"
   ]
  },
  {
   "cell_type": "code",
   "execution_count": 11,
   "id": "3a96e34a",
   "metadata": {},
   "outputs": [],
   "source": [
    "test.drop('Gender',axis =1, inplace=True)\n",
    "train.drop('Gender',axis =1, inplace=True)"
   ]
  },
  {
   "cell_type": "code",
   "execution_count": null,
   "id": "c766f8c1",
   "metadata": {},
   "outputs": [],
   "source": [
    "def fill_Customer_care_calls(row):\n",
    "    # 만약 나이가 결측치라면 피봇테이블에서 값을 가져와서 채우겠다.\n",
    "    if np.isnan(row['Prior_purchases']):\n",
    "        return test['Customer_care_calls'].fillna(0,inplace=True)\n",
    "    else:\n",
    "        return test['Customer_care_calls'].fillna(4,inplace=True)\n",
    "    \n",
    "def fill_Customer_care_calls(row):\n",
    "    # 만약 나이가 결측치라면 피봇테이블에서 값을 가져와서 채우겠다.\n",
    "    if np.isnan(row['Prior_purchases']):\n",
    "        return train['Customer_care_calls'].fillna(0,inplace=True)\n",
    "    else:\n",
    "        return test['Customer_care_calls'].fillna(4,inplace=True)"
   ]
  },
  {
   "cell_type": "code",
   "execution_count": null,
   "id": "01da40fe",
   "metadata": {},
   "outputs": [],
   "source": []
  },
  {
   "cell_type": "code",
   "execution_count": null,
   "id": "a19cca83",
   "metadata": {},
   "outputs": [],
   "source": []
  },
  {
   "cell_type": "code",
   "execution_count": null,
   "id": "29f740c1",
   "metadata": {},
   "outputs": [],
   "source": []
  },
  {
   "cell_type": "code",
   "execution_count": null,
   "id": "9a9b4b9c",
   "metadata": {},
   "outputs": [],
   "source": []
  },
  {
   "cell_type": "code",
   "execution_count": null,
   "id": "4cd3f013",
   "metadata": {},
   "outputs": [],
   "source": []
  },
  {
   "cell_type": "code",
   "execution_count": null,
   "id": "309a674d",
   "metadata": {},
   "outputs": [],
   "source": []
  },
  {
   "cell_type": "code",
   "execution_count": null,
   "id": "b0cc44ca",
   "metadata": {},
   "outputs": [],
   "source": []
  },
  {
   "cell_type": "code",
   "execution_count": null,
   "id": "373d0a56",
   "metadata": {},
   "outputs": [],
   "source": []
  },
  {
   "cell_type": "code",
   "execution_count": null,
   "id": "c57090e6",
   "metadata": {},
   "outputs": [],
   "source": []
  },
  {
   "cell_type": "code",
   "execution_count": null,
   "id": "5945de42",
   "metadata": {},
   "outputs": [],
   "source": []
  },
  {
   "cell_type": "code",
   "execution_count": null,
   "id": "ab5a19cb",
   "metadata": {},
   "outputs": [],
   "source": []
  },
  {
   "cell_type": "code",
   "execution_count": null,
   "id": "bcf59edc",
   "metadata": {},
   "outputs": [],
   "source": []
  },
  {
   "cell_type": "code",
   "execution_count": null,
   "id": "29ffc0cf",
   "metadata": {},
   "outputs": [],
   "source": []
  },
  {
   "cell_type": "code",
   "execution_count": null,
   "id": "b05d02ae",
   "metadata": {},
   "outputs": [],
   "source": []
  },
  {
   "cell_type": "code",
   "execution_count": null,
   "id": "a6a604ad",
   "metadata": {},
   "outputs": [],
   "source": []
  }
 ],
 "metadata": {
  "kernelspec": {
   "display_name": "Python 3 (ipykernel)",
   "language": "python",
   "name": "python3"
  },
  "language_info": {
   "codemirror_mode": {
    "name": "ipython",
    "version": 3
   },
   "file_extension": ".py",
   "mimetype": "text/x-python",
   "name": "python",
   "nbconvert_exporter": "python",
   "pygments_lexer": "ipython3",
   "version": "3.9.7"
  }
 },
 "nbformat": 4,
 "nbformat_minor": 5
}
